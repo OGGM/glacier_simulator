{
 "cells": [
  {
   "cell_type": "markdown",
   "metadata": {},
   "source": [
    "# OGGM glacier simulator"
   ]
  },
  {
   "cell_type": "markdown",
   "metadata": {},
   "source": [
    "App to initialize a simple glacier and look how it develops under changing mass balance profiles."
   ]
  },
  {
   "cell_type": "markdown",
   "metadata": {},
   "source": [
    "## Import packages"
   ]
  },
  {
   "cell_type": "markdown",
   "metadata": {},
   "source": [
    "import plotting libaries"
   ]
  },
  {
   "cell_type": "code",
   "execution_count": null,
   "metadata": {},
   "outputs": [],
   "source": [
    "import holoviews as hv\n",
    "from holoviews import opts\n",
    "from holoviews.streams import Stream, param\n",
    "import panel as pn\n",
    "\n",
    "# is needed for linecolor by velocity/thickness colorplots\n",
    "from bokeh.transform import linear_cmap\n",
    "\n",
    "hv.extension('bokeh', width=100)\n",
    "pn.extension()"
   ]
  },
  {
   "cell_type": "markdown",
   "metadata": {},
   "source": [
    "import OGGM packages"
   ]
  },
  {
   "cell_type": "code",
   "execution_count": null,
   "metadata": {},
   "outputs": [],
   "source": [
    "# Constants for initialization\n",
    "from functools import partial\n",
    "from oggm.core.flowline import FluxBasedModel, RectangularBedFlowline, TrapezoidalBedFlowline, ParabolicBedFlowline\n",
    "from oggm.core.massbalance import LinearMassBalance\n",
    "from oggm import cfg\n",
    "cfg.initialize()\n",
    "\n",
    "# There are several solvers in OGGM core. We use the default one for this experiment\n",
    "FlowlineModel = partial(FluxBasedModel, min_dt=0, cfl_number=0.01)"
   ]
  },
  {
   "cell_type": "markdown",
   "metadata": {},
   "source": [
    "and some other useful packages"
   ]
  },
  {
   "cell_type": "code",
   "execution_count": null,
   "metadata": {},
   "outputs": [],
   "source": [
    "import numpy as np"
   ]
  },
  {
   "cell_type": "markdown",
   "metadata": {},
   "source": [
    "## Define some variables for model and plotting"
   ]
  },
  {
   "cell_type": "code",
   "execution_count": null,
   "metadata": {},
   "outputs": [],
   "source": [
    "# number of steps from bottem to top of glacier\n",
    "nx = 200\n",
    "\n",
    "# model grid spacing in m\n",
    "map_dx = 100\n",
    "\n",
    "# distance along glacier (x-axis of glacier profil plot) in km\n",
    "distance_along_glacier = np.linspace(0, nx, nx) * map_dx * 1e-3\n",
    "\n",
    "# default tools for plot\n",
    "default_tools = ['save', 'box_zoom', 'reset']\n",
    "\n",
    "# glacier top height\n",
    "glacier_top_height = 4000\n",
    "\n",
    "# glacier bottom height\n",
    "glacier_bottom_height = 0\n",
    "\n",
    "# Variable to follow which text is currently displayed in the headerline\n",
    "header_text_status = 0\n",
    "\n",
    "# colormap for velocity and thickness\n",
    "colormap = ['#5ebaff', '#00faf4', '#ffffcc',\n",
    "            '#ffe775', '#ffc140', '#ff8f20', '#ff6060']\n",
    "\n",
    "# define nan array for glacier outline plotting in width plot\n",
    "nan_array = np.empty(nx)\n",
    "nan_array.fill(np.nan)"
   ]
  },
  {
   "cell_type": "markdown",
   "metadata": {},
   "source": [
    "## Define values for slider:"
   ]
  },
  {
   "cell_type": "code",
   "execution_count": null,
   "metadata": {},
   "outputs": [],
   "source": [
    "# ELA height\n",
    "ELA_height_min = 0\n",
    "ELA_height_max = 4000\n",
    "ELA_height_default = 3000\n",
    "ELA_height_step = 100\n",
    "\n",
    "# mass balance gradient\n",
    "mb_gradient_max = 15\n",
    "mb_gradient_min = 1\n",
    "mb_gradient_default = 4\n",
    "mb_gradient_step = 1\n",
    "\n",
    "# years of calculation\n",
    "years_min = 10\n",
    "years_max = 1000\n",
    "years_default = 150\n",
    "years_step = 10\n",
    "\n",
    "# linear bed rock slope\n",
    "bed_rock_slope_values = ['steepest', 'steeper',\n",
    "                         'steep', 'flat', 'flatter', 'flattest']\n",
    "bed_rock_slope_default = 'flat'\n",
    "\n",
    "# bed rock profile\n",
    "bed_rock_profile_values = [\n",
    "    'linear', 'getting flatter', 'getting steeper', 'cliff']\n",
    "bed_rock_profile_default = 'linear'\n",
    "\n",
    "# bed rock width\n",
    "bed_rock_width_values = ['constant', 'getting narrower', 'getting wider',\n",
    "                         'wide at the top and narrow at the bottom']\n",
    "bed_rock_width_default = 'constant'\n",
    "\n",
    "# Glen's creep parameter\n",
    "glens_creep_parameter_values = ['small', 'default', 'large']\n",
    "glens_creep_parameter_default = 'default'\n",
    "\n",
    "# sliding parameter\n",
    "sliding_parameter_values = ['no sliding', 'sliding']\n",
    "sliding_parameter_default = 'no sliding'\n",
    "\n",
    "# model dyears (how often the model state should be shown)\n",
    "dyears_model_start = 1\n",
    "dyears_model_end = 100\n",
    "dyears_model_step = 1\n",
    "dyears_model_default = 10\n",
    "\n",
    "# maximum calculation years of model (before it gets interrupted)\n",
    "max_calc_years_start = 100\n",
    "max_calc_years_end = 5000\n",
    "max_calc_years_step = 100\n",
    "max_calc_years_default = 1000"
   ]
  },
  {
   "cell_type": "markdown",
   "metadata": {},
   "source": [
    "## Define global model variables:"
   ]
  },
  {
   "cell_type": "code",
   "execution_count": null,
   "metadata": {},
   "outputs": [],
   "source": [
    "bed_h = np.linspace(glacier_top_height, 0, nx)\n",
    "mb_model = []\n",
    "model = []\n",
    "run_surface_heights = []\n",
    "glacier_outlines = []\n",
    "glen_a = cfg.PARAMS['glen_a']\n",
    "fs = 0\n",
    "ELA_x_position = 0\n",
    "\n",
    "# define width, so glacier bed could be created when plot is created (after creation model is ready)\n",
    "widths = np.zeros(nx) + 4.\n",
    "\n",
    "# is needed so there is always a 'change' and the dynamic plot is reacting\n",
    "run_loop_count = 0\n",
    "\n",
    "# years after the model progress should be shown\n",
    "dyears = dyears_model_default\n",
    "\n",
    "# years after model should be aborted\n",
    "max_calc_years = max_calc_years_default"
   ]
  },
  {
   "cell_type": "markdown",
   "metadata": {},
   "source": [
    "## Define global curves:"
   ]
  },
  {
   "cell_type": "code",
   "execution_count": null,
   "metadata": {},
   "outputs": [],
   "source": [
    "bed_rock_height_curve = []\n",
    "bed_rock_width_curve = []\n",
    "glacier_height_curve = []\n",
    "mb_curve = []\n",
    "width_curve = []\n",
    "info_text = []"
   ]
  },
  {
   "cell_type": "markdown",
   "metadata": {},
   "source": [
    "## Define Headerline with help functionality"
   ]
  },
  {
   "cell_type": "markdown",
   "metadata": {},
   "source": [
    "### help functions for Headerline buttons"
   ]
  },
  {
   "cell_type": "code",
   "execution_count": null,
   "metadata": {},
   "outputs": [],
   "source": [
    "def next_help_button_click(arg=None):\n",
    "    global header_text_status\n",
    "\n",
    "    header_text_status += 1\n",
    "\n",
    "    help_function()\n",
    "\n",
    "\n",
    "def previous_help_button_click(arg=None):\n",
    "    global header_text_status\n",
    "\n",
    "    header_text_status -= 1\n",
    "\n",
    "    help_function()"
   ]
  },
  {
   "cell_type": "markdown",
   "metadata": {},
   "source": [
    "### define elements of Headerline"
   ]
  },
  {
   "cell_type": "code",
   "execution_count": null,
   "metadata": {},
   "outputs": [],
   "source": [
    "header_text_default = ('<div style=\"font-size:20px\">OGGM edu glacier simulator</div>' +\n",
    "                       'With this app you can simulate idealized glaciers with the ' +\n",
    "                       '<a href=\"https://oggm.org\">OGGM</a> model. If you are not familiar with glaciers at all ' +\n",
    "                       'click on \"next\" to go through an introduction. <br>This app was realised ' +\n",
    "                       'using tools of <a href=\"https://holoviz.org\">HoloViz</a>.')\n",
    "header_text = pn.pane.Markdown(\n",
    "    header_text_default, sizing_mode='stretch_width')\n",
    "\n",
    "oggm_edu_logo = '<a href=\"http://edu.oggm.org\"><img src=\"http://edu.oggm.org/en/latest/_images/oggm.gif\" width=170></a>'\n",
    "hv_logo = '<a href=\"https://holoviz.org\"><img src=\"https://holoviz.org/assets/holoviz-logo-stacked.svg\" width=80></a>'\n",
    "\n",
    "next_help_button = pn.widgets.Button(disabled=False,\n",
    "                                     name='next',\n",
    "                                     button_type='success',\n",
    "                                     width=75)\n",
    "next_help_button.param.watch(next_help_button_click, 'clicks')\n",
    "\n",
    "previous_help_button = pn.widgets.Button(disabled=True,\n",
    "                                         name='previous',\n",
    "                                         button_type='danger',\n",
    "                                         width=75)\n",
    "previous_help_button.param.watch(previous_help_button_click, 'clicks');"
   ]
  },
  {
   "cell_type": "markdown",
   "metadata": {},
   "source": [
    "### Put actual Headerline together"
   ]
  },
  {
   "cell_type": "code",
   "execution_count": null,
   "metadata": {},
   "outputs": [],
   "source": [
    "header = pn.Row(pn.Pane(oggm_edu_logo),\n",
    "                pn.layout.Spacer(width=10),\n",
    "                header_text,\n",
    "                pn.Column(pn.layout.Spacer(),\n",
    "                          previous_help_button,\n",
    "                          next_help_button),\n",
    "                pn.layout.Spacer(),\n",
    "                pn.Pane(hv_logo, width=80), height=120, sizing_mode='stretch_width')"
   ]
  },
  {
   "cell_type": "markdown",
   "metadata": {},
   "source": [
    "### define actual help function with help text"
   ]
  },
  {
   "cell_type": "code",
   "execution_count": null,
   "metadata": {},
   "outputs": [],
   "source": [
    "def help_function():\n",
    "    global header_text_status\n",
    "\n",
    "    if header_text_status == 0:\n",
    "        header_text.object = header_text_default\n",
    "        previous_help_button.disabled = True\n",
    "\n",
    "    elif header_text_status == 1:\n",
    "        header_text.object = ('<div style=\"font-size:20px\">OGGM edu glacier simulator beginner tour</div>' +\n",
    "                              'Welcome to the beginner tour of the <a href=\"http://edu.oggm.org\">OGGM edu</a> ' +\n",
    "                              'glacier simulater. To navigate through the tour use the \"next\" button to the right ' +\n",
    "                              'to continue the tour or \"previous\" to see the last page again. So lets start with a ' +\n",
    "                              'click on \"next\"!')\n",
    "        previous_help_button.disabled = False\n",
    "\n",
    "    elif header_text_status == 2:\n",
    "        tab_menu.active = 0\n",
    "        header_text.object = ('First let\\'s have a look at the figures on the left side. The top figure shows ' +\n",
    "                              'the glacierbed from the side in gray. The dark blue line shows the current glacier ' +\n",
    "                              'state and you can see at the beginning this line follows the glacierbed, so there ' +\n",
    "                              'is no glacier. The figure below shows the glacier from above and the dark gray areas ' +\n",
    "                              'indicate the boarder of the glacierbed. So now click on the \"run the model\" ' +\n",
    "                              'button to see the glacier grow and then on \"next\".')\n",
    "\n",
    "    elif header_text_status == 3:\n",
    "        header_text.object = ('So now you can see the thickness of the glacier in the top figure and the length of ' +\n",
    "                              'the glacier in the bottom figure. If you want to zoom in you can do this by clicking ' +\n",
    "                              'into one of the figures, hold the click and draw an rectangle. You can see that if ' +\n",
    "                              'you zoom in into one figure the others automatically rezoom to the same extent. ' +\n",
    "                              'To go back to the original extent click on the \"Reset\" button to the right of the ' +\n",
    "                              'figures (two arrows forming a circle). After playing around with the zoom click ' +\n",
    "                              'on \"next\".')\n",
    "\n",
    "    elif header_text_status == 4:\n",
    "        header_text.object = ('Now we are concentrating on the figure in the top right corner. This figure shows ' +\n",
    "                              'the height dependent annual mass balance. But what is the annual mass balance? ' +\n",
    "                              'The unit is meter per year, so when the annual mass balance at a specific height ' +\n",
    "                              'is positive the glacier had gain mass during one year, so in other words ' +\n",
    "                              'there were more accumulation (mass gain through e.g. snowfall or wind drift) ' +\n",
    "                              'than ablation (mass loss through e.g. melting or wind drift) happening. Such a positive ' +\n",
    "                              'annual mass balance is indicated with the green area in the figure and red indicates ' +\n",
    "                              'a mass loss. (\"next\")')\n",
    "\n",
    "    elif header_text_status == 5:\n",
    "        header_text.object = ('In between the green (mass gain) and the red area (mass loss) you can see a dashed ' +\n",
    "                              'black line with the annotation ELA, which stands for Equilibrium Line Altitude. ' +\n",
    "                              'At this altitude the glacier do not change his mass during one year. And the black ' +\n",
    "                              'solid line shows the actual mass balance for each altitude band. Through the glacier ' +\n",
    "                              'flow mass is transported from higher altitudes down. For a more detailed ' +\n",
    "                              'explenation of the mass balance concept you can click on this ' +\n",
    "                              '<a href=http://www.antarcticglaciers.org/glacier-processes/introduction-glacier-mass-' +\n",
    "                              'balance/#SECTION_1>link</a>. (\"next\")')\n",
    "\n",
    "    elif header_text_status == 6:\n",
    "        header_text.object = ('Summarizing the annual mass balance determines the ' +\n",
    "                              '\"behavior\" of the glacier, e.g. how large can it become, at which altitudes the glacier ' +\n",
    "                              'can survive. So always you click on the \"run the model\" button the model is starting ' +\n",
    "                              'from zero and develops the glacier until it is in equilibrium with annual mass balance, ' +\n",
    "                              'this means the glacier geometry is not changing anymore, although internal the glacier ' +\n",
    "                              'is still moving mass from higher altitudes to lower ones. So now we start playing ' +\n",
    "                              'around with the model and look how different parameters change the geometry of the ' +\n",
    "                              'glacier. (\"next\")')\n",
    "        next_help_button.disabled = False\n",
    "\n",
    "    elif header_text_status == 7:\n",
    "        header_text.object = ('You can see that there are three parameters to play with in the beginners mode: the ' +\n",
    "                              'slope of the bedrock, the width of the bedrock and the ELA (equilibrium line altitude). ' +\n",
    "                              'At the beginning you should only change one parameter to see how it effects the glacier.' +\n",
    "                              '(end of Tour until now, more will come soon)')\n",
    "        next_help_button.disabled = True"
   ]
  },
  {
   "cell_type": "markdown",
   "metadata": {},
   "source": [
    "## Define Panels for tab menu"
   ]
  },
  {
   "cell_type": "code",
   "execution_count": null,
   "metadata": {},
   "outputs": [],
   "source": [
    "# define background color of tab menu\n",
    "tab_background = '#fafafa'"
   ]
  },
  {
   "cell_type": "markdown",
   "metadata": {},
   "source": [
    "### Panel for beginner mode"
   ]
  },
  {
   "cell_type": "markdown",
   "metadata": {},
   "source": [
    "beginner button function"
   ]
  },
  {
   "cell_type": "code",
   "execution_count": null,
   "metadata": {},
   "outputs": [],
   "source": [
    "def beginner_button_click(arg=None):\n",
    "    # set Variables not changeable in beginner mode to there default values\n",
    "    mb_gradient.value = mb_gradient_default\n",
    "    bed_rock_profile.value = bed_rock_profile_default\n",
    "    glens_creep_parameter.value = glens_creep_parameter_default\n",
    "    sliding_parameter.value = sliding_parameter_default\n",
    "\n",
    "    # for consitency set values of the advanced mode\n",
    "    ELA_height_advanced.value = ELA_height.value\n",
    "    bed_rock_width_advanced.value = bed_rock_width.value\n",
    "    bed_rock_slope_advanced.value = bed_rock_slope.value\n",
    "\n",
    "    # set numeric values out of selection\n",
    "    set_glen_a()\n",
    "    set_fs()\n",
    "\n",
    "    run_the_model(stage='beginner mode')"
   ]
  },
  {
   "cell_type": "markdown",
   "metadata": {},
   "source": [
    "actual beginner Panel"
   ]
  },
  {
   "cell_type": "code",
   "execution_count": null,
   "metadata": {
    "scrolled": true
   },
   "outputs": [],
   "source": [
    "bed_rock_slope = pn.widgets.Select(name='slope of bedrock profile',\n",
    "                                   options=bed_rock_slope_values,\n",
    "                                   value=bed_rock_slope_default,\n",
    "                                   sizing_mode='stretch_width')\n",
    "\n",
    "bed_rock_width = pn.widgets.Select(name='width along glacier',\n",
    "                                   options=bed_rock_width_values,\n",
    "                                   value=bed_rock_width_default,\n",
    "                                   sizing_mode='stretch_width')\n",
    "\n",
    "ELA_height = pn.widgets.IntSlider(name='ELA (equilibrium line altitude)',\n",
    "                                  start=ELA_height_min,\n",
    "                                  end=ELA_height_max,\n",
    "                                  step=ELA_height_step,\n",
    "                                  value=ELA_height_default,\n",
    "                                  sizing_mode='stretch_width')\n",
    "\n",
    "beginner_button = pn.widgets.Button(name='run the model',\n",
    "                                    button_type='primary')\n",
    "beginner_button.param.watch(beginner_button_click, 'clicks')\n",
    "\n",
    "beginner_panel = pn.Column(pn.Row(bed_rock_slope, bed_rock_width, ELA_height),\n",
    "                           beginner_button,\n",
    "                           background=tab_background,\n",
    "                           sizing_mode='stretch_width')"
   ]
  },
  {
   "cell_type": "markdown",
   "metadata": {},
   "source": [
    "### Panel for advanced mode"
   ]
  },
  {
   "cell_type": "markdown",
   "metadata": {},
   "source": [
    "advanced button help functions"
   ]
  },
  {
   "cell_type": "code",
   "execution_count": null,
   "metadata": {},
   "outputs": [],
   "source": [
    "def advance_model_click():\n",
    "    # for consitency set values of the advanced mode\n",
    "    ELA_height.value = ELA_height_advanced.value\n",
    "    bed_rock_width.value = bed_rock_width_advanced.value\n",
    "    bed_rock_slope.value = bed_rock_slope_advanced.value\n",
    "\n",
    "    # set numeric values out of selection\n",
    "    set_glen_a()\n",
    "    set_fs()"
   ]
  },
  {
   "cell_type": "markdown",
   "metadata": {},
   "source": [
    "advanced button functions"
   ]
  },
  {
   "cell_type": "code",
   "execution_count": null,
   "metadata": {},
   "outputs": [],
   "source": [
    "def run_model_equilibrium_button_click(arg=None):\n",
    "    advance_model_click()\n",
    "    run_the_model(stage='advance equilibrium')\n",
    "\n",
    "\n",
    "def run_model_years_button_click(arg=None):\n",
    "    advance_model_click()\n",
    "    run_the_model(stage='advance years')\n",
    "\n",
    "\n",
    "def create_new_model_button_click(arg=None):\n",
    "    bed_rock_width.value = bed_rock_width_advanced.value\n",
    "    bed_rock_slope.value = bed_rock_slope_advanced.value\n",
    "\n",
    "    main_figure.event(button_name='new model',\n",
    "                      clicks=create_new_model_button.clicks)"
   ]
  },
  {
   "cell_type": "markdown",
   "metadata": {},
   "source": [
    "actual advanced Panel"
   ]
  },
  {
   "cell_type": "code",
   "execution_count": null,
   "metadata": {},
   "outputs": [],
   "source": [
    "mb_gradient = pn.widgets.IntSlider(name='mass balance gradient',\n",
    "                                   start=mb_gradient_min,\n",
    "                                   end=mb_gradient_max,\n",
    "                                   step=mb_gradient_step,\n",
    "                                   value=mb_gradient_default,\n",
    "                                   sizing_mode='stretch_width')\n",
    "\n",
    "bed_rock_profile = pn.widgets.Select(name='bedrock profile',\n",
    "                                     options=bed_rock_profile_values,\n",
    "                                     value=bed_rock_profile_default,\n",
    "                                     sizing_mode='stretch_width')\n",
    "\n",
    "ELA_height_advanced = pn.widgets.IntSlider(name='ELA',\n",
    "                                           start=ELA_height_min,\n",
    "                                           end=ELA_height_max,\n",
    "                                           step=ELA_height_step,\n",
    "                                           value=ELA_height_default,\n",
    "                                           sizing_mode='stretch_width')\n",
    "\n",
    "bed_rock_slope_advanced = pn.widgets.Select(name='slope of linear bedrock profile',\n",
    "                                            options=bed_rock_slope_values,\n",
    "                                            value=bed_rock_slope_default,\n",
    "                                            sizing_mode='stretch_width')\n",
    "\n",
    "bed_rock_width_advanced = pn.widgets.Select(name='width along glacier',\n",
    "                                            options=bed_rock_width_values,\n",
    "                                            value=bed_rock_width_default,\n",
    "                                            sizing_mode='stretch_width')\n",
    "\n",
    "glens_creep_parameter = pn.widgets.Select(name=\"Glen's creep parameter\",\n",
    "                                          options=glens_creep_parameter_values,\n",
    "                                          value=glens_creep_parameter_default,\n",
    "                                          sizing_mode='stretch_width')\n",
    "\n",
    "sliding_parameter = pn.widgets.RadioBoxGroup(name='Sliding parameter',\n",
    "                                             options=sliding_parameter_values,\n",
    "                                             value=sliding_parameter_default,\n",
    "                                             inline=True,\n",
    "                                             sizing_mode='stretch_width')\n",
    "\n",
    "run_model_years = pn.widgets.IntSlider(name='years to advance model',\n",
    "                                       start=years_min,\n",
    "                                       end=years_max,\n",
    "                                       step=years_step,\n",
    "                                       value=years_default,\n",
    "                                       sizing_mode='stretch_width')\n",
    "\n",
    "run_model_equilibrium_button = pn.widgets.Button(name='run to equilibrium',\n",
    "                                                 button_type='primary',\n",
    "                                                 sizing_mode='stretch_width')\n",
    "run_model_equilibrium_button.param.watch(\n",
    "    run_model_equilibrium_button_click, 'clicks')\n",
    "\n",
    "run_model_years_button = pn.widgets.Button(name='advance model',\n",
    "                                           button_type='primary',\n",
    "                                           sizing_mode='stretch_width')\n",
    "run_model_years_button.param.watch(run_model_years_button_click, 'clicks')\n",
    "\n",
    "create_new_model_button = pn.widgets.Button(name='start new model',\n",
    "                                            button_type='primary',\n",
    "                                            sizing_mode='stretch_width')\n",
    "create_new_model_button.param.watch(create_new_model_button_click, 'clicks')\n",
    "\n",
    "advanced_panel = pn.Tabs(('run the model',\n",
    "                          pn.Row(pn.Column(ELA_height_advanced,\n",
    "                                           mb_gradient,\n",
    "                                           sizing_mode='stretch_width'),\n",
    "                                 pn.Column(glens_creep_parameter,\n",
    "                                           sliding_parameter,\n",
    "                                           sizing_mode='stretch_width'),\n",
    "                                 pn.Column(run_model_years,\n",
    "                                           sizing_mode='stretch_width'),\n",
    "                                 pn.Column(run_model_years_button,\n",
    "                                           run_model_equilibrium_button,\n",
    "                                           sizing_mode='stretch_width'),\n",
    "                                 sizing_mode='stretch_width')),\n",
    "                         ('create new model',\n",
    "                          pn.Column(pn.Row(bed_rock_profile,\n",
    "                                           bed_rock_slope_advanced,\n",
    "                                           bed_rock_width_advanced),\n",
    "                                    create_new_model_button,\n",
    "                                    sizing_mode='stretch_width')),\n",
    "                         background=tab_background)"
   ]
  },
  {
   "cell_type": "markdown",
   "metadata": {},
   "source": [
    "### Panel for help"
   ]
  },
  {
   "cell_type": "markdown",
   "metadata": {},
   "source": [
    "help functions for buttons"
   ]
  },
  {
   "cell_type": "code",
   "execution_count": null,
   "metadata": {},
   "outputs": [],
   "source": [
    "def beginner_introduction_button_click(arg=None):\n",
    "    global header_text_status\n",
    "\n",
    "    # just to be sure the buttons are activated\n",
    "    next_help_button.disabled = False\n",
    "    previous_help_button.disabled = False\n",
    "\n",
    "    # choose the start page of the beginner tour\n",
    "    header_text_status = 1\n",
    "    help_function()\n",
    "\n",
    "\n",
    "def advanced_introduction_button_click(arg=None):\n",
    "    pass\n",
    "\n",
    "\n",
    "def show_subfigure_explenation_button_click(arg=None):\n",
    "    pass\n",
    "\n",
    "\n",
    "def show_parameter_explenation_button_click(arg=None):\n",
    "    pass"
   ]
  },
  {
   "cell_type": "markdown",
   "metadata": {},
   "source": [
    "actual help Panel"
   ]
  },
  {
   "cell_type": "code",
   "execution_count": null,
   "metadata": {},
   "outputs": [],
   "source": [
    "help_intro_text = pn.pane.Markdown('Here you can jump to different sections of the help tour. The help will be shown ' +\n",
    "                                   'in the Headerline and you can navigate through with the \"next\" and \"previous\" button. ',\n",
    "                                   sizing_mode='stretch_width', height=20)\n",
    "\n",
    "beginner_introduction_button = pn.widgets.Button(disabled=False,\n",
    "                                                 name='beginner mode tour',\n",
    "                                                 button_type='primary',\n",
    "                                                 sizing_mode='stretch_width')\n",
    "beginner_introduction_button.param.watch(\n",
    "    beginner_introduction_button_click, 'clicks')\n",
    "\n",
    "advanced_introduction_button = pn.widgets.Button(disabled=True,\n",
    "                                                 name='advanced mode introduction',\n",
    "                                                 button_type='primary',\n",
    "                                                 sizing_mode='stretch_width')\n",
    "advanced_introduction_button.param.watch(\n",
    "    advanced_introduction_button_click, 'clicks')\n",
    "\n",
    "show_subfigure_explenation_button = pn.widgets.Button(disabled=True,\n",
    "                                                      name='show explenation of each subfigure',\n",
    "                                                      button_type='primary',\n",
    "                                                      sizing_mode='stretch_width')\n",
    "show_subfigure_explenation_button.param.watch(\n",
    "    show_subfigure_explenation_button_click, 'clicks')\n",
    "\n",
    "show_parameter_explenation_button = pn.widgets.Button(disabled=True,\n",
    "                                                      name='show explenation of parameters',\n",
    "                                                      button_type='primary',\n",
    "                                                      sizing_mode='stretch_width')\n",
    "show_parameter_explenation_button.param.watch(\n",
    "    show_parameter_explenation_button_click, 'clicks')\n",
    "\n",
    "help_panel = pn.Row(help_intro_text,\n",
    "                    pn.Column(beginner_introduction_button,\n",
    "                              advanced_introduction_button),\n",
    "                    pn.Column(show_subfigure_explenation_button,\n",
    "                              show_parameter_explenation_button),\n",
    "                    background=tab_background,\n",
    "                    sizing_mode='stretch_width')"
   ]
  },
  {
   "cell_type": "markdown",
   "metadata": {},
   "source": [
    "### Panel for plotting options"
   ]
  },
  {
   "cell_type": "markdown",
   "metadata": {},
   "source": [
    "help functions"
   ]
  },
  {
   "cell_type": "code",
   "execution_count": null,
   "metadata": {},
   "outputs": [],
   "source": [
    "show_color_count = 0\n",
    "\n",
    "\n",
    "def show_velocity_changed(arg=None):\n",
    "    global show_color_count\n",
    "    set_glacier_height_curve()\n",
    "    main_figure.event(button_name='show_velocity',\n",
    "                      clicks=show_color_count)\n",
    "    show_color_count += 1\n",
    "\n",
    "\n",
    "def show_thickness_changed(arg=None):\n",
    "    global show_color_count\n",
    "    set_width_curve()\n",
    "    main_figure.event(button_name='show_thickness',\n",
    "                      clicks=show_color_count)\n",
    "    show_color_count += 1"
   ]
  },
  {
   "cell_type": "markdown",
   "metadata": {},
   "source": [
    "actual panel"
   ]
  },
  {
   "cell_type": "markdown",
   "metadata": {},
   "source": [
    "!!! to work with the app in the notebook you must comment out the two lines: \"show_velocity.param.watch(show_velocity_changed, 'value')\" and \"show_thickness.param.watch(show_thickness_changed, 'value')\" !!!"
   ]
  },
  {
   "cell_type": "code",
   "execution_count": null,
   "metadata": {},
   "outputs": [],
   "source": [
    "show_velocity = pn.widgets.Checkbox(name='show velocity as colors (top left figure)',\n",
    "                                    sizing_mode='stretch_width')\n",
    "show_velocity.param.watch(show_velocity_changed, 'value')\n",
    "\n",
    "show_thickness = pn.widgets.Checkbox(name='show thickness as colors (bottom left figure)',\n",
    "                                     sizing_mode='stretch_width')\n",
    "show_thickness.param.watch(show_thickness_changed, 'value')\n",
    "\n",
    "color_options = pn.pane.Markdown(('Here you can choose if the velocity or/and the thickness ' +\n",
    "                                  'of the ice should be shown. The colorbar shows the intervals, ' +\n",
    "                                  'maximum refers to the value shown in the \"info text\". ' +\n",
    "                                  '(takes longer with colors)'),\n",
    "                                 height=55,\n",
    "                                 sizing_mode='stretch_width')\n",
    "\n",
    "\n",
    "# is needed to directly get to bokeh styling options\n",
    "def colorbar_hook(plot, element):\n",
    "    plot.handles['plot'].border_fill_color = tab_background\n",
    "    plot.handles['plot'].min_border_right = 50\n",
    "    plot.handles['colorbar'].background_fill_color = tab_background\n",
    "    plot.handles['colorbar'].height = 10\n",
    "\n",
    "\n",
    "ColorBar = hv.Polygons({'x': [],\n",
    "                        'y': [],\n",
    "                        'value': [0]},\n",
    "                       vdims='value').opts(hooks=[colorbar_hook],\n",
    "                                           responsive=True,\n",
    "                                           colorbar_position='top',\n",
    "                                           colorbar_opts={'orientation': 'horizontal',\n",
    "                                                          'major_label_overrides': {-1: '0',\n",
    "                                                                                    -0.5: 'quater',\n",
    "                                                                                    0: 'half',\n",
    "                                                                                    0.5: 'three-quaters',\n",
    "                                                                                    1: 'maximum'},\n",
    "                                                          'major_label_text_font_size': '10pt'},\n",
    "                                           yaxis=None,\n",
    "                                           xaxis=None,\n",
    "                                           toolbar=None,\n",
    "                                           frame_height=0,\n",
    "                                           cmap=colormap,\n",
    "                                           colorbar=True)\n",
    "\n",
    "plotting_option_panel = pn.Column(pn.Row(color_options,\n",
    "                                         pn.Column(show_velocity,\n",
    "                                                   show_thickness,\n",
    "                                                   background=tab_background,\n",
    "                                                   sizing_mode='stretch_width')),\n",
    "                                  ColorBar,\n",
    "                                  background=tab_background,\n",
    "                                  sizing_mode='stretch_width')"
   ]
  },
  {
   "cell_type": "markdown",
   "metadata": {},
   "source": [
    "### Panel for model options"
   ]
  },
  {
   "cell_type": "markdown",
   "metadata": {},
   "source": [
    "help function for button click"
   ]
  },
  {
   "cell_type": "code",
   "execution_count": null,
   "metadata": {},
   "outputs": [],
   "source": [
    "def set_model_options(arg=None):\n",
    "    global dyears\n",
    "    global max_calc_years\n",
    "\n",
    "    dyears = dyears_model_slider.value\n",
    "    max_calc_years = max_calc_years_slider.value\n",
    "    current_model_options.object = current_model_options_text.format(\n",
    "        dyears_model_slider.value, max_calc_years_slider.value)"
   ]
  },
  {
   "cell_type": "markdown",
   "metadata": {},
   "source": [
    "actual panel"
   ]
  },
  {
   "cell_type": "code",
   "execution_count": null,
   "metadata": {},
   "outputs": [],
   "source": [
    "dyears_model_slider = pn.widgets.IntSlider(name='show model progress every ... years',\n",
    "                                           start=dyears_model_start,\n",
    "                                           end=dyears_model_end,\n",
    "                                           step=dyears_model_step,\n",
    "                                           value=dyears_model_default,\n",
    "                                           sizing_mode='stretch_width')\n",
    "\n",
    "max_calc_years_slider = pn.widgets.IntSlider(name='maximum calculation year of model',\n",
    "                                             start=max_calc_years_start,\n",
    "                                             end=max_calc_years_end,\n",
    "                                             step=max_calc_years_step,\n",
    "                                             value=max_calc_years_default,\n",
    "                                             sizing_mode='stretch_width')\n",
    "\n",
    "current_model_options_text = 'Model currently showing progress every {} years\\nand abort model after {} years of calculation'\n",
    "current_model_options = pn.pane.Markdown(current_model_options_text.format(dyears_model_default, max_calc_years_default),\n",
    "                                         sizing_mode='stretch_width')\n",
    "\n",
    "set_model_options_button = pn.widgets.Button(name='set new model options',\n",
    "                                             button_type='primary',\n",
    "                                             sizing_mode='stretch_width')\n",
    "set_model_options_button.param.watch(set_model_options, 'clicks')\n",
    "\n",
    "model_option_panel = pn.Row(current_model_options,\n",
    "                            dyears_model_slider,\n",
    "                            max_calc_years_slider,\n",
    "                            set_model_options_button,\n",
    "                            background=tab_background,\n",
    "                            sizing_mode='stretch_width')"
   ]
  },
  {
   "cell_type": "markdown",
   "metadata": {},
   "source": [
    "### add all panels together as tabs"
   ]
  },
  {
   "cell_type": "code",
   "execution_count": null,
   "metadata": {},
   "outputs": [],
   "source": [
    "tab_menu = pn.Tabs(('beginner mode', beginner_panel),\n",
    "                   ('advanced mode', advanced_panel),\n",
    "                   ('find help here (under construction)', help_panel),\n",
    "                   ('plotting options', plotting_option_panel),\n",
    "                   ('model options', model_option_panel),\n",
    "                   background=tab_background)"
   ]
  },
  {
   "cell_type": "markdown",
   "metadata": {},
   "source": [
    "## Define functions to set numeric values of parameters"
   ]
  },
  {
   "cell_type": "markdown",
   "metadata": {},
   "source": [
    "### set glen a"
   ]
  },
  {
   "cell_type": "code",
   "execution_count": null,
   "metadata": {},
   "outputs": [],
   "source": [
    "def set_glen_a():\n",
    "    global glen_a\n",
    "\n",
    "    if glens_creep_parameter.value == 'default':\n",
    "        glen_a = cfg.PARAMS['glen_a']\n",
    "    elif glens_creep_parameter.value == 'small':\n",
    "        glen_a = cfg.PARAMS['glen_a'] / 10\n",
    "    elif glens_creep_parameter.value == 'large':\n",
    "        glen_a = cfg.PARAMS['glen_a'] * 10"
   ]
  },
  {
   "cell_type": "markdown",
   "metadata": {},
   "source": [
    "### set fs"
   ]
  },
  {
   "cell_type": "code",
   "execution_count": null,
   "metadata": {},
   "outputs": [],
   "source": [
    "def set_fs():\n",
    "    global fs\n",
    "\n",
    "    if sliding_parameter.value == 'no sliding':\n",
    "        fs = 0\n",
    "    elif sliding_parameter.value == 'sliding':\n",
    "        fs = 5.7e-20"
   ]
  },
  {
   "cell_type": "markdown",
   "metadata": {},
   "source": [
    "## Define function for creating curves"
   ]
  },
  {
   "cell_type": "markdown",
   "metadata": {},
   "source": [
    "### set bed rock curves"
   ]
  },
  {
   "cell_type": "code",
   "execution_count": null,
   "metadata": {},
   "outputs": [],
   "source": [
    "def set_bed_rock_curves():\n",
    "    global bed_h\n",
    "    global bed_rock_height_curve\n",
    "    global widths\n",
    "    global bed_rock_width_curve\n",
    "    global ELA_x_position\n",
    "\n",
    "    ELA = int(ELA_height.value)\n",
    "\n",
    "    # look which bed rock profile was chosen\n",
    "    if bed_rock_profile.value == 'linear':\n",
    "        # look which slope was choosen and set the heigth at each point along the glacier\n",
    "        if bed_rock_slope.value == 'steepest':\n",
    "            bed_h = np.append(np.linspace(glacier_top_height, 0, np.round(nx / 4)),\n",
    "                              np.zeros(nx - np.int(np.round(nx / 4))))\n",
    "        elif bed_rock_slope.value == 'steeper':\n",
    "            bed_h = np.append(np.linspace(glacier_top_height, 0, np.round(nx / 4) * 2),\n",
    "                              np.zeros(nx - np.int(np.round(nx / 4) * 2)))\n",
    "        elif bed_rock_slope.value == 'steep':\n",
    "            bed_h = np.append(np.linspace(glacier_top_height, 0, np.round(nx / 4) * 3),\n",
    "                              np.zeros(nx - np.int(np.round(nx / 4) * 3)))\n",
    "        elif bed_rock_slope.value == 'flat':\n",
    "            bed_h = np.linspace(glacier_top_height, 0, nx)\n",
    "        elif bed_rock_slope.value == 'flatter':\n",
    "            bed_h = np.linspace(glacier_top_height, 1500, nx)\n",
    "        elif bed_rock_slope.value == 'flattest':\n",
    "            bed_h = np.linspace(glacier_top_height, 3000, nx)\n",
    "\n",
    "    elif bed_rock_profile.value == 'getting flatter':\n",
    "        bed_h = np.array([(np.log(x / nx + 0.03) / np.log(0.5) * 0.2 + 0.03) *\n",
    "                          glacier_top_height for x in np.arange(nx)])\n",
    "\n",
    "    elif bed_rock_profile.value == 'getting steeper':\n",
    "        bed_h = np.array([(np.log(-x / nx / 4 + 0.26) * 0.2 / np.log(2) + 1.3) *\n",
    "                          glacier_top_height for x in np.arange(nx)])\n",
    "\n",
    "    elif bed_rock_profile.value == 'cliff':\n",
    "        # define extend of cliff\n",
    "        cliff_top = 2500\n",
    "        cliff_bottom = 2400\n",
    "\n",
    "        bed_h = np.concatenate((np.linspace(glacier_top_height, cliff_top, nx/2),\n",
    "                                np.linspace(cliff_bottom, glacier_bottom_height, nx/2)))\n",
    "\n",
    "    # create curve of bed rock\n",
    "    bed_rock_height_curve = hv.Area((distance_along_glacier, bed_h),\n",
    "                                    'distance along glacier (km)', 'altitude (m)',\n",
    "                                    ).opts(default_tools=default_tools,\n",
    "                                           color='lightgray',\n",
    "                                           line_alpha=0)\n",
    "\n",
    "    # look which glacier width was selected\n",
    "    if bed_rock_width.value == 'constant':\n",
    "        widths = np.zeros(nx) + 4.\n",
    "\n",
    "    elif bed_rock_width.value == 'getting wider':\n",
    "        widths = np.array([(2 / nx * x + 0.5) * 2 for x in np.arange(nx)])\n",
    "\n",
    "    elif bed_rock_width.value == 'getting narrower':\n",
    "        widths = np.array([(-2 / nx * x + 2.5) * 2 for x in np.arange(nx)])\n",
    "\n",
    "    elif bed_rock_width.value == 'wide at the top and narrow at the bottom':\n",
    "        widths = np.append(np.ones(np.int(np.round(nx/2))) * 4,\n",
    "                           np.ones(np.int(nx - np.round(nx/2))) * 2)\n",
    "\n",
    "    # find index for ELA position on x-axis (distance along glacier)\n",
    "    ELA_x_position = (np.abs(bed_h - ELA)).argmin()\n",
    "\n",
    "    bed_rock_width_curve = hv.Area((distance_along_glacier, -widths/2, widths/2),\n",
    "                                   kdims=['distance along glacier (km)'],\n",
    "                                   vdims=['y', 'y2']\n",
    "                                   # label='glacier rock bed'\n",
    "                                   ).redim.label(x='distance along glacier (km)',\n",
    "                                                 y='width (m)').opts(default_tools=default_tools,\n",
    "                                                                     color='lightgray',\n",
    "                                                                     line_alpha=0)"
   ]
  },
  {
   "cell_type": "markdown",
   "metadata": {},
   "source": [
    "### set glacier height curve"
   ]
  },
  {
   "cell_type": "code",
   "execution_count": null,
   "metadata": {},
   "outputs": [],
   "source": [
    "def set_glacier_height_curve():\n",
    "    global model\n",
    "    global run_surface_heights\n",
    "    global glacier_height_curve\n",
    "\n",
    "    ELA = int(ELA_height.value)\n",
    "\n",
    "    if not np.array_equal(run_surface_heights[0], bed_h):\n",
    "        glacier_height_curve = (hv.Area((distance_along_glacier, run_surface_heights[0]),\n",
    "                                        'distance along glacier (km)', 'altitude (m)',\n",
    "                                        # label='last'\n",
    "                                        ).opts(default_tools=default_tools,\n",
    "                                               line_dash='dashed',\n",
    "                                               line_color='darkgray',\n",
    "                                               color='white',\n",
    "                                               alpha=0.6,\n",
    "                                               line_alpha=1,\n",
    "                                               line_width=3) *\n",
    "                                hv.Area((distance_along_glacier, run_surface_heights[1]),\n",
    "                                        'distance along glacier (km)', 'altitude (m)',\n",
    "                                        label='glacier'\n",
    "                                        ).opts(default_tools=default_tools,\n",
    "                                               color='white',\n",
    "                                               line_color='blue',\n",
    "                                               alpha=0.6,\n",
    "                                               line_alpha=1,\n",
    "                                               line_width=3))\n",
    "    else:\n",
    "        glacier_height_curve = (hv.Area(([], []),\n",
    "                                        'distance along glacier (km)', 'altitude (m)',\n",
    "                                        # label='last'\n",
    "                                        ).opts(default_tools=default_tools,\n",
    "                                               line_dash='dashed',\n",
    "                                               line_color='darkgray',\n",
    "                                               color='white',\n",
    "                                               alpha=0.6,\n",
    "                                               line_alpha=1,\n",
    "                                               line_width=3) *\n",
    "                                hv.Area((distance_along_glacier, run_surface_heights[1]),\n",
    "                                        'distance along glacier (km)', 'altitude (m)',\n",
    "                                        label='glacier'\n",
    "                                        ).opts(default_tools=default_tools,\n",
    "                                               color='white',\n",
    "                                               line_color='blue',\n",
    "                                               alpha=1,\n",
    "                                               line_alpha=1,\n",
    "                                               line_width=3))\n",
    "\n",
    "     # looking for potential segments which can be colored if wanted\n",
    "    index_of_segments = np.arange(np.sum(model.fls[-1].thick > 0))\n",
    "\n",
    "    # show ice velocity in colors if wanted and if there is something to show\n",
    "    if show_velocity.value and index_of_segments.size != 0:\n",
    "        # calculate the mean velocity between two segments\n",
    "        plot_velocity = [(np.array(model.get_diagnostics()['ice_velocity'])[i] +\n",
    "                          np.array(model.get_diagnostics()['ice_velocity'])[i + 1]) / 2\n",
    "                         for i in index_of_segments]\n",
    "\n",
    "        # is necessary so the line_color is the same as the filled color of the polygons\n",
    "        # velocity_mapper = []\n",
    "        velocity_mapper = linear_cmap(field_name='velocity', palette=colormap,\n",
    "                                      low=np.min(plot_velocity),\n",
    "                                      high=np.max(plot_velocity))\n",
    "\n",
    "        # actual colored velocity\n",
    "        glacier_height_curve *= hv.Polygons([{'x': [distance_along_glacier[i],\n",
    "                                                    distance_along_glacier[i + 1],\n",
    "                                                    distance_along_glacier[i + 1],\n",
    "                                                    distance_along_glacier[i]],\n",
    "                                              'y': [bed_h[i],  # 0,\n",
    "                                                    bed_h[i+1],  # 0,\n",
    "                                                    run_surface_heights[1][i + 1],\n",
    "                                                    run_surface_heights[1][i]],\n",
    "                                              'velocity': plot_velocity[i]}\n",
    "                                             for i in index_of_segments],\n",
    "                                            vdims='velocity').opts(default_tools=default_tools,\n",
    "                                                                   line_color=velocity_mapper,\n",
    "                                                                   cmap=colormap)\n",
    "    else:\n",
    "        # when there is no glacier or colors should not be shown\n",
    "        # this is needed so bokeh knows about the Polygons element\n",
    "        glacier_height_curve *= hv.Polygons([{'x': [],\n",
    "                                              'y': [],\n",
    "                                              'velocity': [0]}],\n",
    "                                            vdims='velocity').opts(default_tools=default_tools)\n",
    "\n",
    "    # add ELA to plot\n",
    "    glacier_height_curve *= hv.Curve((distance_along_glacier, np.repeat(ELA, np.size(distance_along_glacier))),\n",
    "                                     'distance along glacier (km)',\n",
    "                                     'altitude (m)'\n",
    "                                     ).opts(default_tools=default_tools,\n",
    "                                            line_dash='dashed',\n",
    "                                            line_width=3,\n",
    "                                            color='black')"
   ]
  },
  {
   "cell_type": "markdown",
   "metadata": {},
   "source": [
    "### set mb curve"
   ]
  },
  {
   "cell_type": "code",
   "execution_count": null,
   "metadata": {},
   "outputs": [],
   "source": [
    "def set_mb_curve():\n",
    "    global mb_model\n",
    "    global mb_curve\n",
    "\n",
    "    ELA = int(ELA_height.value)\n",
    "    gradient = int(mb_gradient.value)\n",
    "\n",
    "    mb_model = LinearMassBalance(ELA, grad=gradient)\n",
    "\n",
    "    # define the range of the mass balance curve wich should be shown\n",
    "    y_range_of_mb_curve = np.array([-20, 20])\n",
    "    x_range_of_mb_curve = np.array([0, 4500])\n",
    "\n",
    "    # get the annual mass balance for the given range of the x axis\n",
    "    annual_mb = mb_model.get_annual_mb(x_range_of_mb_curve) * cfg.SEC_IN_YEAR\n",
    "\n",
    "    mb_curve = (hv.Area((y_range_of_mb_curve, np.repeat(np.max(x_range_of_mb_curve), 2)),\n",
    "                        'annual mass balance (m/yr)',\n",
    "                        'altitude (m)',\n",
    "                        label='mass gain'\n",
    "                        ).opts(default_tools=default_tools,\n",
    "                               color='lightgreen',\n",
    "                               line_alpha=0) *\n",
    "                hv.Area((y_range_of_mb_curve, np.repeat(ELA, 2)),\n",
    "                        'annual mass balance (m/yr)',\n",
    "                        'altitude (m)',\n",
    "                        label='mass loss'\n",
    "                        ).opts(default_tools=default_tools,\n",
    "                               color='lightcoral',\n",
    "                               line_alpha=0) *\n",
    "                hv.Curve((annual_mb, x_range_of_mb_curve),\n",
    "                         'annual mass balance (m/yr)',\n",
    "                         'altitude (m)',\n",
    "                         label='mass balance'\n",
    "                         ).opts(default_tools=default_tools,\n",
    "                                color='black') *\n",
    "                hv.Curve((y_range_of_mb_curve, np.repeat(ELA, 2)),\n",
    "                         'annual mass balance (m/yr)',\n",
    "                         'altitude (m)',\n",
    "                         label='ELA'\n",
    "                         ).opts(default_tools=default_tools,\n",
    "                                line_dash='dashed',\n",
    "                                line_width=3,\n",
    "                                color='black')\n",
    "                )"
   ]
  },
  {
   "cell_type": "markdown",
   "metadata": {},
   "source": [
    "### set width curve"
   ]
  },
  {
   "cell_type": "code",
   "execution_count": null,
   "metadata": {},
   "outputs": [],
   "source": [
    "def set_width_curve():\n",
    "    global width_curve\n",
    "    global model\n",
    "    global glacier_outlines\n",
    "\n",
    "    # define lower and upper y limit which is shown\n",
    "    y_min = -3  # in m\n",
    "    y_max = 3\n",
    "\n",
    "    if not np.array_equal(run_surface_heights[0], bed_h):\n",
    "        width_curve = (hv.Area((distance_along_glacier, -glacier_outlines[0]/2, glacier_outlines[0]/2),\n",
    "                               kdims=['distance along glacier (km)'],\n",
    "                               vdims=['y', 'y2']\n",
    "                               # label='old'\n",
    "                               ).redim.label(x='distance along glacier (km)',\n",
    "                                             y='width (m)').opts(default_tools=default_tools,\n",
    "                                                                 line_dash='dashed',\n",
    "                                                                 color='white',\n",
    "                                                                 line_color='darkgray',\n",
    "                                                                 alpha=0.6,\n",
    "                                                                 line_alpha=1,\n",
    "                                                                 line_width=3) *\n",
    "                       hv.Area((distance_along_glacier, -glacier_outlines[1]/2, glacier_outlines[1]/2),\n",
    "                               kdims=['distance along glacier (km)'],\n",
    "                               vdims=['y', 'y2']\n",
    "                               # label='new'\n",
    "                               ).redim.label(x='distance along glacier (km)',\n",
    "                                             y='width (m)').opts(default_tools=default_tools,\n",
    "                                                                 color='white',\n",
    "                                                                 line_color='blue',\n",
    "                                                                 alpha=0.6,\n",
    "                                                                 line_alpha=1,\n",
    "                                                                 line_width=3))\n",
    "    else:\n",
    "        width_curve = (hv.Area(([], [], []),\n",
    "                               kdims=['distance along glacier (km)'],\n",
    "                               vdims=['y', 'y2']\n",
    "                               # label='old'\n",
    "                               ).redim.label(x='distance along glacier (km)',\n",
    "                                             y='width (m)').opts(default_tools=default_tools,\n",
    "                                                                 line_dash='dashed',\n",
    "                                                                 color='white',\n",
    "                                                                 line_color='darkgray',\n",
    "                                                                 alpha=0.6,\n",
    "                                                                 line_alpha=1,\n",
    "                                                                 line_width=3) *\n",
    "                       hv.Area((distance_along_glacier, -glacier_outlines[1]/2, glacier_outlines[1]/2),\n",
    "                               kdims=['distance along glacier (km)'],\n",
    "                               vdims=['y', 'y2']\n",
    "                               # label='new'\n",
    "                               ).redim.label(x='distance along glacier (km)',\n",
    "                                             y='width (m)').opts(default_tools=default_tools,\n",
    "                                                                 color='white',\n",
    "                                                                 line_color='blue',\n",
    "                                                                 alpha=1,\n",
    "                                                                 line_alpha=1,\n",
    "                                                                 line_width=3))\n",
    "\n",
    "    # looking for potential segments which can be colored if wanted\n",
    "    index_of_segments = np.arange(np.sum(model.fls[-1].thick > 0))\n",
    "\n",
    "    # show ice velocity in colors if wanted and there is something to show\n",
    "    if show_thickness.value and index_of_segments.size != 0:\n",
    "        # calculate the mean thickness between two segments\n",
    "        plot_thickness = [(np.array(model.get_diagnostics()['ice_thick'])[i] +\n",
    "                           np.array(model.get_diagnostics()['ice_thick'])[i + 1]) / 2\n",
    "                          for i in index_of_segments]\n",
    "\n",
    "        # is necessary so the line_color is the same as the filled color of the polygons\n",
    "        thickness_mapper = linear_cmap(field_name='thickness', palette=colormap,\n",
    "                                       low=np.min(plot_thickness),\n",
    "                                       high=np.max(plot_thickness))\n",
    "\n",
    "        # actual colored thickness\n",
    "        width_curve *= hv.Polygons([{'x': [distance_along_glacier[i],\n",
    "                                           distance_along_glacier[i + 1],\n",
    "                                           distance_along_glacier[i + 1],\n",
    "                                           distance_along_glacier[i]],\n",
    "                                     'y': [-glacier_outlines[1][i]/2,\n",
    "                                           -glacier_outlines[1][i+1]/2,\n",
    "                                           glacier_outlines[1][i+1]/2,\n",
    "                                           glacier_outlines[1][i]/2],\n",
    "                                     'thickness': plot_thickness[i]}\n",
    "                                    for i in index_of_segments],\n",
    "                                   vdims='thickness').opts(default_tools=default_tools,\n",
    "                                                           line_color=thickness_mapper,\n",
    "                                                           cmap=colormap)\n",
    "    else:\n",
    "        # when there is no glacier or colors should not be shown\n",
    "        # this is needed so bokeh knows about the Polygons element\n",
    "        width_curve *= hv.Polygons([{'x': [],\n",
    "                                     'y': [],\n",
    "                                     'thickness': [0]}],\n",
    "                                   vdims='thickness').opts(default_tools=default_tools)\n",
    "\n",
    "    width_curve *= (hv.Curve((distance_along_glacier, np.repeat(0, np.size(distance_along_glacier))),\n",
    "                             'distance along glacier (km)',\n",
    "                             'width (m)'  # ,\n",
    "                             # label='center Flowline'\n",
    "                             ).opts(default_tools=default_tools,\n",
    "                                    color='black',\n",
    "                                    line_width=1) *\n",
    "                    hv.Curve((np.repeat(distance_along_glacier[ELA_x_position], 2), [y_min, y_max]),\n",
    "                             'distance along glacier (km)',\n",
    "                             'width (m)',\n",
    "                             # label='ELA'\n",
    "                             ).opts(default_tools=default_tools,\n",
    "                                    line_dash='dashed',\n",
    "                                    line_width=3,\n",
    "                                    color='black'))\n",
    "\n",
    "    width_curve.opts(ylim=(y_min, y_max))"
   ]
  },
  {
   "cell_type": "markdown",
   "metadata": {},
   "source": [
    "### set info text"
   ]
  },
  {
   "cell_type": "code",
   "execution_count": null,
   "metadata": {},
   "outputs": [],
   "source": [
    "def set_info_text(stage='new model'):\n",
    "    global info_text\n",
    "    global model\n",
    "\n",
    "    if stage == 'new model':\n",
    "        text = 'New Model \\t geometry\\ninitialised'\n",
    "    else:\n",
    "        if stage == 'running model':\n",
    "            text = 'Model is running: '\n",
    "        elif stage == 'equilibrium':\n",
    "            text = 'Model reached equilibrium '\n",
    "        elif stage == 'stopped model':\n",
    "            text = 'Model finished '\n",
    "        elif stage == 'aborted model':\n",
    "            text = 'Model aborted (max calculation time reached, see options)'\n",
    "\n",
    "        text += '\\nTime: {:4.0f} years          Volume: '\n",
    "\n",
    "        if model.volume_km3 > 1:\n",
    "            text += '{:9.2f} km³\\n'\n",
    "            volume = model.volume_km3\n",
    "        else:\n",
    "            text += '{:9.0f} m³\\n'\n",
    "            volume = model.volume_m3\n",
    "\n",
    "        text += 'max ice thickness: {:.0f} m          max ice velocity: {:.2e} m/s'\n",
    "        text = text.format(model.yr,\n",
    "                           volume,\n",
    "                           np.max(model.get_diagnostics()['ice_thick']),\n",
    "                           np.max(model.get_diagnostics()['ice_velocity']))\n",
    "\n",
    "    info_text = hv.Text(0.5, 0.5, text).opts(default_tools=['save', 'reset'],\n",
    "                                             show_frame=False,\n",
    "                                             text_baseline='middle',\n",
    "                                             text_align='center',\n",
    "                                             text_font_size='10pt',\n",
    "                                             text_font='courier',\n",
    "                                             xaxis=None,\n",
    "                                             yaxis=None)"
   ]
  },
  {
   "cell_type": "markdown",
   "metadata": {},
   "source": [
    "## Define functions for intialize flowline and run model"
   ]
  },
  {
   "cell_type": "markdown",
   "metadata": {},
   "source": [
    "### init flowline model"
   ]
  },
  {
   "cell_type": "code",
   "execution_count": null,
   "metadata": {},
   "outputs": [],
   "source": [
    "def init_flowline_model():\n",
    "    global model\n",
    "    global bed_h\n",
    "    global run_surface_heights\n",
    "    global widths\n",
    "    global glacier_outlines\n",
    "\n",
    "    # set info text\n",
    "    set_info_text(stage='new model')\n",
    "\n",
    "    # initialize the bed rock\n",
    "    set_bed_rock_curves()\n",
    "\n",
    "    # set glacier surface height to bed height because at the beginning there is no glacier\n",
    "    surface_h = bed_h\n",
    "\n",
    "    # initialize flowline with rectangular shape of glacier\n",
    "    model_flowline = RectangularBedFlowline(surface_h=surface_h, bed_h=bed_h,\n",
    "                                            widths=widths, map_dx=map_dx)\n",
    "\n",
    "    model = FlowlineModel(model_flowline, mb_model=mb_model, y0=0., glen_a=glen_a,\n",
    "                          fs=fs, check_for_boundaries=False)\n",
    "\n",
    "    # set surface height for plotting, at beginn old and new one are the same\n",
    "    run_surface_heights = np.repeat(\n",
    "        np.array(model.fls[-1].surface_h, ndmin=2), 2, axis=0)\n",
    "\n",
    "    # set glacier outlines for plotting, at beginn old and new one are the same\n",
    "    glacier_outlines = np.repeat(np.array(\n",
    "        np.where(model.fls[-1].thick > 0, widths, nan_array), ndmin=2), 2, axis=0)"
   ]
  },
  {
   "cell_type": "markdown",
   "metadata": {},
   "source": [
    "### run the model"
   ]
  },
  {
   "cell_type": "code",
   "execution_count": null,
   "metadata": {},
   "outputs": [],
   "source": [
    "def run_the_model(stage='beginner mode'):\n",
    "    global model\n",
    "    global run_surface_heights\n",
    "    global run_loop_count\n",
    "    global glacier_outlines\n",
    "    global dyears\n",
    "    global max_calc_years\n",
    "\n",
    "    # set new mass balance curve\n",
    "    set_mb_curve()\n",
    "\n",
    "    if stage == 'beginner mode':\n",
    "        # initialize a new model\n",
    "        init_flowline_model()\n",
    "\n",
    "    elif stage == 'advance equilibrium' or stage == 'advance years':\n",
    "        # initialize model with old extend and new mass balance model\n",
    "        model = FlowlineModel(model.fls[-1], mb_model=mb_model, y0=0.,\n",
    "                              glen_a=glen_a, fs=fs, check_for_boundaries=False)\n",
    "\n",
    "        # determine glacier state at starting point\n",
    "        run_surface_heights = np.repeat(\n",
    "            np.array(model.fls[-1].surface_h, ndmin=2), 2, axis=0)\n",
    "        glacier_outlines = np.repeat(np.array(\n",
    "            np.where(model.fls[-1].thick > 0, widths, nan_array), ndmin=2), 2, axis=0)\n",
    "\n",
    "    if stage == 'beginner mode':\n",
    "        set_glacier_height_curve()\n",
    "        set_width_curve()\n",
    "\n",
    "    if stage == 'beginner mode' or stage == 'advance equilibrium':\n",
    "        # mostly same function as from OGGM FlowlineModel.run_until_equilibrium\n",
    "        was_close_zero = 0\n",
    "        t_rate = 1\n",
    "        while (t_rate > 0.001) and (model.yr < max_calc_years) and (was_close_zero < 5):\n",
    "            v_bef = model.volume_m3\n",
    "            model.run_until(model.yr + dyears)\n",
    "            v_af = model.volume_m3\n",
    "            if np.isclose(v_bef, 0., atol=1):\n",
    "                t_rate = 1\n",
    "                was_close_zero += 1\n",
    "            else:\n",
    "                t_rate = np.abs(v_af - v_bef) / v_bef\n",
    "\n",
    "            # set text with current year, volume, thickness and velocity\n",
    "            set_info_text(stage='running model')\n",
    "\n",
    "            # save new surface/outline and show it on plot\n",
    "            run_surface_heights[1] = np.array(model.fls[-1].surface_h, ndmin=2)\n",
    "            glacier_outlines[1] = np.array(\n",
    "                np.where(model.fls[-1].thick > 0, widths, nan_array), ndmin=2)\n",
    "            set_glacier_height_curve()\n",
    "            set_width_curve()\n",
    "            main_figure.event(button_name='run_button',\n",
    "                              clicks=run_loop_count)\n",
    "            run_loop_count += 1\n",
    "\n",
    "        if model.yr >= max_calc_years:\n",
    "            set_info_text(stage='aborted model')\n",
    "        else:\n",
    "            # set text with equilibrium year\n",
    "            set_info_text(stage='equilibrium')\n",
    "\n",
    "        main_figure.event(button_name='run_button',\n",
    "                          clicks=run_loop_count)\n",
    "\n",
    "    elif stage == 'advance years':\n",
    "        while (model.yr < run_model_years.value):\n",
    "            model.run_until(model.yr + dyears)\n",
    "\n",
    "            # set text with current year and volume\n",
    "            set_info_text(stage='running model')\n",
    "\n",
    "            # save new surface/outline and show it on plot\n",
    "            run_surface_heights[1] = np.array(model.fls[-1].surface_h, ndmin=2)\n",
    "            glacier_outlines[1] = np.array(\n",
    "                np.where(model.fls[-1].thick > 0, widths, nan_array), ndmin=2)\n",
    "            set_glacier_height_curve()\n",
    "            set_width_curve()\n",
    "            main_figure.event(button_name='run_button',\n",
    "                              clicks=run_loop_count)\n",
    "            run_loop_count += 1\n",
    "\n",
    "        # set text after calculation\n",
    "        set_info_text(stage='stopped model')\n",
    "        main_figure.event(button_name='run_button',\n",
    "                          clicks=run_loop_count)"
   ]
  },
  {
   "cell_type": "markdown",
   "metadata": {},
   "source": [
    "## Main function for dynamic map"
   ]
  },
  {
   "cell_type": "code",
   "execution_count": null,
   "metadata": {},
   "outputs": [],
   "source": [
    "def change_plot(button_name='new', clicks=0):\n",
    "    # use global curves\n",
    "    global bed_rock_height_curve\n",
    "    global bed_rock_width_curve\n",
    "    global glacier_height_curve\n",
    "    global mb_curve\n",
    "    global width_curve\n",
    "\n",
    "    if button_name == 'new':\n",
    "        # TODO: set all widgets to default values\n",
    "        # bed_rock_profile.value = 'linear'\n",
    "\n",
    "        # initialisation of figure\n",
    "        set_mb_curve()\n",
    "        init_flowline_model()\n",
    "        set_glacier_height_curve()\n",
    "        set_width_curve()\n",
    "\n",
    "    elif button_name == 'new model':\n",
    "        set_mb_curve()\n",
    "        init_flowline_model()\n",
    "        set_glacier_height_curve()\n",
    "        set_width_curve()\n",
    "\n",
    "\n",
    "    return ((glacier_height_curve * bed_rock_height_curve).opts(legend_position='bottom_left',\n",
    "                                                                legend_cols=2,\n",
    "                                                                xaxis='top',\n",
    "                                                                bgcolor='lightblue',\n",
    "                                                                responsive=True,\n",
    "                                                                aspect=2.8) +\n",
    "            (mb_curve).opts(legend_position='bottom_right',\n",
    "                            legend_cols=4,\n",
    "                            xaxis='top',\n",
    "                            yaxis='right',\n",
    "                            responsive=True,\n",
    "                            aspect=2.8) +\n",
    "            (bed_rock_width_curve * width_curve).opts(responsive=True,\n",
    "                                                      aspect=6,\n",
    "                                                      yformatter='%8.0f',\n",
    "                                                      bgcolor='darkgray',\n",
    "                                                      labelled=['y']) +\n",
    "            (info_text).opts(responsive=True,\n",
    "                             aspect=6)\n",
    "            ).opts(sizing_mode='stretch_both',\n",
    "                   toolbar='right').cols(2)"
   ]
  },
  {
   "cell_type": "markdown",
   "metadata": {},
   "source": [
    "## streamer and dynamic map"
   ]
  },
  {
   "cell_type": "code",
   "execution_count": null,
   "metadata": {},
   "outputs": [],
   "source": [
    "main_stream = Stream.define('main_stream', button_name='new', clicks=0)\n",
    "\n",
    "main_figure = hv.DynamicMap(change_plot, streams=[main_stream()])"
   ]
  },
  {
   "cell_type": "markdown",
   "metadata": {},
   "source": [
    "## App"
   ]
  },
  {
   "cell_type": "code",
   "execution_count": null,
   "metadata": {},
   "outputs": [],
   "source": [
    "pn.Column(header, tab_menu, main_figure, sizing_mode='stretch_both').servable()"
   ]
  },
  {
   "cell_type": "markdown",
   "metadata": {},
   "source": [
    "As long as you are running this notebook \"live\" (in Jupyter, not viewing a website or a static copy), the above notebook cell should contain the fully operational dashboard here in the notebook. You can also launch the dashboard at a separate port that shows up in a new browser tab, either by changing .servable() to .show() above and re-executing that cell, or by leaving the cell as it is and running bokeh serve --show simulator.ipynb."
   ]
  },
  {
   "cell_type": "markdown",
   "metadata": {},
   "source": [
    "!!! Changing the colors when clicking the checkbox only operates when the app is executed with .show(). If you want work in the notebook without an error go to the section \"panel for plotting options\" and see description. (for more information you can have a look at <a href=https://github.com/bokeh/bokeh/issues/8579>https://github.com/bokeh/bokeh/issues/8579</a>) !!!"
   ]
  },
  {
   "cell_type": "code",
   "execution_count": null,
   "metadata": {},
   "outputs": [],
   "source": []
  }
 ],
 "metadata": {
  "hide_input": false,
  "kernelspec": {
   "display_name": "Python 3",
   "language": "python",
   "name": "python3"
  },
  "language_info": {
   "codemirror_mode": {
    "name": "ipython",
    "version": 3
   },
   "file_extension": ".py",
   "mimetype": "text/x-python",
   "name": "python",
   "nbconvert_exporter": "python",
   "pygments_lexer": "ipython3",
   "version": "3.6.7"
  },
  "latex_envs": {
   "LaTeX_envs_menu_present": true,
   "autoclose": false,
   "autocomplete": true,
   "bibliofile": "biblio.bib",
   "cite_by": "apalike",
   "current_citInitial": 1,
   "eqLabelWithNumbers": true,
   "eqNumInitial": 1,
   "hotkeys": {
    "equation": "Ctrl-E",
    "itemize": "Ctrl-I"
   },
   "labels_anchors": false,
   "latex_user_defs": false,
   "report_style_numbering": false,
   "user_envs_cfg": false
  },
  "nbTranslate": {
   "displayLangs": [
    "*"
   ],
   "hotkey": "alt-t",
   "langInMainMenu": true,
   "sourceLang": "en",
   "targetLang": "fr",
   "useGoogleTranslate": true
  },
  "toc": {
   "base_numbering": 1,
   "nav_menu": {
    "height": "492.667px",
    "width": "330px"
   },
   "number_sections": false,
   "sideBar": true,
   "skip_h1_title": true,
   "title_cell": "Table of Contents",
   "title_sidebar": "Contents",
   "toc_cell": false,
   "toc_position": {},
   "toc_section_display": true,
   "toc_window_display": false
  }
 },
 "nbformat": 4,
 "nbformat_minor": 2
}
