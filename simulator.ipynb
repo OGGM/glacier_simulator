{
 "cells": [
  {
   "cell_type": "markdown",
   "metadata": {},
   "source": [
    "# OGGM glacier simulator"
   ]
  },
  {
   "cell_type": "markdown",
   "metadata": {},
   "source": [
    "App to initialize a simple glacier and look how it develops under changing mass balance profiles."
   ]
  },
  {
   "cell_type": "markdown",
   "metadata": {},
   "source": [
    "## Import packages"
   ]
  },
  {
   "cell_type": "markdown",
   "metadata": {},
   "source": [
    "import plotting libaries"
   ]
  },
  {
   "cell_type": "code",
   "execution_count": null,
   "metadata": {
    "scrolled": true
   },
   "outputs": [],
   "source": [
    "import holoviews as hv\n",
    "from holoviews import opts\n",
    "from holoviews.streams import Stream, param\n",
    "import panel as pn\n",
    "\n",
    "# is needed for linecolor by velocity/thickness colorplots\n",
    "from bokeh.transform import linear_cmap\n",
    "\n",
    "hv.extension('bokeh', width=100)\n",
    "pn.extension()"
   ]
  },
  {
   "cell_type": "markdown",
   "metadata": {},
   "source": [
    "import OGGM packages"
   ]
  },
  {
   "cell_type": "code",
   "execution_count": null,
   "metadata": {
    "scrolled": true
   },
   "outputs": [],
   "source": [
    "# Constants for initialization\n",
    "from functools import partial\n",
    "from oggm.core.flowline import FluxBasedModel, RectangularBedFlowline, TrapezoidalBedFlowline, ParabolicBedFlowline\n",
    "from oggm.core.massbalance import LinearMassBalance\n",
    "from oggm import cfg\n",
    "cfg.initialize()\n",
    "\n",
    "# There are several solvers in OGGM core. We use the default one for this experiment\n",
    "FlowlineModel = partial(FluxBasedModel, min_dt=0, cfl_number=0.01)"
   ]
  },
  {
   "cell_type": "markdown",
   "metadata": {},
   "source": [
    "and some other useful packages"
   ]
  },
  {
   "cell_type": "code",
   "execution_count": null,
   "metadata": {},
   "outputs": [],
   "source": [
    "import numpy as np"
   ]
  },
  {
   "cell_type": "markdown",
   "metadata": {},
   "source": [
    "## Define model domain"
   ]
  },
  {
   "cell_type": "code",
   "execution_count": null,
   "metadata": {},
   "outputs": [],
   "source": [
    "# number of steps from bottem to top of glacier\n",
    "nx = 200\n",
    "\n",
    "# model grid spacing in m\n",
    "map_dx = 100\n",
    "\n",
    "# distance along glacier (x-axis of glacier profil plot) in km\n",
    "distance_along_glacier = np.linspace(0, nx, nx) * map_dx * 1e-3\n",
    "\n",
    "# glacier top height\n",
    "glacier_top_height = 4000\n",
    "\n",
    "# glacier bottom height\n",
    "glacier_bottom_height = 0"
   ]
  },
  {
   "cell_type": "markdown",
   "metadata": {},
   "source": [
    "## Define default values for parameters and range for menu sliders"
   ]
  },
  {
   "cell_type": "code",
   "execution_count": null,
   "metadata": {},
   "outputs": [],
   "source": [
    "# ELA height\n",
    "ELA_height_min = 0\n",
    "ELA_height_max = 4000\n",
    "ELA_height_default = 3000\n",
    "ELA_height_step = 100\n",
    "\n",
    "# mass balance gradient\n",
    "mb_gradient_max = 15\n",
    "mb_gradient_min = 1\n",
    "mb_gradient_default = 4\n",
    "mb_gradient_step = 1\n",
    "\n",
    "# years of calculation\n",
    "years_min = 10\n",
    "years_max = 1000\n",
    "years_default = 150\n",
    "years_step = 10\n",
    "\n",
    "# linear bed rock slope\n",
    "bed_rock_slope_values = ['steepest', 'steeper',\n",
    "                         'steep', 'flat', 'flatter', 'flattest']\n",
    "bed_rock_slope_default = 'flat'\n",
    "\n",
    "# bed rock profile\n",
    "bed_rock_profile_values = [\n",
    "    'linear', 'getting flatter', 'getting steeper', 'cliff']\n",
    "bed_rock_profile_default = 'linear'\n",
    "\n",
    "# bed rock width\n",
    "bed_rock_width_values = ['constant', 'getting narrower', 'getting wider',\n",
    "                         'wide at the top and narrow at the bottom']\n",
    "bed_rock_width_default = 'constant'\n",
    "\n",
    "# Glen's creep parameter\n",
    "glens_creep_parameter_values = ['small', 'medium', 'large']\n",
    "glens_creep_parameter_default = 'medium'\n",
    "\n",
    "# sliding parameter\n",
    "sliding_parameter_values = ['no sliding', 'sliding']\n",
    "sliding_parameter_default = 'no sliding'\n",
    "\n",
    "# model dyears (how often the model state should be shown)\n",
    "dyears_model_start = 1\n",
    "dyears_model_end = 100\n",
    "dyears_model_step = 1\n",
    "dyears_model_default = 10\n",
    "\n",
    "# maximum calculation years of model (before it gets interrupted)\n",
    "max_calc_years_start = 100\n",
    "max_calc_years_end = 5000\n",
    "max_calc_years_step = 100\n",
    "max_calc_years_default = 1000"
   ]
  },
  {
   "cell_type": "markdown",
   "metadata": {},
   "source": [
    "## Define global model variables:"
   ]
  },
  {
   "cell_type": "code",
   "execution_count": null,
   "metadata": {},
   "outputs": [],
   "source": [
    "bed_h = np.linspace(glacier_top_height, 0, nx)\n",
    "mb_model = []\n",
    "model = []\n",
    "run_surface_heights = []\n",
    "glacier_outlines = []\n",
    "glen_a = cfg.PARAMS['glen_a']\n",
    "fs = 0\n",
    "\n",
    "# define width, so glacier bed could be created when plot is created (after creation model is ready)\n",
    "widths = np.zeros(nx) + 4.\n",
    "\n",
    "# years after the model progress should be shown\n",
    "dyears = dyears_model_default\n",
    "\n",
    "# years after model should be aborted\n",
    "max_calc_years = max_calc_years_default"
   ]
  },
  {
   "cell_type": "markdown",
   "metadata": {},
   "source": [
    "## Define some plotting variables"
   ]
  },
  {
   "cell_type": "code",
   "execution_count": null,
   "metadata": {},
   "outputs": [],
   "source": [
    "# default tools for plots\n",
    "default_tools_geometry = ['save', 'box_zoom', 'reset']\n",
    "default_tools_timeseries = ['pan', 'save', 'box_zoom',\n",
    "                            'xwheel_zoom', 'hover', 'reset']\n",
    "# is needed so xwheel_zoom is activated by default\n",
    "default_active_tools_timeseries = ['xwheel_zoom']\n",
    "\n",
    "# Variable to follow which text is currently displayed in the headerline\n",
    "header_text_status = 0\n",
    "\n",
    "# colormap for velocity and thickness\n",
    "colormap = ['#5ebaff', '#00faf4', '#ffffcc',\n",
    "            '#ffe775', '#ffc140', '#ff8f20', '#ff6060']\n",
    "\n",
    "# define nan array for glacier outline plotting in width plot\n",
    "nan_array = np.empty(nx)\n",
    "nan_array.fill(np.nan)\n",
    "\n",
    "# index to force a 'change' for geometry figure\n",
    "geometry_figure_change_index = 1\n",
    "\n",
    "# define variables for tracking change in glacier volume and length\n",
    "glacier_volume = [0]\n",
    "glacier_length = [0]\n",
    "\n",
    "# define variable for tracking time corresponding to glacier volume and length\n",
    "glacier_time = [0]\n",
    "\n",
    "# index to force a 'change' for timeseries figure (dynamic volume and length plot)\n",
    "timeseries_figure_change_index = 1\n",
    "\n",
    "# define values for table\n",
    "years_table = []\n",
    "ELA_table = []\n",
    "mb_gradient_table = []\n",
    "glen_a_table = []\n",
    "fs_table = []\n",
    "volume_table = []\n",
    "length_table = []\n",
    "\n",
    "# index to force a 'change' for timeseries dynamic map\n",
    "timeseries_table_change_index = 1\n",
    "\n",
    "# variable to store vertical lines position in volume and length plot\n",
    "timeseries_vlin_pos = [0]\n",
    "\n",
    "# for the ELA position in the width plot\n",
    "ELA_x_position = 0"
   ]
  },
  {
   "cell_type": "markdown",
   "metadata": {},
   "source": [
    "## Define global curves (elements of subplots)"
   ]
  },
  {
   "cell_type": "code",
   "execution_count": null,
   "metadata": {},
   "outputs": [],
   "source": [
    "bed_rock_height_curve = []\n",
    "bed_rock_width_curve = []\n",
    "glacier_height_curve = []\n",
    "mb_curve = []\n",
    "width_curve = []\n",
    "info_text = []\n",
    "glacier_volume_curve = []\n",
    "glacier_length_curve = []\n",
    "timeseries_table = []"
   ]
  },
  {
   "cell_type": "markdown",
   "metadata": {},
   "source": [
    "## Define Headerline with help functionality"
   ]
  },
  {
   "cell_type": "markdown",
   "metadata": {},
   "source": [
    "Define appearance of Headerline and also implement the help functionality, so the help text is displayed in the Headerline"
   ]
  },
  {
   "cell_type": "markdown",
   "metadata": {},
   "source": [
    "### help functions for Headerline buttons"
   ]
  },
  {
   "cell_type": "code",
   "execution_count": null,
   "metadata": {},
   "outputs": [],
   "source": [
    "def next_help_button_click(arg=None):\n",
    "    global header_text_status\n",
    "\n",
    "    header_text_status += 1\n",
    "\n",
    "    help_function()\n",
    "\n",
    "\n",
    "def previous_help_button_click(arg=None):\n",
    "    global header_text_status\n",
    "\n",
    "    header_text_status -= 1\n",
    "\n",
    "    help_function()"
   ]
  },
  {
   "cell_type": "markdown",
   "metadata": {},
   "source": [
    "### define elements of Headerline"
   ]
  },
  {
   "cell_type": "code",
   "execution_count": null,
   "metadata": {},
   "outputs": [],
   "source": [
    "header_text_default = ('<div style=\"font-size:20px\">OGGM edu glacier simulator</div>' +\n",
    "                       'With this app you can simulate idealized glaciers using the ' +\n",
    "                       '<a href=\"https://oggm.org\">OGGM</a> model. If you are not familiar with glaciers at all ' +\n",
    "                       'or using the app the first time ' +\n",
    "                       'click on \"next\" to go through an introduction. <br>This app was realised ' +\n",
    "                       'using tools of <a href=\"https://holoviz.org\">HoloViz</a>.')\n",
    "header_text = pn.pane.Markdown(\n",
    "    header_text_default, sizing_mode='stretch_width')\n",
    "\n",
    "oggm_edu_logo = '<a href=\"http://edu.oggm.org\"><img src=\"http://edu.oggm.org/en/latest/_images/oggm.gif\" width=170></a>'\n",
    "hv_logo = '<a href=\"https://holoviz.org\"><img src=\"https://holoviz.org/assets/holoviz-logo-stacked.svg\" width=80></a>'\n",
    "\n",
    "next_help_button = pn.widgets.Button(disabled=False,\n",
    "                                     name='next',\n",
    "                                     button_type='success',\n",
    "                                     width=75)\n",
    "next_help_button.param.watch(next_help_button_click, 'clicks')\n",
    "\n",
    "previous_help_button = pn.widgets.Button(disabled=True,\n",
    "                                         name='previous',\n",
    "                                         button_type='danger',\n",
    "                                         width=75)\n",
    "previous_help_button.param.watch(previous_help_button_click, 'clicks')"
   ]
  },
  {
   "cell_type": "markdown",
   "metadata": {},
   "source": [
    "### Put actual Headerline together"
   ]
  },
  {
   "cell_type": "code",
   "execution_count": null,
   "metadata": {},
   "outputs": [],
   "source": [
    "header = pn.Row(pn.Pane(oggm_edu_logo),\n",
    "                pn.layout.Spacer(width=10),\n",
    "                header_text,\n",
    "                pn.Column(pn.layout.Spacer(),\n",
    "                          previous_help_button,\n",
    "                          next_help_button),\n",
    "                pn.layout.Spacer(),\n",
    "                pn.Pane(hv_logo, width=80), height=120, sizing_mode='stretch_width')"
   ]
  },
  {
   "cell_type": "markdown",
   "metadata": {},
   "source": [
    "### define actual help function with help text"
   ]
  },
  {
   "cell_type": "code",
   "execution_count": null,
   "metadata": {},
   "outputs": [],
   "source": [
    "def help_function():\n",
    "    global header_text_status\n",
    "\n",
    "    if header_text_status == 0:\n",
    "        header_text.object = header_text_default\n",
    "        previous_help_button.disabled = True\n",
    "\n",
    "    elif header_text_status == 1:\n",
    "        header_text.object = ('<div style=\"font-size:20px\">OGGM edu glacier simulator beginner tour</div>' +\n",
    "                              'Welcome to the beginner tour of the <a href=\"http://edu.oggm.org\">OGGM edu</a> ' +\n",
    "                              'glacier simulater. To navigate through the tour use the \"next\" button to the right ' +\n",
    "                              'to continue the tour or \"previous\" to see the last page again. So lets start with a ' +\n",
    "                              'click on \"next\"!')\n",
    "        previous_help_button.disabled = False\n",
    "\n",
    "    elif header_text_status == 2:\n",
    "        menu.active = 0\n",
    "        header_text.object = ('First let\\'s have a look at the figures on the left side. The top figure shows ' +\n",
    "                              'the glacierbed from the side in gray. The dark blue line shows the current glacier ' +\n",
    "                              'state and you can see at the beginning this line follows the glacierbed, so there ' +\n",
    "                              'is no glacier. The figure below shows the glacier from above and the dark gray areas ' +\n",
    "                              'indicate the boarder of the glacierbed. So now click on the \"run the model\" ' +\n",
    "                              'button to see the glacier grow and then on \"next\".')\n",
    "\n",
    "    elif header_text_status == 3:\n",
    "        header_text.object = ('So now you can see the thickness of the glacier in the top figure and the length of ' +\n",
    "                              'the glacier in the bottom figure. If you want to zoom in you can do this by clicking ' +\n",
    "                              'into one of the figures, hold the click and draw an rectangle. You can see that if ' +\n",
    "                              'you zoom in into one figure the others automatically rezoom to the same extent. ' +\n",
    "                              'To go back to the original extent click on the \"Reset\" button to the right of the ' +\n",
    "                              'figures (two arrows forming a circle). After playing around with the zoom click ' +\n",
    "                              'on \"next\".')\n",
    "\n",
    "    elif header_text_status == 4:\n",
    "        header_text.object = ('Now we are concentrating on the figure in the top right corner. This figure shows ' +\n",
    "                              'the height dependent annual mass balance. But what is the annual mass balance? ' +\n",
    "                              'The unit is meter per year, so when the annual mass balance at a specific height ' +\n",
    "                              'is positive the glacier had gain mass during one year, so in other words ' +\n",
    "                              'there were more accumulation (mass gain through e.g. snowfall or wind drift) ' +\n",
    "                              'than ablation (mass loss through e.g. melting or wind drift) happening. Such a positive ' +\n",
    "                              'annual mass balance is indicated with the green area in the figure and red indicates ' +\n",
    "                              'a mass loss. (\"next\")')\n",
    "\n",
    "    elif header_text_status == 5:\n",
    "        header_text.object = ('In between the green (mass gain) and the red area (mass loss) you can see a dashed ' +\n",
    "                              'black line with the annotation ELA, which stands for Equilibrium Line Altitude. ' +\n",
    "                              'At this altitude the glacier do not change his mass during one year. And the black ' +\n",
    "                              'solid line shows the actual mass balance for each altitude band. Through the glacier ' +\n",
    "                              'flow mass is transported from higher altitudes down. For a more detailed ' +\n",
    "                              'explenation of the mass balance concept you can click on this ' +\n",
    "                              '<a href=http://www.antarcticglaciers.org/glacier-processes/introduction-glacier-mass-' +\n",
    "                              'balance/#SECTION_1>link</a>. (\"next\")')\n",
    "\n",
    "    elif header_text_status == 6:\n",
    "        header_text.object = ('Summarizing the annual mass balance determines the ' +\n",
    "                              '\"behavior\" of the glacier, e.g. how large can it become, at which altitudes the glacier ' +\n",
    "                              'can survive. So always you click on the \"run the model\" button the model is starting ' +\n",
    "                              'from zero and develops the glacier until it is in equilibrium with annual mass balance, ' +\n",
    "                              'this means the glacier geometry is not changing anymore, although internal the glacier ' +\n",
    "                              'is still moving mass from higher altitudes to lower ones. So now we start playing ' +\n",
    "                              'around with the model and look how different parameters change the geometry of the ' +\n",
    "                              'glacier. (\"next\")')\n",
    "        next_help_button.disabled = False\n",
    "\n",
    "    elif header_text_status == 7:\n",
    "        header_text.object = ('You can see that there are three parameters to play with in the beginners mode: the ' +\n",
    "                              'slope of the bedrock, the width of the bedrock and the ELA (equilibrium line altitude). ' +\n",
    "                              'At the beginning you should only change one parameter to see how it effects the glacier.' +\n",
    "                              '(end of Tour until now, more will come soon)')\n",
    "        next_help_button.disabled = True"
   ]
  },
  {
   "cell_type": "markdown",
   "metadata": {},
   "source": [
    "## Define Panels for tab menu"
   ]
  },
  {
   "cell_type": "markdown",
   "metadata": {},
   "source": [
    "Defining the individual menus and putting them together in an tab menu."
   ]
  },
  {
   "cell_type": "code",
   "execution_count": null,
   "metadata": {},
   "outputs": [],
   "source": [
    "# define background color of tab menu\n",
    "menu_background = '#fafafa'"
   ]
  },
  {
   "cell_type": "markdown",
   "metadata": {},
   "source": [
    "### Panel for beginner mode"
   ]
  },
  {
   "cell_type": "markdown",
   "metadata": {},
   "source": [
    "beginner button function"
   ]
  },
  {
   "cell_type": "code",
   "execution_count": null,
   "metadata": {},
   "outputs": [],
   "source": [
    "def beginner_button_click(arg=None):\n",
    "    # set Variables not changeable in beginner mode to there default values\n",
    "    mb_gradient.value = mb_gradient_default\n",
    "    bed_rock_profile.value = bed_rock_profile_default\n",
    "    glens_creep_parameter.value = glens_creep_parameter_default\n",
    "    sliding_parameter.value = sliding_parameter_default\n",
    "\n",
    "    # for consitency set values of the advanced mode the same as choosen in beginner mode\n",
    "    ELA_height_advanced.value = ELA_height.value\n",
    "    bed_rock_width_advanced.value = bed_rock_width.value\n",
    "    bed_rock_slope_advanced.value = bed_rock_slope.value\n",
    "\n",
    "    # set numeric values out of selection\n",
    "    set_glen_a()\n",
    "    set_fs()\n",
    "\n",
    "    run_the_model(stage='beginner mode')"
   ]
  },
  {
   "cell_type": "markdown",
   "metadata": {},
   "source": [
    "actual beginner Panel"
   ]
  },
  {
   "cell_type": "code",
   "execution_count": null,
   "metadata": {
    "scrolled": true
   },
   "outputs": [],
   "source": [
    "bed_rock_slope = pn.widgets.Select(name='slope of bedrock profile',\n",
    "                                   options=bed_rock_slope_values,\n",
    "                                   value=bed_rock_slope_default,\n",
    "                                   sizing_mode='stretch_width')\n",
    "\n",
    "bed_rock_width = pn.widgets.Select(name='width along glacier',\n",
    "                                   options=bed_rock_width_values,\n",
    "                                   value=bed_rock_width_default,\n",
    "                                   sizing_mode='stretch_width')\n",
    "\n",
    "ELA_height = pn.widgets.IntSlider(name='ELA (equilibrium line altitude)',\n",
    "                                  start=ELA_height_min,\n",
    "                                  end=ELA_height_max,\n",
    "                                  step=ELA_height_step,\n",
    "                                  value=ELA_height_default,\n",
    "                                  sizing_mode='stretch_width')\n",
    "\n",
    "beginner_button = pn.widgets.Button(name='run the model',\n",
    "                                    button_type='primary',\n",
    "                                    margin=(15, 0, 0, 0))\n",
    "beginner_button.param.watch(beginner_button_click, 'clicks')\n",
    "\n",
    "beginner_panel = pn.Row(bed_rock_slope,\n",
    "                        bed_rock_width,\n",
    "                        ELA_height,\n",
    "                        beginner_button,\n",
    "                        background=menu_background,\n",
    "                        sizing_mode='stretch_width')"
   ]
  },
  {
   "cell_type": "markdown",
   "metadata": {},
   "source": [
    "### Panel for advanced mode"
   ]
  },
  {
   "cell_type": "markdown",
   "metadata": {},
   "source": [
    "advanced button help functions"
   ]
  },
  {
   "cell_type": "code",
   "execution_count": null,
   "metadata": {},
   "outputs": [],
   "source": [
    "def advance_model_click():\n",
    "    # for consitency set values of the beginner mode the same as choosen in advanced mode\n",
    "    ELA_height.value = ELA_height_advanced.value\n",
    "    bed_rock_width.value = bed_rock_width_advanced.value\n",
    "    bed_rock_slope.value = bed_rock_slope_advanced.value\n",
    "\n",
    "    # set numeric values out of selection\n",
    "    set_glen_a()\n",
    "    set_fs()"
   ]
  },
  {
   "cell_type": "markdown",
   "metadata": {},
   "source": [
    "advanced button functions"
   ]
  },
  {
   "cell_type": "code",
   "execution_count": null,
   "metadata": {},
   "outputs": [],
   "source": [
    "def run_model_equilibrium_button_click(arg=None):\n",
    "    advance_model_click()\n",
    "    run_the_model(stage='advance equilibrium')\n",
    "\n",
    "\n",
    "def run_model_years_button_click(arg=None):\n",
    "    advance_model_click()\n",
    "    run_the_model(stage='advance years')\n",
    "\n",
    "\n",
    "def create_new_model_button_click(arg=None):\n",
    "    global geometry_figure_change_index\n",
    "\n",
    "    # set sliders of beginner mode to the same as choosen in advanced mode\n",
    "    bed_rock_width.value = bed_rock_width_advanced.value\n",
    "    bed_rock_slope.value = bed_rock_slope_advanced.value\n",
    "\n",
    "    init_model()"
   ]
  },
  {
   "cell_type": "markdown",
   "metadata": {},
   "source": [
    "actual advanced Panel"
   ]
  },
  {
   "cell_type": "code",
   "execution_count": null,
   "metadata": {},
   "outputs": [],
   "source": [
    "mb_gradient = pn.widgets.IntSlider(name='mass balance gradient',\n",
    "                                   start=mb_gradient_min,\n",
    "                                   end=mb_gradient_max,\n",
    "                                   step=mb_gradient_step,\n",
    "                                   value=mb_gradient_default,\n",
    "                                   sizing_mode='stretch_width')\n",
    "\n",
    "bed_rock_profile = pn.widgets.Select(name='bedrock profile',\n",
    "                                     options=bed_rock_profile_values,\n",
    "                                     value=bed_rock_profile_default,\n",
    "                                     sizing_mode='stretch_width')\n",
    "\n",
    "ELA_height_advanced = pn.widgets.IntSlider(name='ELA',\n",
    "                                           start=ELA_height_min,\n",
    "                                           end=ELA_height_max,\n",
    "                                           step=ELA_height_step,\n",
    "                                           value=ELA_height_default,\n",
    "                                           sizing_mode='stretch_width')\n",
    "\n",
    "bed_rock_slope_advanced = pn.widgets.Select(name='slope of linear bedrock profile',\n",
    "                                            options=bed_rock_slope_values,\n",
    "                                            value=bed_rock_slope_default,\n",
    "                                            sizing_mode='stretch_width')\n",
    "\n",
    "bed_rock_width_advanced = pn.widgets.Select(name='width along glacier',\n",
    "                                            options=bed_rock_width_values,\n",
    "                                            value=bed_rock_width_default,\n",
    "                                            sizing_mode='stretch_width')\n",
    "\n",
    "glens_creep_parameter = pn.widgets.Select(name=\"Glen's creep parameter\",\n",
    "                                          options=glens_creep_parameter_values,\n",
    "                                          value=glens_creep_parameter_default,\n",
    "                                          sizing_mode='stretch_width')\n",
    "\n",
    "sliding_parameter = pn.widgets.RadioBoxGroup(name='Sliding parameter',\n",
    "                                             options=sliding_parameter_values,\n",
    "                                             value=sliding_parameter_default,\n",
    "                                             margin=(10, 0, 0, 0),\n",
    "                                             sizing_mode='stretch_width')\n",
    "\n",
    "run_model_years = pn.widgets.IntSlider(name='years to advance model',\n",
    "                                       start=years_min,\n",
    "                                       end=years_max,\n",
    "                                       step=years_step,\n",
    "                                       value=years_default,\n",
    "                                       margin=(5, 0, 0, 0),\n",
    "                                       sizing_mode='stretch_width')\n",
    "\n",
    "run_model_equilibrium_button = pn.widgets.Button(name='run to equilibrium',\n",
    "                                                 button_type='primary',\n",
    "                                                 sizing_mode='stretch_width')\n",
    "run_model_equilibrium_button.param.watch(\n",
    "    run_model_equilibrium_button_click, 'clicks')\n",
    "\n",
    "run_model_years_button = pn.widgets.Button(name='advance model',\n",
    "                                           button_type='primary',\n",
    "                                           sizing_mode='stretch_width')\n",
    "run_model_years_button.param.watch(run_model_years_button_click, 'clicks')\n",
    "\n",
    "create_new_model_button = pn.widgets.Button(name='create new model',\n",
    "                                            button_type='primary',\n",
    "                                            sizing_mode='stretch_width',\n",
    "                                            margin=(15, 0, 0, 0))\n",
    "create_new_model_button.param.watch(create_new_model_button_click, 'clicks')\n",
    "\n",
    "advanced_panel = pn.Tabs(('run the model',\n",
    "                          pn.Row(ELA_height_advanced,\n",
    "                                 mb_gradient,\n",
    "                                 glens_creep_parameter,\n",
    "                                 pn.Row(sliding_parameter,\n",
    "                                        width=90),\n",
    "                                 run_model_years,\n",
    "                                 pn.Column(run_model_years_button,\n",
    "                                           run_model_equilibrium_button,\n",
    "                                           sizing_mode='stretch_width'),\n",
    "                                 sizing_mode='stretch_width')),\n",
    "                         ('create new model',\n",
    "                          pn.Row(bed_rock_profile,\n",
    "                                 bed_rock_slope_advanced,\n",
    "                                 bed_rock_width_advanced,\n",
    "                                 create_new_model_button,\n",
    "                                 sizing_mode='stretch_width')),\n",
    "                         background=menu_background,\n",
    "                         tabs_location='left')"
   ]
  },
  {
   "cell_type": "markdown",
   "metadata": {},
   "source": [
    "### Panel for help"
   ]
  },
  {
   "cell_type": "markdown",
   "metadata": {},
   "source": [
    "help functions for buttons"
   ]
  },
  {
   "cell_type": "code",
   "execution_count": null,
   "metadata": {},
   "outputs": [],
   "source": [
    "def beginner_introduction_button_click(arg=None):\n",
    "    global header_text_status\n",
    "\n",
    "    # just to be sure the buttons are activated\n",
    "    next_help_button.disabled = False\n",
    "    previous_help_button.disabled = False\n",
    "\n",
    "    # choose the start page of the beginner tour\n",
    "    header_text_status = 1\n",
    "    help_function()\n",
    "\n",
    "\n",
    "def advanced_introduction_button_click(arg=None):\n",
    "    pass\n",
    "\n",
    "\n",
    "def show_subfigure_explenation_button_click(arg=None):\n",
    "    pass\n",
    "\n",
    "\n",
    "def show_parameter_explenation_button_click(arg=None):\n",
    "    pass"
   ]
  },
  {
   "cell_type": "markdown",
   "metadata": {},
   "source": [
    "actual help Panel"
   ]
  },
  {
   "cell_type": "code",
   "execution_count": null,
   "metadata": {},
   "outputs": [],
   "source": [
    "help_intro_text = pn.pane.Markdown('<p style=\"margin-top: 0px;\">Here you can jump to different sections ' +\n",
    "                                   'of the help tour. The help will be shown in the Headerline and you ' +\n",
    "                                   'can navigate through with the \"next\" and \"previous\" button.</p>',\n",
    "                                   sizing_mode='stretch_width', height=20)\n",
    "\n",
    "beginner_introduction_button = pn.widgets.Button(disabled=False,\n",
    "                                                 name='beginner mode tour',\n",
    "                                                 button_type='primary',\n",
    "                                                 sizing_mode='stretch_width')\n",
    "beginner_introduction_button.param.watch(\n",
    "    beginner_introduction_button_click, 'clicks')\n",
    "\n",
    "advanced_introduction_button = pn.widgets.Button(disabled=True,\n",
    "                                                 name='advanced mode introduction',\n",
    "                                                 button_type='primary',\n",
    "                                                 sizing_mode='stretch_width')\n",
    "advanced_introduction_button.param.watch(\n",
    "    advanced_introduction_button_click, 'clicks')\n",
    "\n",
    "show_subfigure_explenation_button = pn.widgets.Button(disabled=True,\n",
    "                                                      name='show explenation of each subfigure',\n",
    "                                                      button_type='primary',\n",
    "                                                      sizing_mode='stretch_width')\n",
    "show_subfigure_explenation_button.param.watch(\n",
    "    show_subfigure_explenation_button_click, 'clicks')\n",
    "\n",
    "show_parameter_explenation_button = pn.widgets.Button(disabled=True,\n",
    "                                                      name='show explenation of parameters',\n",
    "                                                      button_type='primary',\n",
    "                                                      sizing_mode='stretch_width')\n",
    "show_parameter_explenation_button.param.watch(\n",
    "    show_parameter_explenation_button_click, 'clicks')\n",
    "\n",
    "help_panel = pn.Row(help_intro_text,\n",
    "                    pn.Column(beginner_introduction_button,\n",
    "                              advanced_introduction_button),\n",
    "                    pn.Column(show_subfigure_explenation_button,\n",
    "                              show_parameter_explenation_button),\n",
    "                    background=menu_background,\n",
    "                    sizing_mode='stretch_width')"
   ]
  },
  {
   "cell_type": "markdown",
   "metadata": {},
   "source": [
    "### Panel for color options"
   ]
  },
  {
   "cell_type": "markdown",
   "metadata": {},
   "source": [
    "help functions"
   ]
  },
  {
   "cell_type": "code",
   "execution_count": null,
   "metadata": {},
   "outputs": [],
   "source": [
    "def show_velocity_changed(arg=None):\n",
    "    global geometry_figure_change_index\n",
    "    set_glacier_height_curve()\n",
    "    geometry_figure.event(count=geometry_figure_change_index)\n",
    "    geometry_figure_change_index += 1\n",
    "\n",
    "\n",
    "def show_thickness_changed(arg=None):\n",
    "    global geometry_figure_change_index\n",
    "    set_width_curve()\n",
    "    geometry_figure.event(count=geometry_figure_change_index)\n",
    "    geometry_figure_change_index += 1"
   ]
  },
  {
   "cell_type": "markdown",
   "metadata": {},
   "source": [
    "actual panel"
   ]
  },
  {
   "cell_type": "code",
   "execution_count": null,
   "metadata": {},
   "outputs": [],
   "source": [
    "show_velocity = pn.widgets.Checkbox(name='show velocity as colors (top left figure)',\n",
    "                                    sizing_mode='stretch_width',\n",
    "                                    margin=(2, 0, 0, 0))\n",
    "show_velocity.param.watch(show_velocity_changed, 'value')\n",
    "\n",
    "show_thickness = pn.widgets.Checkbox(name='show thickness as colors (bottom left figure)',\n",
    "                                     sizing_mode='stretch_width',\n",
    "                                     margin=(0, 0))\n",
    "show_thickness.param.watch(show_thickness_changed, 'value')\n",
    "\n",
    "color_options = pn.pane.Markdown(('<p style=\"margin-top: 0px;\">Here you can choose if the velocity or/and the thickness ' +\n",
    "                                  'of the ice should be shown. The colorbar shows the intervals, ' +\n",
    "                                  'maximum refers to the value shown in the \"info text\".</p> '),\n",
    "                                 height=41,\n",
    "                                 sizing_mode='stretch_width',\n",
    "                                 margin=0)\n",
    "\n",
    "\n",
    "# is needed to directly get to bokeh styling options\n",
    "def colorbar_hook(plot, element):\n",
    "    plot.handles['plot'].border_fill_color = menu_background\n",
    "    plot.handles['plot'].min_border_right = 50\n",
    "    plot.handles['plot'].min_border_bottom = 0\n",
    "    plot.handles['colorbar'].background_fill_color = menu_background\n",
    "    plot.handles['colorbar'].height = 7\n",
    "\n",
    "\n",
    "ColorBar = hv.Polygons({'x': [],\n",
    "                        'y': [],\n",
    "                        'value': [0]},\n",
    "                       vdims='value').opts(hooks=[colorbar_hook],\n",
    "                                           responsive=True,\n",
    "                                           colorbar_position='top',\n",
    "                                           colorbar_opts={'orientation': 'horizontal',\n",
    "                                                          'major_label_overrides': {-1: '0',\n",
    "                                                                                    -0.5: 'quater',\n",
    "                                                                                    0: 'half',\n",
    "                                                                                    0.5: 'three-quaters',\n",
    "                                                                                    1: 'maximum'},\n",
    "                                                          'major_label_text_font_size': '10pt'},\n",
    "                                           yaxis=None,\n",
    "                                           xaxis=None,\n",
    "                                           # show_frame=False,\n",
    "                                           toolbar=None,\n",
    "                                           frame_height=0,\n",
    "                                           cmap=colormap,\n",
    "                                           colorbar=True)\n",
    "\n",
    "color_option_panel = pn.Column(pn.Row(color_options,\n",
    "                                      pn.Column(show_velocity,\n",
    "                                                show_thickness,\n",
    "                                                background=menu_background,\n",
    "                                                sizing_mode='stretch_width')),\n",
    "                               pn.Row(ColorBar,\n",
    "                                      height=40,\n",
    "                                      sizing_mode='stretch_width'),\n",
    "                               background=menu_background,\n",
    "                               sizing_mode='stretch_width')"
   ]
  },
  {
   "cell_type": "markdown",
   "metadata": {},
   "source": [
    "### Panel for model options"
   ]
  },
  {
   "cell_type": "markdown",
   "metadata": {},
   "source": [
    "help function for button click"
   ]
  },
  {
   "cell_type": "code",
   "execution_count": null,
   "metadata": {},
   "outputs": [],
   "source": [
    "def set_model_options(arg=None):\n",
    "    global dyears\n",
    "    global max_calc_years\n",
    "\n",
    "    dyears = dyears_model_slider.value\n",
    "    max_calc_years = max_calc_years_slider.value\n",
    "    current_model_options.object = current_model_options_text.format(\n",
    "        dyears_model_slider.value, max_calc_years_slider.value)"
   ]
  },
  {
   "cell_type": "markdown",
   "metadata": {},
   "source": [
    "actual panel"
   ]
  },
  {
   "cell_type": "code",
   "execution_count": null,
   "metadata": {},
   "outputs": [],
   "source": [
    "dyears_model_slider = pn.widgets.IntSlider(name='show model progress every ... years',\n",
    "                                           start=dyears_model_start,\n",
    "                                           end=dyears_model_end,\n",
    "                                           step=dyears_model_step,\n",
    "                                           value=dyears_model_default,\n",
    "                                           sizing_mode='stretch_width')\n",
    "\n",
    "max_calc_years_slider = pn.widgets.IntSlider(name='maximum calculation year of model',\n",
    "                                             start=max_calc_years_start,\n",
    "                                             end=max_calc_years_end,\n",
    "                                             step=max_calc_years_step,\n",
    "                                             value=max_calc_years_default,\n",
    "                                             sizing_mode='stretch_width')\n",
    "\n",
    "current_model_options_text = ('Model currently showing progress every **{}** years and ' +\n",
    "                              'abort model after **{}** years of calculation')\n",
    "current_model_options = pn.pane.Markdown(current_model_options_text.format(dyears_model_default, max_calc_years_default),\n",
    "                                         sizing_mode='stretch_width')\n",
    "\n",
    "set_model_options_button = pn.widgets.Button(name='set new model options',\n",
    "                                             button_type='primary',\n",
    "                                             sizing_mode='stretch_width')\n",
    "set_model_options_button.param.watch(set_model_options, 'clicks')\n",
    "\n",
    "model_option_panel = pn.Row(current_model_options,\n",
    "                            dyears_model_slider,\n",
    "                            max_calc_years_slider,\n",
    "                            set_model_options_button,\n",
    "                            background=menu_background,\n",
    "                            sizing_mode='stretch_width')"
   ]
  },
  {
   "cell_type": "markdown",
   "metadata": {},
   "source": [
    "### Panel to choose used figures"
   ]
  },
  {
   "cell_type": "code",
   "execution_count": null,
   "metadata": {},
   "outputs": [],
   "source": [
    "# functions to set an infotext in the plots telling if they \n",
    "# are active or not\n",
    "def switch_geometry_plot(arg=None):\n",
    "    global geometry_figure_change_index\n",
    "    if show_geometry_plot.value:\n",
    "        set_info_text(stage='switched on')\n",
    "    else:\n",
    "        set_info_text(stage='switched off')\n",
    "    geometry_figure.event(count=geometry_figure_change_index)\n",
    "    geometry_figure_change_index += 1\n",
    "\n",
    "\n",
    "def switch_timeseries_plot(arg=None):\n",
    "    global timeseries_figure_change_index\n",
    "    global timeseries_table_change_index\n",
    "\n",
    "    init_timeseries_plot()\n",
    "\n",
    "    timeseries_figure.event(count=timeseries_figure_change_index)\n",
    "    timeseries_figure_change_index += 1\n",
    "    timeseries_table.event(count=timeseries_table_change_index)\n",
    "    timeseries_table_change_index += 1"
   ]
  },
  {
   "cell_type": "code",
   "execution_count": null,
   "metadata": {},
   "outputs": [],
   "source": [
    "show_geometry_plot = pn.widgets.Checkbox(\n",
    "    name='show geometry plot', value=True)\n",
    "show_geometry_plot.param.watch(switch_geometry_plot, 'value')\n",
    "\n",
    "show_timeseries_plot = pn.widgets.Checkbox(\n",
    "    name='show timeseries plot', value=False)\n",
    "show_timeseries_plot.param.watch(switch_timeseries_plot, 'value')\n",
    "\n",
    "choose_plots_panel = pn.Column(show_geometry_plot,\n",
    "                               show_timeseries_plot,\n",
    "                               background=menu_background,\n",
    "                               sizing_mode='stretch_width')"
   ]
  },
  {
   "cell_type": "markdown",
   "metadata": {},
   "source": [
    "### add all panels together as tabs"
   ]
  },
  {
   "cell_type": "code",
   "execution_count": null,
   "metadata": {},
   "outputs": [],
   "source": [
    "menu = pn.Tabs(('beginner mode', beginner_panel),\n",
    "               ('advanced mode', advanced_panel),\n",
    "               ('color options', color_option_panel),\n",
    "               ('model options', model_option_panel),\n",
    "               ('choose plots', choose_plots_panel),\n",
    "               ('find help here', help_panel),\n",
    "               background=menu_background)"
   ]
  },
  {
   "cell_type": "markdown",
   "metadata": {},
   "source": [
    "## Define functions to set model parameters"
   ]
  },
  {
   "cell_type": "markdown",
   "metadata": {},
   "source": [
    "Functions to set model parameters, which are needed to initialize a new model"
   ]
  },
  {
   "cell_type": "markdown",
   "metadata": {},
   "source": [
    "### set bed h"
   ]
  },
  {
   "cell_type": "code",
   "execution_count": null,
   "metadata": {},
   "outputs": [],
   "source": [
    "def set_bed_h():\n",
    "    global bed_h\n",
    "\n",
    "    # look which bed rock profile was chosen\n",
    "    if bed_rock_profile.value == 'linear':\n",
    "        # look which slope was choosen and set the heigth at each point along the glacier\n",
    "        if bed_rock_slope.value == 'steepest':\n",
    "            bed_h = np.append(np.linspace(glacier_top_height, 0, np.round(nx / 4)),\n",
    "                              np.zeros(nx - np.int(np.round(nx / 4))))\n",
    "        elif bed_rock_slope.value == 'steeper':\n",
    "            bed_h = np.append(np.linspace(glacier_top_height, 0, np.round(nx / 4) * 2),\n",
    "                              np.zeros(nx - np.int(np.round(nx / 4) * 2)))\n",
    "        elif bed_rock_slope.value == 'steep':\n",
    "            bed_h = np.append(np.linspace(glacier_top_height, 0, np.round(nx / 4) * 3),\n",
    "                              np.zeros(nx - np.int(np.round(nx / 4) * 3)))\n",
    "        elif bed_rock_slope.value == 'flat':\n",
    "            bed_h = np.linspace(glacier_top_height, 0, nx)\n",
    "        elif bed_rock_slope.value == 'flatter':\n",
    "            bed_h = np.linspace(glacier_top_height, 1500, nx)\n",
    "        elif bed_rock_slope.value == 'flattest':\n",
    "            bed_h = np.linspace(glacier_top_height, 3000, nx)\n",
    "\n",
    "    elif bed_rock_profile.value == 'getting flatter':\n",
    "        bed_h = np.array([(np.log(x / nx + 0.03) / np.log(0.5) * 0.2 + 0.03) *\n",
    "                          glacier_top_height for x in np.arange(nx)])\n",
    "\n",
    "    elif bed_rock_profile.value == 'getting steeper':\n",
    "        bed_h = np.array([(np.log(-x / nx / 4 + 0.26) * 0.2 / np.log(2) + 1.3) *\n",
    "                          glacier_top_height for x in np.arange(nx)])\n",
    "\n",
    "    elif bed_rock_profile.value == 'cliff':\n",
    "        # define extend of cliff\n",
    "        cliff_top = 2500\n",
    "        cliff_bottom = 2400\n",
    "\n",
    "        bed_h = np.concatenate((np.linspace(glacier_top_height, cliff_top, nx/2),\n",
    "                                np.linspace(cliff_bottom, glacier_bottom_height, nx/2)))"
   ]
  },
  {
   "cell_type": "markdown",
   "metadata": {},
   "source": [
    "### set widths"
   ]
  },
  {
   "cell_type": "code",
   "execution_count": null,
   "metadata": {},
   "outputs": [],
   "source": [
    "def set_widths():\n",
    "    global widths\n",
    "\n",
    "    # look which glacier width was selected\n",
    "    if bed_rock_width.value == 'constant':\n",
    "        widths = np.zeros(nx) + 4.\n",
    "\n",
    "    elif bed_rock_width.value == 'getting wider':\n",
    "        widths = np.array([(2 / nx * x + 0.5) * 2 for x in np.arange(nx)])\n",
    "\n",
    "    elif bed_rock_width.value == 'getting narrower':\n",
    "        widths = np.array([(-2 / nx * x + 2.5) * 2 for x in np.arange(nx)])\n",
    "\n",
    "    elif bed_rock_width.value == 'wide at the top and narrow at the bottom':\n",
    "        widths = np.append(np.ones(np.int(np.round(nx/5))) * 4,\n",
    "                           np.ones(np.int(nx - np.round(nx/5))) * 2)"
   ]
  },
  {
   "cell_type": "markdown",
   "metadata": {},
   "source": [
    "### set glen a"
   ]
  },
  {
   "cell_type": "code",
   "execution_count": null,
   "metadata": {},
   "outputs": [],
   "source": [
    "def set_glen_a():\n",
    "    global glen_a\n",
    "\n",
    "    if glens_creep_parameter.value == 'medium':\n",
    "        glen_a = cfg.PARAMS['glen_a']\n",
    "    elif glens_creep_parameter.value == 'small':\n",
    "        glen_a = cfg.PARAMS['glen_a'] / 10\n",
    "    elif glens_creep_parameter.value == 'large':\n",
    "        glen_a = cfg.PARAMS['glen_a'] * 10"
   ]
  },
  {
   "cell_type": "markdown",
   "metadata": {},
   "source": [
    "### set fs"
   ]
  },
  {
   "cell_type": "code",
   "execution_count": null,
   "metadata": {},
   "outputs": [],
   "source": [
    "def set_fs():\n",
    "    global fs\n",
    "\n",
    "    if sliding_parameter.value == 'no sliding':\n",
    "        fs = 0\n",
    "    elif sliding_parameter.value == 'sliding':\n",
    "        fs = 5.7e-20"
   ]
  },
  {
   "cell_type": "markdown",
   "metadata": {},
   "source": [
    "### set mb model"
   ]
  },
  {
   "cell_type": "code",
   "execution_count": null,
   "metadata": {},
   "outputs": [],
   "source": [
    "def set_mb_model():\n",
    "    global mb_model\n",
    "\n",
    "    ELA = int(ELA_height.value)\n",
    "    gradient = int(mb_gradient.value)\n",
    "\n",
    "    mb_model = LinearMassBalance(ELA, grad=gradient)"
   ]
  },
  {
   "cell_type": "markdown",
   "metadata": {},
   "source": [
    "## Define functions to initialize a model and plots"
   ]
  },
  {
   "cell_type": "markdown",
   "metadata": {},
   "source": [
    "Functions initialize a new model (set all parameters and define new `FlowlineModel`) and also set all plots to there default appearance"
   ]
  },
  {
   "cell_type": "markdown",
   "metadata": {},
   "source": [
    "### init model"
   ]
  },
  {
   "cell_type": "code",
   "execution_count": null,
   "metadata": {},
   "outputs": [],
   "source": [
    "def init_model():\n",
    "    global model\n",
    "\n",
    "    # set all parameters for the model according to the choosen parameters from the menu\n",
    "    set_mb_model()\n",
    "    set_bed_h()\n",
    "    set_widths()\n",
    "    set_glen_a()\n",
    "    set_fs()\n",
    "\n",
    "    # set glacier surface height to bed height because at the beginning there is no glacier\n",
    "    surface_h = bed_h\n",
    "\n",
    "    # initialize flowline with rectangular shape of glacier\n",
    "    model_flowline = RectangularBedFlowline(surface_h=surface_h, bed_h=bed_h,\n",
    "                                            widths=widths, map_dx=map_dx)\n",
    "\n",
    "    # initialize the actual model\n",
    "    model = FlowlineModel(model_flowline, mb_model=mb_model, y0=0., glen_a=glen_a,\n",
    "                          fs=fs, check_for_boundaries=False)\n",
    "\n",
    "    # initialize all plots with new model\n",
    "    init_geometry_plot()\n",
    "    init_timeseries_plot()"
   ]
  },
  {
   "cell_type": "markdown",
   "metadata": {},
   "source": [
    "### init geometry plot"
   ]
  },
  {
   "cell_type": "code",
   "execution_count": null,
   "metadata": {},
   "outputs": [],
   "source": [
    "def init_geometry_plot():\n",
    "    global run_surface_heights\n",
    "    global glacier_outlines\n",
    "    global geometry_figure_change_index\n",
    "\n",
    "    # set surface height for plotting, at beginn old and new one are the same\n",
    "    run_surface_heights = np.repeat(\n",
    "        np.array(model.fls[-1].surface_h, ndmin=2), 2, axis=0)\n",
    "\n",
    "    # set glacier outlines for plotting, at beginn old and new one are the same\n",
    "    glacier_outlines = np.repeat(np.array(\n",
    "        np.where(model.fls[-1].thick > 0, widths, nan_array), ndmin=2), 2, axis=0)\n",
    "\n",
    "    # set all subplots for the geometry plot\n",
    "    if show_geometry_plot.value:\n",
    "        set_info_text(stage='new model')\n",
    "    else:\n",
    "        set_info_text(stage='switched off')\n",
    "    set_bed_rock_curves()\n",
    "    set_glacier_height_curve()\n",
    "    set_mb_curve()\n",
    "    set_width_curve()\n",
    "\n",
    "    # force to refresh the geometry plot, the try statement is needed for the first initialization,\n",
    "    # when the dynamic map do not yet exist\n",
    "    try:\n",
    "        geometry_figure.event(count=geometry_figure_change_index)\n",
    "        geometry_figure_change_index += 1\n",
    "    except NameError:\n",
    "        pass"
   ]
  },
  {
   "cell_type": "markdown",
   "metadata": {},
   "source": [
    "### init timeseries plot"
   ]
  },
  {
   "cell_type": "code",
   "execution_count": null,
   "metadata": {},
   "outputs": [],
   "source": [
    "def init_timeseries_plot():\n",
    "    global glacier_volume\n",
    "    global glacier_length\n",
    "    global glacier_time\n",
    "    global timeseries_vlin_pos\n",
    "    global years_table\n",
    "    global ELA_table\n",
    "    global mb_gradient_table\n",
    "    global glen_a_table\n",
    "    global fs_table\n",
    "    global volume_table\n",
    "    global length_table\n",
    "    global timeseries_table_change_index\n",
    "    global timeseries_figure_change_index\n",
    "\n",
    "    # set parameters for volume and length plot back to default\n",
    "    glacier_volume = [0]\n",
    "    glacier_length = [0]\n",
    "    glacier_time = [0]\n",
    "    timeseries_vlin_pos = [0]\n",
    "\n",
    "    # change the volume and length subplots\n",
    "    set_glacier_volume_curve()\n",
    "    set_glacier_length_curve()\n",
    "\n",
    "    # empty table entries back\n",
    "    years_table = []\n",
    "    ELA_table = []\n",
    "    mb_gradient_table = []\n",
    "    glen_a_table = []\n",
    "    fs_table = []\n",
    "    volume_table = []\n",
    "    length_table = []\n",
    "\n",
    "    # set the new values in the table\n",
    "    set_timeseries_table()\n",
    "\n",
    "    # force the timeseries table to refresh, the try statement is needed for the first initialization,\n",
    "    # when the dynamic map do not yet exist\n",
    "    try:\n",
    "        timeseries_table_DynamicMap.event(count=timeseries_table_change_index)\n",
    "        timeseries_table_change_index += 1\n",
    "    except NameError:\n",
    "        pass\n",
    "\n",
    "    # force the timeseries figure to refresh, the try statement is needed for the first initialization,\n",
    "    # when the dynamic map do not yet exist\n",
    "    try:\n",
    "        timeseries_figure.event(count=timeseries_figure_change_index)\n",
    "        timeseries_figure_change_index += 1\n",
    "    except NameError:\n",
    "        pass"
   ]
  },
  {
   "cell_type": "markdown",
   "metadata": {},
   "source": [
    "## Define function for creating curves"
   ]
  },
  {
   "cell_type": "markdown",
   "metadata": {},
   "source": [
    "Functions to determine the look of each subplot or subplot element. After the definition the Functions are also called so all subplots are set to the default looking."
   ]
  },
  {
   "cell_type": "markdown",
   "metadata": {},
   "source": [
    "### set bed rock curves"
   ]
  },
  {
   "cell_type": "code",
   "execution_count": null,
   "metadata": {},
   "outputs": [],
   "source": [
    "def set_bed_rock_curves():\n",
    "    global bed_rock_height_curve\n",
    "    global bed_rock_width_curve\n",
    "\n",
    "    # create curve of bed rock for view from beside (top left subfigure, geometry plot)\n",
    "    bed_rock_height_curve = hv.Area((distance_along_glacier, bed_h),\n",
    "                                    'distance along glacier (km)', 'altitude (m)',\n",
    "                                    ).opts(default_tools=default_tools_geometry,\n",
    "                                           color='lightgray',\n",
    "                                           line_alpha=0)\n",
    "\n",
    "    # create curve of bed rock for view from above (bottom left subfigure, geometry plot)\n",
    "    bed_rock_width_curve = hv.Area((distance_along_glacier, -widths/2, widths/2),\n",
    "                                   kdims=['distance along glacier (km)'],\n",
    "                                   vdims=['y', 'y2']\n",
    "                                   # label='glacier rock bed'\n",
    "                                   ).redim.label(x='distance along glacier (km)',\n",
    "                                                 y='width (m)').opts(default_tools=default_tools_geometry,\n",
    "                                                                     color='lightgray',\n",
    "                                                                     line_alpha=0)"
   ]
  },
  {
   "cell_type": "markdown",
   "metadata": {},
   "source": [
    "### set glacier height curve"
   ]
  },
  {
   "cell_type": "code",
   "execution_count": null,
   "metadata": {},
   "outputs": [],
   "source": [
    "def set_glacier_height_curve():\n",
    "    global glacier_height_curve\n",
    "\n",
    "    ELA = int(ELA_height.value)\n",
    "\n",
    "    if not np.array_equal(run_surface_heights[0], bed_h):\n",
    "        glacier_height_curve = (hv.Area((distance_along_glacier, run_surface_heights[0]),\n",
    "                                        'distance along glacier (km)', 'altitude (m)',\n",
    "                                        # label='last'\n",
    "                                        ).opts(default_tools=default_tools_geometry,\n",
    "                                               line_dash='dashed',\n",
    "                                               line_color='darkgray',\n",
    "                                               color='white',\n",
    "                                               alpha=0.6,\n",
    "                                               line_alpha=1,\n",
    "                                               line_width=3) *\n",
    "                                hv.Area((distance_along_glacier, run_surface_heights[1]),\n",
    "                                        'distance along glacier (km)', 'altitude (m)',\n",
    "                                        label='glacier'\n",
    "                                        ).opts(default_tools=default_tools_geometry,\n",
    "                                               color='white',\n",
    "                                               line_color='blue',\n",
    "                                               alpha=0.6,\n",
    "                                               line_alpha=1,\n",
    "                                               line_width=3))\n",
    "    else:\n",
    "        glacier_height_curve = (hv.Area(([], []),\n",
    "                                        'distance along glacier (km)', 'altitude (m)',\n",
    "                                        # label='last'\n",
    "                                        ).opts(default_tools=default_tools_geometry,\n",
    "                                               line_dash='dashed',\n",
    "                                               line_color='darkgray',\n",
    "                                               color='white',\n",
    "                                               alpha=0.6,\n",
    "                                               line_alpha=1,\n",
    "                                               line_width=3) *\n",
    "                                hv.Area((distance_along_glacier, run_surface_heights[1]),\n",
    "                                        'distance along glacier (km)', 'altitude (m)',\n",
    "                                        label='glacier'\n",
    "                                        ).opts(default_tools=default_tools_geometry,\n",
    "                                               color='white',\n",
    "                                               line_color='blue',\n",
    "                                               alpha=1,\n",
    "                                               line_alpha=1,\n",
    "                                               line_width=3))\n",
    "\n",
    "     # looking for potential segments which can be colored if wanted\n",
    "    index_of_segments = np.arange(np.sum(model.fls[-1].thick > 0))\n",
    "\n",
    "    # show ice velocity in colors if wanted and if there is something to show\n",
    "    if show_velocity.value and index_of_segments.size != 0:\n",
    "        # calculate the mean velocity between two segments\n",
    "        plot_velocity = [(np.array(model.get_diagnostics()['ice_velocity'])[i] +\n",
    "                          np.array(model.get_diagnostics()['ice_velocity'])[i + 1]) / 2\n",
    "                         for i in index_of_segments]\n",
    "\n",
    "        # try statement is necessery because there are some problems with 'linear_cmap'\n",
    "        # when the app is started in the notebook, and it works when the app is shown\n",
    "        # in the browser seperatly\n",
    "        try:\n",
    "            # is necessary so the line_color is the same as the filled color of the polygons\n",
    "            velocity_mapper = []\n",
    "            velocity_mapper = linear_cmap(field_name='velocity', palette=colormap,\n",
    "                                          low=np.min(plot_velocity),\n",
    "                                          high=np.max(plot_velocity))\n",
    "\n",
    "            # actual colored velocity\n",
    "            glacier_height_curve *= hv.Polygons([{'x': [distance_along_glacier[i],\n",
    "                                                        distance_along_glacier[i + 1],\n",
    "                                                        distance_along_glacier[i + 1],\n",
    "                                                        distance_along_glacier[i]],\n",
    "                                                  'y': [bed_h[i],  # 0,\n",
    "                                                        bed_h[i+1],  # 0,\n",
    "                                                        run_surface_heights[1][i + 1],\n",
    "                                                        run_surface_heights[1][i]],\n",
    "                                                  'velocity': plot_velocity[i]}\n",
    "                                                 for i in index_of_segments],\n",
    "                                                vdims='velocity').opts(default_tools=default_tools_geometry,\n",
    "                                                                       line_color=velocity_mapper,\n",
    "                                                                       cmap=colormap)\n",
    "\n",
    "        except:\n",
    "            glacier_height_curve *= hv.Polygons([{'x': [distance_along_glacier[i],\n",
    "                                                        distance_along_glacier[i + 1],\n",
    "                                                        distance_along_glacier[i + 1],\n",
    "                                                        distance_along_glacier[i]],\n",
    "                                                  'y': [bed_h[i],  # 0,\n",
    "                                                        bed_h[i+1],  # 0,\n",
    "                                                        run_surface_heights[1][i + 1],\n",
    "                                                        run_surface_heights[1][i]],\n",
    "                                                  'velocity': plot_velocity[i]}\n",
    "                                                 for i in index_of_segments],\n",
    "                                                vdims='velocity').opts(default_tools=default_tools_geometry,\n",
    "                                                                       line_color=None,\n",
    "                                                                       cmap=colormap)\n",
    "\n",
    "    else:\n",
    "        # when there is no glacier or colors should not be shown\n",
    "        # this is needed so bokeh knows about the Polygons element\n",
    "        glacier_height_curve *= hv.Polygons([{'x': [],\n",
    "                                              'y': [],\n",
    "                                              'velocity': [0]}],\n",
    "                                            vdims='velocity').opts(default_tools=default_tools_geometry)\n",
    "\n",
    "    # add ELA to plot\n",
    "    glacier_height_curve *= hv.Curve((distance_along_glacier, np.repeat(ELA, np.size(distance_along_glacier))),\n",
    "                                     'distance along glacier (km)',\n",
    "                                     'altitude (m)'\n",
    "                                     ).opts(default_tools=default_tools_geometry,\n",
    "                                            line_dash='dashed',\n",
    "                                            line_width=3,\n",
    "                                            color='black')"
   ]
  },
  {
   "cell_type": "markdown",
   "metadata": {},
   "source": [
    "### set mb curve"
   ]
  },
  {
   "cell_type": "code",
   "execution_count": null,
   "metadata": {},
   "outputs": [],
   "source": [
    "def set_mb_curve():\n",
    "    global mb_curve\n",
    "\n",
    "    ELA = int(ELA_height.value)\n",
    "    \n",
    "    # define colors for mass gain/loss\n",
    "    mass_gain_color = 'green'\n",
    "    mass_loss_color = 'red'\n",
    "\n",
    "    # define the range of the mass balance curve wich should be shown\n",
    "    x_range_of_mb_curve = np.array([-20, 20])\n",
    "    y_range_of_mb_curve = np.array([0, 4500])\n",
    "\n",
    "    # get the annual mass balance for the given range of the x axis\n",
    "    annual_mb = mb_model.get_annual_mb(y_range_of_mb_curve) * cfg.SEC_IN_YEAR\n",
    "\n",
    "    # get the index for the current glacier extent\n",
    "    glacier_extent_index = np.sum(run_surface_heights[1]-bed_h > 0)\n",
    "\n",
    "    if glacier_extent_index == 0:\n",
    "        mb_curve = (hv.Area(([], [], []),\n",
    "                            kdims=['annual mass balance (m/year)'],\n",
    "                            # vdims have to be different\n",
    "                            vdims=['altitude (m)', 'altitude (m) '],\n",
    "                            label='mass gain'\n",
    "                            ).opts(default_tools=default_tools_geometry,\n",
    "                                   color=mass_gain_color,\n",
    "                                   line_alpha=0) *\n",
    "                    hv.Area(([], [], []),\n",
    "                            kdims=['annual mass balance (m/year)'],\n",
    "                            # vdims have to be different\n",
    "                            vdims=['altitude (m)', 'altitude (m) '],\n",
    "                            label='mass loss'\n",
    "                            ).opts(default_tools=default_tools_geometry,\n",
    "                                   color=mass_loss_color,\n",
    "                                   line_alpha=0))\n",
    "    elif run_surface_heights[1][glacier_extent_index] >= ELA:\n",
    "        mb_curve = (hv.Area(([x_range_of_mb_curve],\n",
    "                             [np.repeat(run_surface_heights[1]\n",
    "                                        [glacier_extent_index], 2)],\n",
    "                             [np.repeat(run_surface_heights[1][0], 2)]),\n",
    "                            kdims=['annual mass balance (m/year)'],\n",
    "                            # vdims have to be different\n",
    "                            vdims=['altitude (m)', 'altitude (m) '],\n",
    "                            label='mass gain'\n",
    "                            ).opts(default_tools=default_tools_geometry,\n",
    "                                   color=mass_gain_color,\n",
    "                                   line_alpha=0) *\n",
    "                    hv.Area(([], [], []),\n",
    "                            kdims=['annual mass balance (m/year)'],\n",
    "                            # vdims have to be different\n",
    "                            vdims=['altitude (m)', 'altitude (m) '],\n",
    "                            label=mass_loss_color\n",
    "                            ).opts(default_tools=default_tools_geometry,\n",
    "                                   color='lightcoral',\n",
    "                                   line_alpha=0))\n",
    "    else:\n",
    "        mb_curve = (hv.Area(([x_range_of_mb_curve],\n",
    "                             [np.repeat(ELA, 2)],\n",
    "                             [np.repeat(run_surface_heights[1][0], 2)]),\n",
    "                            kdims=['annual mass balance (m/year)'],\n",
    "                            # vdims have to be different\n",
    "                            vdims=['altitude (m)', 'altitude (m) '],\n",
    "                            label='mass gain'\n",
    "                            ).opts(default_tools=default_tools_geometry,\n",
    "                                   color=mass_gain_color,\n",
    "                                   line_alpha=0) *\n",
    "                    hv.Area(([x_range_of_mb_curve],\n",
    "                             [np.repeat(ELA, 2)],\n",
    "                             [np.repeat(run_surface_heights[1]\n",
    "                                        [glacier_extent_index], 2)]),\n",
    "                            kdims=['annual mass balance (m/year)'],\n",
    "                            # vdims have to be different\n",
    "                            vdims=['altitude (m)', 'altitude (m) '],\n",
    "                            label='mass loss'\n",
    "                            ).opts(default_tools=default_tools_geometry,\n",
    "                                   color=mass_loss_color,\n",
    "                                   line_alpha=0))\n",
    "\n",
    "    mb_curve *= (hv.Curve((annual_mb, y_range_of_mb_curve),\n",
    "                          'annual mass balance (m/year)',\n",
    "                          'altitude (m)',\n",
    "                          label='mass balance'\n",
    "                          ).opts(default_tools=default_tools_geometry,\n",
    "                                 color='black') *\n",
    "                 hv.Curve((x_range_of_mb_curve, np.repeat(ELA, 2)),\n",
    "                          'annual mass balance (m/year)',\n",
    "                          'altitude (m)',\n",
    "                          label='ELA'\n",
    "                          ).opts(default_tools=default_tools_geometry,\n",
    "                                 line_dash='dashed',\n",
    "                                 line_width=3,\n",
    "                                 color='black'))"
   ]
  },
  {
   "cell_type": "markdown",
   "metadata": {},
   "source": [
    "### set width curve"
   ]
  },
  {
   "cell_type": "code",
   "execution_count": null,
   "metadata": {},
   "outputs": [],
   "source": [
    "def set_ELA_x_position():\n",
    "    global ELA_x_position\n",
    "\n",
    "    # find index for ELA position on x-axis (distance along glacier)\n",
    "    ELA_x_position = (np.abs(bed_h - ELA_height.value)).argmin()"
   ]
  },
  {
   "cell_type": "code",
   "execution_count": null,
   "metadata": {},
   "outputs": [],
   "source": [
    "def set_width_curve():\n",
    "    global width_curve\n",
    "\n",
    "    # set the ELA position on the x axis\n",
    "    set_ELA_x_position()\n",
    "\n",
    "    # define lower and upper y limit which is shown\n",
    "    y_min = -3  # in m\n",
    "    y_max = 3\n",
    "\n",
    "    if not np.array_equal(run_surface_heights[0], bed_h):\n",
    "        width_curve = (hv.Area((distance_along_glacier, -glacier_outlines[0]/2, glacier_outlines[0]/2),\n",
    "                               kdims=['distance along glacier (km)'],\n",
    "                               vdims=['y', 'y2']\n",
    "                               # label='old'\n",
    "                               ).redim.label(x='distance along glacier (km)',\n",
    "                                             y='width (m)').opts(default_tools=default_tools_geometry,\n",
    "                                                                 line_dash='dashed',\n",
    "                                                                 color='white',\n",
    "                                                                 line_color='darkgray',\n",
    "                                                                 alpha=0.6,\n",
    "                                                                 line_alpha=1,\n",
    "                                                                 line_width=3) *\n",
    "                       hv.Area((distance_along_glacier, -glacier_outlines[1]/2, glacier_outlines[1]/2),\n",
    "                               kdims=['distance along glacier (km)'],\n",
    "                               vdims=['y', 'y2']\n",
    "                               # label='new'\n",
    "                               ).redim.label(x='distance along glacier (km)',\n",
    "                                             y='width (m)').opts(default_tools=default_tools_geometry,\n",
    "                                                                 color='white',\n",
    "                                                                 line_color='blue',\n",
    "                                                                 alpha=0.6,\n",
    "                                                                 line_alpha=1,\n",
    "                                                                 line_width=3))\n",
    "    else:\n",
    "        width_curve = (hv.Area(([], [], []),\n",
    "                               kdims=['distance along glacier (km)'],\n",
    "                               vdims=['y', 'y2']\n",
    "                               # label='old'\n",
    "                               ).redim.label(x='distance along glacier (km)',\n",
    "                                             y='width (m)').opts(default_tools=default_tools_geometry,\n",
    "                                                                 line_dash='dashed',\n",
    "                                                                 color='white',\n",
    "                                                                 line_color='darkgray',\n",
    "                                                                 alpha=0.6,\n",
    "                                                                 line_alpha=1,\n",
    "                                                                 line_width=3) *\n",
    "                       hv.Area((distance_along_glacier, -glacier_outlines[1]/2, glacier_outlines[1]/2),\n",
    "                               kdims=['distance along glacier (km)'],\n",
    "                               vdims=['y', 'y2']\n",
    "                               # label='new'\n",
    "                               ).redim.label(x='distance along glacier (km)',\n",
    "                                             y='width (m)').opts(default_tools=default_tools_geometry,\n",
    "                                                                 color='white',\n",
    "                                                                 line_color='blue',\n",
    "                                                                 alpha=1,\n",
    "                                                                 line_alpha=1,\n",
    "                                                                 line_width=3))\n",
    "\n",
    "    # looking for potential segments which can be colored if wanted\n",
    "    index_of_segments = np.arange(np.sum(model.fls[-1].thick > 0))\n",
    "\n",
    "    # show ice velocity in colors if wanted and there is something to show\n",
    "    if show_thickness.value and index_of_segments.size != 0:\n",
    "        # calculate the mean thickness between two segments\n",
    "        plot_thickness = [(np.array(model.get_diagnostics()['ice_thick'])[i] +\n",
    "                           np.array(model.get_diagnostics()['ice_thick'])[i + 1]) / 2\n",
    "                          for i in index_of_segments]\n",
    "\n",
    "        # try statement is necessery because there are some problems with 'linear_cmap'\n",
    "        # when the app is started in the notebook, and it works when the app is shown\n",
    "        # in the browser seperatly\n",
    "        try:\n",
    "            # is necessary so the line_color is the same as the filled color of the polygons\n",
    "            thickness_mapper = linear_cmap(field_name='thickness', palette=colormap,\n",
    "                                           low=np.min(plot_thickness),\n",
    "                                           high=np.max(plot_thickness))\n",
    "\n",
    "            # actual colored thickness\n",
    "            width_curve *= hv.Polygons([{'x': [distance_along_glacier[i],\n",
    "                                               distance_along_glacier[i + 1],\n",
    "                                               distance_along_glacier[i + 1],\n",
    "                                               distance_along_glacier[i]],\n",
    "                                         'y': [-glacier_outlines[1][i]/2,\n",
    "                                               -glacier_outlines[1][i + 1]/2,\n",
    "                                               glacier_outlines[1][i + 1]/2,\n",
    "                                               glacier_outlines[1][i]/2],\n",
    "                                         'thickness': plot_thickness[i]}\n",
    "                                        for i in index_of_segments],\n",
    "                                       vdims='thickness').opts(default_tools=default_tools_geometry,\n",
    "                                                               line_color=thickness_mapper,\n",
    "                                                               cmap=colormap)\n",
    "        except:\n",
    "            width_curve *= hv.Polygons([{'x': [distance_along_glacier[i],\n",
    "                                               distance_along_glacier[i + 1],\n",
    "                                               distance_along_glacier[i + 1],\n",
    "                                               distance_along_glacier[i]],\n",
    "                                         'y': [-glacier_outlines[1][i]/2,\n",
    "                                               -glacier_outlines[1][i + 1]/2,\n",
    "                                               glacier_outlines[1][i + 1]/2,\n",
    "                                               glacier_outlines[1][i]/2],\n",
    "                                         'thickness': plot_thickness[i]}\n",
    "                                        for i in index_of_segments],\n",
    "                                       vdims='thickness').opts(default_tools=default_tools_geometry,\n",
    "                                                               line_color=None,\n",
    "                                                               cmap=colormap)\n",
    "    else:\n",
    "        # when there is no glacier or colors should not be shown\n",
    "        # this is needed so bokeh knows about the Polygons element\n",
    "        width_curve *= hv.Polygons([{'x': [],\n",
    "                                     'y': [],\n",
    "                                     'thickness': [0]}],\n",
    "                                   vdims='thickness').opts(default_tools=default_tools_geometry)\n",
    "\n",
    "    width_curve *= (hv.Curve((distance_along_glacier, np.repeat(0, np.size(distance_along_glacier))),\n",
    "                             'distance along glacier (km)',\n",
    "                             'width (m)'  # ,\n",
    "                             # label='center Flowline'\n",
    "                             ).opts(default_tools=default_tools_geometry,\n",
    "                                    color='black',\n",
    "                                    line_width=1) *\n",
    "                    hv.Curve((np.repeat(distance_along_glacier[ELA_x_position], 2), [y_min, y_max]),\n",
    "                             'distance along glacier (km)',\n",
    "                             'width (m)',\n",
    "                             # label='ELA'\n",
    "                             ).opts(default_tools=default_tools_geometry,\n",
    "                                    line_dash='dashed',\n",
    "                                    line_width=3,\n",
    "                                    color='black'))\n",
    "\n",
    "    width_curve.opts(ylim=(y_min, y_max))"
   ]
  },
  {
   "cell_type": "markdown",
   "metadata": {},
   "source": [
    "### set info text"
   ]
  },
  {
   "cell_type": "code",
   "execution_count": null,
   "metadata": {},
   "outputs": [],
   "source": [
    "def set_info_text(stage='new model'):\n",
    "    global info_text\n",
    "\n",
    "    text_color = 'black'\n",
    "\n",
    "    if stage == 'new model':\n",
    "        text = 'New Model geometry\\ninitialised'\n",
    "    elif stage == 'switched off':\n",
    "        text = 'This plot is currently not used/updated.\\nTo switch it on go to \"choose plots\".'\n",
    "        text_color = 'red'\n",
    "    elif stage == 'switched on':\n",
    "        text = 'Plot is switched on again\\nand will be updated with the next run!'\n",
    "        text_color = 'darkgreen'\n",
    "    else:\n",
    "        if stage == 'running model':\n",
    "            text = 'Model is running: '\n",
    "        elif stage == 'equilibrium':\n",
    "            text = 'Model reached equilibrium '\n",
    "        elif stage == 'stopped model':\n",
    "            text = 'Model finished '\n",
    "        elif stage == 'aborted model':\n",
    "            text = 'Model aborted (max calculation time reached, see \"model options\")'\n",
    "\n",
    "        text += '\\nTime: {:4.0f} years          Volume: '\n",
    "\n",
    "        if model.volume_km3 > 1:\n",
    "            text += '{:9.2f} km³\\n'\n",
    "            volume = model.volume_km3\n",
    "        else:\n",
    "            text += '{:9.0f} m³\\n'\n",
    "            volume = model.volume_m3\n",
    "\n",
    "        text += 'max ice thickness: {:.0f} m          max ice velocity: {:.0f} m/year'\n",
    "        text = text.format(model.yr,\n",
    "                           volume,\n",
    "                           np.max(model.get_diagnostics()['ice_thick']),\n",
    "                           np.max(model.get_diagnostics()['ice_velocity']) * cfg.SEC_IN_YEAR)\n",
    "\n",
    "    info_text = hv.Text(0.5, 0.5, text).opts(default_tools=['save', 'reset'],\n",
    "                                             show_frame=False,\n",
    "                                             text_baseline='middle',\n",
    "                                             text_align='center',\n",
    "                                             text_font_size='10pt',\n",
    "                                             text_font='courier',\n",
    "                                             text_color=text_color,\n",
    "                                             xaxis=None,\n",
    "                                             yaxis=None)"
   ]
  },
  {
   "cell_type": "markdown",
   "metadata": {},
   "source": [
    "### set glacier volume curve"
   ]
  },
  {
   "cell_type": "code",
   "execution_count": null,
   "metadata": {},
   "outputs": [],
   "source": [
    "def set_glacier_volume_curve():\n",
    "    global glacier_volume_curve\n",
    "\n",
    "    glacier_volume_curve = hv.Curve((glacier_time, glacier_volume),\n",
    "                                    'Time (years)',\n",
    "                                    'volume (km³)'\n",
    "                                    ).opts(default_tools=default_tools_timeseries,\n",
    "                                           active_tools=default_active_tools_timeseries)\n",
    "\n",
    "    # draws 11 helplines to seperate the sections\n",
    "    for i in np.arange(11):\n",
    "        # looks if the i'th line is needed, else the line will be drawn at zero\n",
    "        try:\n",
    "            vlin_pos = timeseries_vlin_pos[i]\n",
    "        except IndexError:\n",
    "            vlin_pos = 0\n",
    "\n",
    "        # actual add the vertical lines\n",
    "        glacier_volume_curve *= hv.VLine(vlin_pos).opts(default_tools=default_tools_timeseries,\n",
    "                                                        active_tools=default_active_tools_timeseries,\n",
    "                                                        color='black')\n",
    "\n",
    "    # is needed for dynamical axes\n",
    "    glacier_volume_curve.opts(opts.Curve(framewise=True))"
   ]
  },
  {
   "cell_type": "markdown",
   "metadata": {},
   "source": [
    "### set glacier length curve"
   ]
  },
  {
   "cell_type": "code",
   "execution_count": null,
   "metadata": {},
   "outputs": [],
   "source": [
    "def set_glacier_length_curve():\n",
    "    global glacier_length_curve\n",
    "\n",
    "    glacier_length_curve = hv.Curve((glacier_time, glacier_length),\n",
    "                                    'Time (years)',\n",
    "                                    'length (m)'\n",
    "                                    ).opts(default_tools=default_tools_timeseries,\n",
    "                                           active_tools=default_active_tools_timeseries)\n",
    "\n",
    "    # variable to count how many 'empty' sections\n",
    "    empty_sections_count = 0\n",
    "\n",
    "    # draws 11 helplines to seperate the sections and add the section number\n",
    "    for i in np.arange(11):\n",
    "        # set the section number to default (if not needed)\n",
    "        section_number_text = ' '\n",
    "        section_number_x = 0\n",
    "        section_number_y = 0\n",
    "\n",
    "        # looks if the i'th line and text is needed\n",
    "        try:\n",
    "            vlin_pos = timeseries_vlin_pos[i]\n",
    "\n",
    "            # looks if vertical line position is not zero and\n",
    "            # then set the section number text and position\n",
    "            if vlin_pos != 0:\n",
    "                section_number_text = ('# ' + str(i - 1))\n",
    "                section_number_x = ((timeseries_vlin_pos[i] -\n",
    "                                     timeseries_vlin_pos[i - 1]) / 2 +\n",
    "                                    timeseries_vlin_pos[i - 1])\n",
    "                section_number_y = np.max(glacier_length) / 4\n",
    "        except IndexError:\n",
    "            vlin_pos = 0\n",
    "\n",
    "        if vlin_pos == 0:\n",
    "            empty_sections_count += 1\n",
    "\n",
    "        # actual add the vertical lines\n",
    "        glacier_length_curve *= hv.VLine(vlin_pos).opts(default_tools=default_tools_timeseries,\n",
    "                                                        active_tools=default_active_tools_timeseries,\n",
    "                                                        color='black')\n",
    "\n",
    "        # actual add the section number\n",
    "        glacier_length_curve *= hv.Text(section_number_x,\n",
    "                                        section_number_y,\n",
    "                                        section_number_text\n",
    "                                        ).opts(default_tools=default_tools_timeseries,\n",
    "                                               active_tools=default_active_tools_timeseries)\n",
    "\n",
    "    # looks if the plot is activated and if there is already someting to show,\n",
    "    # if there is nothing to show the text tells that the plot is ready\n",
    "    if show_timeseries_plot.value and len(glacier_length) == 1:\n",
    "        glacier_length_curve *= hv.Text(0,\n",
    "                                        0,\n",
    "                                        'plot is ready to use \\nand update with the next run'\n",
    "                                        ).opts(default_tools=default_tools_timeseries,\n",
    "                                               active_tools=default_active_tools_timeseries,\n",
    "                                               text_color='darkgreen')\n",
    "    elif not show_timeseries_plot.value:\n",
    "        glacier_length_curve *= hv.Text(0,\n",
    "                                        0,\n",
    "                                        'plot is switched off \\nto switch on look at \"choose plots\"'\n",
    "                                        ).opts(default_tools=default_tools_timeseries,\n",
    "                                               active_tools=default_active_tools_timeseries,\n",
    "                                               text_color='red'\n",
    "                                               )\n",
    "    else:\n",
    "        glacier_length_curve *= hv.Text(0,\n",
    "                                        0,\n",
    "                                        ' '\n",
    "                                        ).opts(default_tools=default_tools_timeseries,\n",
    "                                               active_tools=default_active_tools_timeseries)\n",
    "\n",
    "    # is needed for dynamical axes\n",
    "    glacier_length_curve.opts(opts.Curve(framewise=True))"
   ]
  },
  {
   "cell_type": "markdown",
   "metadata": {},
   "source": [
    "### set timeseries table"
   ]
  },
  {
   "cell_type": "code",
   "execution_count": null,
   "metadata": {},
   "outputs": [],
   "source": [
    "def timeseries_table_hook(plot, element):\n",
    "    plot.handles['table'].columns[0].width = 30\n",
    "    plot.handles['table'].columns[1].width = 60\n",
    "    plot.handles['table'].columns[2].width = 150\n",
    "    plot.handles['table'].columns[3].width = 110\n",
    "    plot.handles['table'].columns[4].width = 50\n",
    "    plot.handles['table'].columns[5].width = 110\n",
    "    plot.handles['table'].columns[6].width = 70\n",
    "\n",
    "\n",
    "def set_timeseries_table():\n",
    "    global timeseries_table\n",
    "\n",
    "    timeseries_table = hv.Table((years_table, ELA_table, mb_gradient_table,\n",
    "                                 glen_a_table, fs_table, volume_table,\n",
    "                                 length_table),\n",
    "                                ['Years', 'ELA (m)', 'gradient (m/year)',\n",
    "                                 'Glen\\'s creep', 'sliding'],\n",
    "                                ['volume (km³)', 'length (m)']\n",
    "                                ).opts(width=500,\n",
    "                                       hooks=[timeseries_table_hook])"
   ]
  },
  {
   "cell_type": "markdown",
   "metadata": {},
   "source": [
    "## Define function to run model"
   ]
  },
  {
   "cell_type": "code",
   "execution_count": null,
   "metadata": {},
   "outputs": [],
   "source": [
    "def run_the_model(stage='beginner mode'):\n",
    "    global model\n",
    "    global run_surface_heights\n",
    "    global glacier_outlines\n",
    "    global timeseries_table_change_index\n",
    "    global timeseries_figure_change_index\n",
    "    global geometry_figure_change_index\n",
    "\n",
    "    if stage == 'beginner mode':\n",
    "        # initialize a new model\n",
    "        init_model()\n",
    "\n",
    "    elif stage == 'advance equilibrium' or stage == 'advance years':\n",
    "        # initialize model with old extend and new parameters\n",
    "        set_mb_model()\n",
    "        set_glen_a()\n",
    "        set_fs()\n",
    "        model = FlowlineModel(model.fls[-1], mb_model=mb_model, y0=0.,\n",
    "                              glen_a=glen_a, fs=fs, check_for_boundaries=False)\n",
    "\n",
    "        # determine glacier state at starting point\n",
    "        run_surface_heights = np.repeat(\n",
    "            np.array(model.fls[-1].surface_h, ndmin=2), 2, axis=0)\n",
    "        glacier_outlines = np.repeat(np.array(\n",
    "            np.where(model.fls[-1].thick > 0, widths, nan_array), ndmin=2), 2, axis=0)\n",
    "\n",
    "    if stage == 'beginner mode' or stage == 'advance equilibrium':\n",
    "        # mostly same function as from OGGM FlowlineModel.run_until_equilibrium\n",
    "        was_close_zero = 0\n",
    "        t_rate = 1\n",
    "\n",
    "        # first expression is the threshold for the volume change from one to the next calculated step,\n",
    "        # second is the checking if the current model year is smaller than the choosen one,\n",
    "        # third checks if the volume of the glacier is not always 0 (maximum five times)\n",
    "        while (t_rate > 0.001) and (model.yr < max_calc_years) and (was_close_zero < 5):\n",
    "            v_bef = model.volume_m3\n",
    "            model.run_until(model.yr + dyears)\n",
    "            v_af = model.volume_m3\n",
    "            if np.isclose(v_bef, 0., atol=1):\n",
    "                t_rate = 1\n",
    "                was_close_zero += 1\n",
    "            else:\n",
    "                t_rate = np.abs(v_af - v_bef) / v_bef\n",
    "\n",
    "            # check if geometry plot is wanted\n",
    "            if show_geometry_plot.value:\n",
    "                # set text with current year, volume, thickness and velocity\n",
    "                set_info_text(stage='running model')\n",
    "\n",
    "                # save new surface/outline and show it on plot\n",
    "                run_surface_heights[1] = np.array(\n",
    "                    model.fls[-1].surface_h, ndmin=2)\n",
    "                glacier_outlines[1] = np.array(\n",
    "                    np.where(model.fls[-1].thick > 0, widths, nan_array), ndmin=2)\n",
    "                set_glacier_height_curve()\n",
    "                set_width_curve()\n",
    "                set_mb_curve()\n",
    "                geometry_figure.event(count=geometry_figure_change_index)\n",
    "                geometry_figure_change_index += 1\n",
    "\n",
    "            # check if timeseries plot is wanted\n",
    "            if show_timeseries_plot.value:\n",
    "                # save volume, length and time of current state\n",
    "                glacier_volume.append(model.volume_km3)\n",
    "                glacier_length.append(model.length_m)\n",
    "                glacier_time.append(glacier_time[-1] + dyears)\n",
    "\n",
    "                # set volume and length curves with new values\n",
    "                set_glacier_volume_curve()\n",
    "                set_glacier_length_curve()\n",
    "\n",
    "                # force a refresh of the timeseries plot\n",
    "                timeseries_figure.event(count=timeseries_figure_change_index)\n",
    "                timeseries_figure_change_index += 1\n",
    "\n",
    "        # check if geometry plot is wanted\n",
    "        if show_geometry_plot.value:\n",
    "            if model.yr >= max_calc_years:\n",
    "                set_info_text(stage='aborted model')\n",
    "            else:\n",
    "                # set text with equilibrium year\n",
    "                set_info_text(stage='equilibrium')\n",
    "\n",
    "            geometry_figure.event(count=geometry_figure_change_index)\n",
    "            geometry_figure_change_index += 1\n",
    "\n",
    "    elif stage == 'advance years':\n",
    "        while (model.yr < run_model_years.value):\n",
    "            model.run_until(model.yr + dyears)\n",
    "\n",
    "            # check if geometry plot is wanted\n",
    "            if show_geometry_plot.value:\n",
    "                # set text with current year and volume\n",
    "                set_info_text(stage='running model')\n",
    "\n",
    "                # save new surface/outline and show it on plot\n",
    "                run_surface_heights[1] = np.array(\n",
    "                    model.fls[-1].surface_h, ndmin=2)\n",
    "                glacier_outlines[1] = np.array(\n",
    "                    np.where(model.fls[-1].thick > 0, widths, nan_array), ndmin=2)\n",
    "                set_glacier_height_curve()\n",
    "                set_width_curve()\n",
    "                set_mb_curve()\n",
    "                geometry_figure.event(count=geometry_figure_change_index)\n",
    "                geometry_figure_change_index += 1\n",
    "\n",
    "            # check if timeseries plot is wanted\n",
    "            if show_timeseries_plot.value:\n",
    "                # save volume, length and time of current state\n",
    "                glacier_volume.append(model.volume_km3)\n",
    "                glacier_length.append(model.length_m)\n",
    "                glacier_time.append(glacier_time[-1] + dyears)\n",
    "\n",
    "                # set volume and length curves with new values\n",
    "                set_glacier_volume_curve()\n",
    "                set_glacier_length_curve()\n",
    "\n",
    "                # force a refresh of the timeseries plot\n",
    "                timeseries_figure.event(count=timeseries_figure_change_index)\n",
    "                timeseries_figure_change_index += 1\n",
    "\n",
    "        # check if geometry plot is wanted\n",
    "        if show_geometry_plot.value:\n",
    "            # set text after calculation\n",
    "            set_info_text(stage='stopped model')\n",
    "            geometry_figure.event(count=geometry_figure_change_index)\n",
    "            geometry_figure_change_index += 1\n",
    "\n",
    "    # check if timeseries plot is wanted\n",
    "    if show_timeseries_plot.value:\n",
    "        # store time for vertical lines in volume and length plot\n",
    "        timeseries_vlin_pos.append(glacier_time[-1])\n",
    "\n",
    "        # set volume and length curves with new vertical line\n",
    "        set_glacier_volume_curve()\n",
    "        set_glacier_length_curve()\n",
    "        timeseries_figure.event(count=timeseries_figure_change_index)\n",
    "        timeseries_figure_change_index += 1\n",
    "\n",
    "        # store values for table\n",
    "        years_table.append(int(model.yr))\n",
    "        ELA_table.append(ELA_height.value)\n",
    "        mb_gradient_table.append(mb_gradient.value)\n",
    "        glen_a_table.append(glens_creep_parameter.value)\n",
    "        if sliding_parameter.value == 'sliding':\n",
    "            fs_table.append('Yes')\n",
    "        else:\n",
    "            fs_table.append('No')\n",
    "        volume_table.append(np.round(model.volume_km3, decimals=3))\n",
    "        length_table.append(int(np.round(model.length_m)))\n",
    "\n",
    "        # set the new values in the table\n",
    "        set_timeseries_table()\n",
    "\n",
    "        # force the table to refresh\n",
    "        timeseries_table_DynamicMap.event(count=timeseries_table_change_index)\n",
    "        timeseries_table_change_index += 1"
   ]
  },
  {
   "cell_type": "markdown",
   "metadata": {},
   "source": [
    "## Functions for dynamic maps (arrangement of subplots)"
   ]
  },
  {
   "cell_type": "markdown",
   "metadata": {},
   "source": [
    "This functions define how the subplots will be arranged."
   ]
  },
  {
   "cell_type": "markdown",
   "metadata": {},
   "source": [
    "### change geometry figure"
   ]
  },
  {
   "cell_type": "code",
   "execution_count": null,
   "metadata": {},
   "outputs": [],
   "source": [
    "def change_geometry_figure(count=0):\n",
    "    return ((glacier_height_curve * bed_rock_height_curve).opts(legend_position='bottom_left',\n",
    "                                                                legend_cols=2,\n",
    "                                                                xaxis='top',\n",
    "                                                                bgcolor='lightblue',\n",
    "                                                                responsive=True,\n",
    "                                                                aspect=2.5) +\n",
    "            (mb_curve).opts(legend_position='bottom_right',\n",
    "                            legend_cols=4,\n",
    "                            xaxis='top',\n",
    "                            yaxis='right',\n",
    "                            bgcolor='lightgray',\n",
    "                            responsive=True,\n",
    "                            aspect=2.5) +\n",
    "            (bed_rock_width_curve * width_curve).opts(responsive=True,\n",
    "                                                      aspect=6.1,\n",
    "                                                      yformatter='%8.0f',\n",
    "                                                      bgcolor='darkgray',\n",
    "                                                      labelled=['y']) +\n",
    "            (info_text).opts(responsive=True,\n",
    "                             aspect=6.1)\n",
    "            ).opts(sizing_mode='stretch_both',\n",
    "                   toolbar='right').cols(2)"
   ]
  },
  {
   "cell_type": "markdown",
   "metadata": {},
   "source": [
    "### change timeseries figure"
   ]
  },
  {
   "cell_type": "code",
   "execution_count": null,
   "metadata": {},
   "outputs": [],
   "source": [
    "def change_timeseries_figure(count=0):\n",
    "    return ((glacier_volume_curve).opts(responsive=True,\n",
    "                                        xaxis='top',\n",
    "                                        aspect=4.7,\n",
    "                                        max_height=180) +\n",
    "            (glacier_length_curve).opts(responsive=True,\n",
    "                                        labelled=['y'],\n",
    "                                        aspect=5.1,\n",
    "                                        max_height=120)\n",
    "            ).opts(sizing_mode='stretch_both',\n",
    "                   toolbar='left').cols(1)"
   ]
  },
  {
   "cell_type": "markdown",
   "metadata": {},
   "source": [
    "### change timeseries table"
   ]
  },
  {
   "cell_type": "code",
   "execution_count": null,
   "metadata": {},
   "outputs": [],
   "source": [
    "def change_timeseries_table(count=0):\n",
    "    return timeseries_table.opts(height=300)"
   ]
  },
  {
   "cell_type": "markdown",
   "metadata": {},
   "source": [
    "## streamers and dynamic maps"
   ]
  },
  {
   "cell_type": "markdown",
   "metadata": {},
   "source": [
    "before creating the dynamic maps initialise the model and all subplots with the default values"
   ]
  },
  {
   "cell_type": "code",
   "execution_count": null,
   "metadata": {},
   "outputs": [],
   "source": [
    "init_model()"
   ]
  },
  {
   "cell_type": "markdown",
   "metadata": {},
   "source": [
    "dynamic map and stream for geometry plot"
   ]
  },
  {
   "cell_type": "code",
   "execution_count": null,
   "metadata": {},
   "outputs": [],
   "source": [
    "geometry_figure_stream = Stream.define('geometry_figure_stream', count=0)\n",
    "\n",
    "geometry_figure = hv.DynamicMap(\n",
    "    change_geometry_figure, streams=[geometry_figure_stream()])"
   ]
  },
  {
   "cell_type": "markdown",
   "metadata": {},
   "source": [
    "dynamic maps and streams for timeseries plot (figure and table)"
   ]
  },
  {
   "cell_type": "code",
   "execution_count": null,
   "metadata": {},
   "outputs": [],
   "source": [
    "timeseries_figure_stream = Stream.define('timeseries_figure_stream', count=0)\n",
    "\n",
    "timeseries_figure = hv.DynamicMap(\n",
    "    change_timeseries_figure, streams=[timeseries_figure_stream()])"
   ]
  },
  {
   "cell_type": "code",
   "execution_count": null,
   "metadata": {},
   "outputs": [],
   "source": [
    "timeseries_table_stream = Stream.define('timeseries_table_stream', count=0)\n",
    "\n",
    "timeseries_table_DynamicMap = hv.DynamicMap(\n",
    "    change_timeseries_table, streams=[timeseries_table_stream()])"
   ]
  },
  {
   "cell_type": "markdown",
   "metadata": {},
   "source": [
    "## put figures together in tab menu"
   ]
  },
  {
   "cell_type": "code",
   "execution_count": null,
   "metadata": {},
   "outputs": [],
   "source": [
    "figures = pn.Tabs(('geometry plot', geometry_figure),\n",
    "                  ('timeseries plot', pn.Row(timeseries_figure,\n",
    "                                             timeseries_table_DynamicMap,\n",
    "                                             sizing_mode='stretch_both')),\n",
    "                  tabs_location='below',\n",
    "                  sizing_mode='stretch_both')"
   ]
  },
  {
   "cell_type": "markdown",
   "metadata": {},
   "source": [
    "## App"
   ]
  },
  {
   "cell_type": "code",
   "execution_count": null,
   "metadata": {
    "scrolled": false
   },
   "outputs": [],
   "source": [
    "pn.Column(header, menu, figures, sizing_mode='stretch_both').show()"
   ]
  },
  {
   "cell_type": "markdown",
   "metadata": {},
   "source": [
    "As long as you are running this notebook \"live\" (in Jupyter, not viewing a website or a static copy), the above notebook cell should contain the fully operational dashboard here in the notebook. You can also launch the dashboard at a separate port that shows up in a new browser tab, either by changing .servable() to .show() above and re-executing that cell, or by leaving the cell as it is and running bokeh serve --show simulator.ipynb."
   ]
  },
  {
   "cell_type": "code",
   "execution_count": null,
   "metadata": {},
   "outputs": [],
   "source": []
  }
 ],
 "metadata": {
  "hide_input": false,
  "kernelspec": {
   "display_name": "Python 3",
   "language": "python",
   "name": "python3"
  },
  "language_info": {
   "codemirror_mode": {
    "name": "ipython",
    "version": 3
   },
   "file_extension": ".py",
   "mimetype": "text/x-python",
   "name": "python",
   "nbconvert_exporter": "python",
   "pygments_lexer": "ipython3",
   "version": "3.6.7"
  },
  "latex_envs": {
   "LaTeX_envs_menu_present": true,
   "autoclose": false,
   "autocomplete": true,
   "bibliofile": "biblio.bib",
   "cite_by": "apalike",
   "current_citInitial": 1,
   "eqLabelWithNumbers": true,
   "eqNumInitial": 1,
   "hotkeys": {
    "equation": "Ctrl-E",
    "itemize": "Ctrl-I"
   },
   "labels_anchors": false,
   "latex_user_defs": false,
   "report_style_numbering": false,
   "user_envs_cfg": false
  },
  "nbTranslate": {
   "displayLangs": [
    "*"
   ],
   "hotkey": "alt-t",
   "langInMainMenu": true,
   "sourceLang": "en",
   "targetLang": "fr",
   "useGoogleTranslate": true
  },
  "toc": {
   "base_numbering": 1,
   "nav_menu": {
    "height": "492.667px",
    "width": "330px"
   },
   "number_sections": false,
   "sideBar": true,
   "skip_h1_title": true,
   "title_cell": "Table of Contents",
   "title_sidebar": "Contents",
   "toc_cell": false,
   "toc_position": {},
   "toc_section_display": true,
   "toc_window_display": false
  }
 },
 "nbformat": 4,
 "nbformat_minor": 2
}
