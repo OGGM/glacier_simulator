{
 "cells": [
  {
   "cell_type": "markdown",
   "metadata": {},
   "source": [
    "# OGGM glacier simulator"
   ]
  },
  {
   "cell_type": "markdown",
   "metadata": {},
   "source": [
    "App to initialize a simple glacier and look how it develops under changing mass balance profiles."
   ]
  },
  {
   "cell_type": "markdown",
   "metadata": {},
   "source": [
    "## Import packages"
   ]
  },
  {
   "cell_type": "markdown",
   "metadata": {},
   "source": [
    "import plotting libaries"
   ]
  },
  {
   "cell_type": "code",
   "execution_count": null,
   "metadata": {},
   "outputs": [],
   "source": [
    "import holoviews as hv\n",
    "from holoviews import opts\n",
    "from holoviews.streams import Stream, param\n",
    "import panel as pn\n",
    "\n",
    "hv.extension('bokeh', width=100)\n",
    "pn.extension()"
   ]
  },
  {
   "cell_type": "markdown",
   "metadata": {},
   "source": [
    "import OGGM packages"
   ]
  },
  {
   "cell_type": "code",
   "execution_count": null,
   "metadata": {},
   "outputs": [],
   "source": [
    "# Constants for initialization\n",
    "from oggm import cfg\n",
    "cfg.initialize()\n",
    "\n",
    "# OGGM models\n",
    "from oggm.core.massbalance import LinearMassBalance\n",
    "from oggm.core.flowline import FluxBasedModel, RectangularBedFlowline, TrapezoidalBedFlowline, ParabolicBedFlowline\n",
    "\n",
    "# There are several solvers in OGGM core. We use the default one for this experiment\n",
    "from functools import partial\n",
    "FlowlineModel = partial(FluxBasedModel, min_dt=0, cfl_number=0.01)"
   ]
  },
  {
   "cell_type": "markdown",
   "metadata": {},
   "source": [
    "and some other useful packages"
   ]
  },
  {
   "cell_type": "code",
   "execution_count": null,
   "metadata": {},
   "outputs": [],
   "source": [
    "import numpy as np"
   ]
  },
  {
   "cell_type": "markdown",
   "metadata": {},
   "source": [
    "## Define some variables for model and plotting"
   ]
  },
  {
   "cell_type": "code",
   "execution_count": null,
   "metadata": {},
   "outputs": [],
   "source": [
    "# number of steps from bottem to top of glacier\n",
    "nx = 200\n",
    "\n",
    "# model grid spacing in m\n",
    "map_dx = 100\n",
    "\n",
    "# distance along glacier (x-axis of glacier profil plot) in km\n",
    "distance_along_glacier = np.linspace(0, nx, nx) * map_dx * 1e-3\n",
    "\n",
    "# default tools for plot\n",
    "default_tools = ['save', 'wheel_zoom', 'box_zoom', 'reset']\n",
    "\n",
    "# glacier top height\n",
    "glacier_top_height = 4000\n",
    "\n",
    "# glacier bottom height\n",
    "glacier_bottom_height = 0\n",
    "\n",
    "# glacier range\n",
    "max_glacier_range = np.linspace(glacier_bottom_height,\n",
    "                                glacier_top_height, nx)\n"
   ]
  },
  {
   "cell_type": "markdown",
   "metadata": {},
   "source": [
    "## Define ranges for slider:"
   ]
  },
  {
   "cell_type": "code",
   "execution_count": null,
   "metadata": {},
   "outputs": [],
   "source": [
    "# ELA height\n",
    "ELA_height_min = 2000\n",
    "ELA_height_max = 4500\n",
    "ELA_height_default = 3000\n",
    "ELA_height_range = np.arange(ELA_height_min,\n",
    "                             ELA_height_max + 1,\n",
    "                             100)\n",
    "\n",
    "# mass balance gradient \n",
    "mb_gradient_max = 15\n",
    "mb_gradient_min = 1\n",
    "mb_gradient_default = 4\n",
    "mb_gradient_range = np.arange(mb_gradient_min,\n",
    "                              mb_gradient_max + 1,\n",
    "                              1)\n",
    "\n",
    "# years of calculation\n",
    "years_min = 10\n",
    "years_max = 500\n",
    "years_default = 150\n",
    "years_range = np.arange(years_min, years_max + 1, 10)"
   ]
  },
  {
   "cell_type": "markdown",
   "metadata": {},
   "source": [
    "## Define global model variables:"
   ]
  },
  {
   "cell_type": "code",
   "execution_count": null,
   "metadata": {},
   "outputs": [],
   "source": [
    "bed_h = []\n",
    "mb_model = []\n",
    "model = []\n",
    "run_surface_heights = []\n",
    "widths = []\n",
    "run_loop_count = 0"
   ]
  },
  {
   "cell_type": "markdown",
   "metadata": {},
   "source": [
    "## Define global curves:"
   ]
  },
  {
   "cell_type": "code",
   "execution_count": null,
   "metadata": {},
   "outputs": [],
   "source": [
    "bed_rock_curve = []\n",
    "glacier_height_curve = []\n",
    "mb_curve = []\n",
    "width_curve = []"
   ]
  },
  {
   "cell_type": "markdown",
   "metadata": {},
   "source": [
    "## Define Panels"
   ]
  },
  {
   "cell_type": "markdown",
   "metadata": {},
   "source": [
    "### Panel for initializing glacier bed"
   ]
  },
  {
   "cell_type": "code",
   "execution_count": null,
   "metadata": {},
   "outputs": [],
   "source": [
    "def initializing_glacier_bed_button_click(arg=None):\n",
    "    main_figure.event(button_name='glacier_bed_button',\n",
    "                      clicks=init_glacier_bed_button.clicks)\n",
    "    "
   ]
  },
  {
   "cell_type": "code",
   "execution_count": null,
   "metadata": {
    "scrolled": true
   },
   "outputs": [],
   "source": [
    "bed_shape = pn.widgets.Select(name='bed shape',\n",
    "                              options=['rectangular', 'trapezoidal', 'parabolic'])\n",
    "\n",
    "bed_rock_profile = pn.widgets.Select(name='bedrock profile',\n",
    "                                     options=['linear', 'getting flatter', 'getting steeper', 'cliff'])\n",
    "\n",
    "bed_rock_width = pn.widgets.Select(name='width along glacier',\n",
    "                                   options=['constant', 'getting narrower', 'getting wider'])\n",
    "\n",
    "init_glacier_bed_button = pn.widgets.Button(name='initializing glacier bed',\n",
    "                                            button_type='primary')\n",
    "init_glacier_bed_button.param.watch(initializing_glacier_bed_button_click, 'clicks');\n",
    "\n",
    "bed_rock_panel = pn.Column(pn.Row(bed_shape, bed_rock_profile, bed_rock_width),\n",
    "                           init_glacier_bed_button)"
   ]
  },
  {
   "cell_type": "markdown",
   "metadata": {},
   "source": [
    "### Panel for running the model"
   ]
  },
  {
   "cell_type": "code",
   "execution_count": null,
   "metadata": {},
   "outputs": [],
   "source": [
    "def run_model_button_click(arg=None):\n",
    "    run_the_model(new_model=False)\n",
    "    "
   ]
  },
  {
   "cell_type": "code",
   "execution_count": null,
   "metadata": {},
   "outputs": [],
   "source": [
    "ELA_height = pn.widgets.DiscreteSlider(name='equilibrium line height',\n",
    "                                       options=list(ELA_height_range),\n",
    "                                       value=ELA_height_default)\n",
    "\n",
    "mb_gradient = pn.widgets.DiscreteSlider(name='mass balance gradient',\n",
    "                                        options=list(mb_gradient_range),\n",
    "                                        value=mb_gradient_default)\n",
    "\n",
    "years_run_model = pn.widgets.DiscreteSlider(name='years to run the model',\n",
    "                                            options=list(years_range),\n",
    "                                            value=years_default)\n",
    "\n",
    "run_model_button = pn.widgets.Button(name='run the model',\n",
    "                                     button_type='primary')\n",
    "run_model_button.param.watch(run_model_button_click, 'clicks');\n",
    "\n",
    "run_model_panel = pn.Column(pn.Row(ELA_height, mb_gradient, years_run_model), run_model_button)"
   ]
  },
  {
   "cell_type": "markdown",
   "metadata": {},
   "source": [
    "### add all panels together as tabs"
   ]
  },
  {
   "cell_type": "code",
   "execution_count": null,
   "metadata": {},
   "outputs": [],
   "source": [
    "tab_menu = pn.Tabs(('change glacier bed', bed_rock_panel),\n",
    "                   ('run glacier model', run_model_panel))"
   ]
  },
  {
   "cell_type": "markdown",
   "metadata": {},
   "source": [
    "## Define function for creating curves"
   ]
  },
  {
   "cell_type": "code",
   "execution_count": null,
   "metadata": {},
   "outputs": [],
   "source": [
    "def set_bed_rock_curve():\n",
    "    global bed_h\n",
    "    global bed_rock_curve\n",
    "    \n",
    "    # look which bed rock profile was chosen\n",
    "    if bed_rock_profile.value == 'linear':\n",
    "        # change to fixed values top and bottom height\n",
    "        bed_h = np.linspace(glacier_top_height, glacier_bottom_height, nx)\n",
    "        \n",
    "    elif bed_rock_profile.value == 'getting flatter':\n",
    "        bed_h = np.array([(np.log(x / nx + 0.03) / np.log(0.5) * 0.2 + 0.03) *\n",
    "                          glacier_top_height for x in np.arange(nx)])\n",
    "        \n",
    "    elif bed_rock_profile.value == 'getting steeper':\n",
    "        bed_h = np.array([(np.log(-x / nx / 4 + 0.26) * 0.2 / np.log(2) +1.3) *\n",
    "                          glacier_top_height for x in np.arange(nx)])\n",
    "        \n",
    "    elif bed_rock_profile.value == 'cliff':\n",
    "        # define extend of cliff\n",
    "        cliff_top = 2500\n",
    "        cliff_bottom = 2400\n",
    "        \n",
    "        bed_h = np.concatenate((np.linspace(glacier_top_height, cliff_top, nx/2),\n",
    "                                np.linspace(cliff_bottom, glacier_bottom_height, nx/2)))\n",
    "    \n",
    "    # create curve of bed rock\n",
    "    bed_rock_curve = hv.Area((distance_along_glacier, bed_h),\n",
    "                             'distance along glacier (km)', 'altitude (m)',\n",
    "                            ).opts(default_tools=default_tools,\n",
    "                                                    color='lightgray',\n",
    "                                                    line_alpha=0)\n",
    "    "
   ]
  },
  {
   "cell_type": "code",
   "execution_count": null,
   "metadata": {},
   "outputs": [],
   "source": [
    "def set_glacier_height_curve():\n",
    "    global model\n",
    "    global run_surface_heights\n",
    "    global glacier_height_curve\n",
    "    \n",
    "    ELA = int(ELA_height.value)\n",
    "    \n",
    "    glacier_height_curve = (hv.Area((distance_along_glacier, run_surface_heights[0]),\n",
    "                                     'distance along glacier (km)', 'altitude (m)',\n",
    "                                     label='old').opts(default_tools=default_tools,\n",
    "                                                       line_dash='dashed',\n",
    "                                                       line_color='darkgray',\n",
    "                                                       color='white',\n",
    "                                                       alpha=0.7,\n",
    "                                                       line_width=2) *\n",
    "                            hv.Area((distance_along_glacier, run_surface_heights[1]),\n",
    "                                    'distance along glacier (km)', 'altitude (m)',\n",
    "                                    label='new').opts(default_tools=default_tools,\n",
    "                                                      color='white',\n",
    "                                                      line_color='blue',\n",
    "                                                      line_width=3) *\n",
    "                            hv.Curve((distance_along_glacier, np.repeat(ELA, np.size(distance_along_glacier))),\n",
    "                                     'distance along glacier (km)',\n",
    "                                     'altitude (m)'\n",
    "                                    ).opts(default_tools=default_tools,\n",
    "                                           line_dash='dashed',\n",
    "                                           line_width=3,\n",
    "                                           color='black')\n",
    "                           )\n",
    "    "
   ]
  },
  {
   "cell_type": "code",
   "execution_count": null,
   "metadata": {},
   "outputs": [],
   "source": [
    "def set_mb_curve():\n",
    "    global mb_model\n",
    "    global mb_curve\n",
    "    \n",
    "    # is needed so the axis range change dynamically\n",
    "    %opts Curve {+framewise}\n",
    "    %opts Area {+framewise}\n",
    "\n",
    "    ELA = int(ELA_height.value)\n",
    "    gradient = int(mb_gradient.value)\n",
    "    \n",
    "    mb_model = LinearMassBalance(ELA, grad=gradient)\n",
    "    \n",
    "    annual_mb = mb_model.get_annual_mb(max_glacier_range) * cfg.SEC_IN_YEAR\n",
    "    \n",
    "    mb_curve = (hv.Area((annual_mb, np.repeat(glacier_top_height + 500, np.size(annual_mb))), # + 500 for dynamically changing y axis, when glacier surface heigth is added to glacier top height, maybe find a beser solution\n",
    "                        'annual mass balance (m/yr)',\n",
    "                        'altitude (m)',\n",
    "                        label='mass gain'\n",
    "                       ).opts(default_tools=default_tools,\n",
    "                              color='lightgreen',\n",
    "                              line_alpha=0) *\n",
    "                hv.Area((annual_mb, np.repeat(ELA, np.size(annual_mb))),\n",
    "                        'annual mass balance (m/yr)',\n",
    "                        'altitude (m)',\n",
    "                        label='mass loss'\n",
    "                       ).opts(default_tools=default_tools,\n",
    "                              color='lightcoral',\n",
    "                              line_alpha=0) *\n",
    "                hv.Curve((annual_mb, max_glacier_range),\n",
    "                         'annual mass balance (m/yr)',\n",
    "                         'altitude (m)',\n",
    "                         label='mass balance'\n",
    "                        ).opts(default_tools=default_tools,\n",
    "                               color='black') * \n",
    "                hv.Curve((annual_mb, np.repeat(ELA, np.size(annual_mb))),\n",
    "                         'annual mass balance (m/yr)',\n",
    "                         'altitude (m)',\n",
    "                         label='ELA'\n",
    "                        ).opts(default_tools=default_tools,\n",
    "                               line_dash='dashed',\n",
    "                               line_width=3,\n",
    "                               color='black')\n",
    "               )\n",
    "    "
   ]
  },
  {
   "cell_type": "code",
   "execution_count": null,
   "metadata": {},
   "outputs": [],
   "source": [
    "def set_width_curve():\n",
    "    global widths\n",
    "    global width_curve\n",
    "    \n",
    "    # look which glacier width was selected\n",
    "    if bed_rock_width.value == 'constant':\n",
    "        widths = np.zeros(nx) + 4.\n",
    "        \n",
    "    elif bed_rock_width.value == 'getting wider':\n",
    "        widths = np.array([(2 / nx * x + 0.5) * 2 for x in np.arange(nx)])\n",
    "        \n",
    "    elif bed_rock_width.value == 'getting narrower':\n",
    "        widths = np.array([(-2 / nx * x + 2.5) * 2 for x in np.arange(nx)])\n",
    "    \n",
    "    # define lower and upper y limit which is shown\n",
    "    y_min = -5 # in m\n",
    "    y_max = 3\n",
    "    \n",
    "    width_curve = (hv.Area((distance_along_glacier, y_min),\n",
    "                           'distance along glacier (km)',\n",
    "                           'width (m)',\n",
    "                           label='boarder of glacier rock bed'\n",
    "                          ).opts(default_tools=default_tools,\n",
    "                                 color='darkgray',\n",
    "                                 line_alpha=0) * \n",
    "                   hv.Area((distance_along_glacier, y_max),\n",
    "                           'distance along glacier (km)',\n",
    "                           'width (m)',\n",
    "                           label='boarder of glacier rock bed'\n",
    "                          ).opts(default_tools=default_tools,\n",
    "                                 color='darkgray',\n",
    "                                 line_alpha=0) * \n",
    "                   hv.Area((distance_along_glacier, -widths/2),\n",
    "                           'distance along glacier (km)',\n",
    "                           'width (m)',\n",
    "                           label='glacier rock bed'\n",
    "                          ).opts(default_tools=default_tools,\n",
    "                                 color='lightgray',\n",
    "                                 line_alpha=0) * \n",
    "                   hv.Area((distance_along_glacier, widths/2),\n",
    "                           'distance along glacier (km)',\n",
    "                           'width (m)',\n",
    "                           label='glacier rock bed'\n",
    "                          ).opts(default_tools=default_tools,\n",
    "                                 color='lightgray',\n",
    "                                 line_alpha=0) * \n",
    "                   hv.Curve((distance_along_glacier, np.repeat(0, np.size(distance_along_glacier))),\n",
    "                            'distance along glacier (km)',\n",
    "                            'width (m)',\n",
    "                            label='center Flowline'\n",
    "                           ).opts(default_tools=default_tools,\n",
    "                                  color='black')\n",
    "                   ).opts(ylim=(y_min, y_max))\n"
   ]
  },
  {
   "cell_type": "markdown",
   "metadata": {},
   "source": [
    "## Define functions for intialize flowline and run model"
   ]
  },
  {
   "cell_type": "code",
   "execution_count": null,
   "metadata": {},
   "outputs": [],
   "source": [
    "def init_flowline_model():\n",
    "    global model\n",
    "    global bed_h\n",
    "    \n",
    "    # initialize the bed rock and the width\n",
    "    set_bed_rock_curve()\n",
    "    set_width_curve()\n",
    "    \n",
    "    # set glacier surface height to bed height because at the beginning there is no glacier\n",
    "    surface_h = bed_h\n",
    "\n",
    "    # initialize flowline with choosen shape of glacier\n",
    "    if bed_shape.value == 'rectangular':\n",
    "        model_flowline = RectangularBedFlowline(surface_h=surface_h, bed_h=bed_h,\n",
    "                                                widths=widths, map_dx=map_dx)\n",
    "        \n",
    "    elif bed_shape.value == 'trapezoidal':\n",
    "        model_flowline = TrapezoidalBedFlowline(surface_h=surface_h, bed_h=bed_h,\n",
    "                                                widths=widths, map_dx=map_dx)\n",
    "        \n",
    "    elif bed_shape.value == 'parabolic':\n",
    "        model_flowline = ParabolicBedFlowline(surface_h=surface_h, bed_h=bed_h,\n",
    "                                              widths=widths, map_dx=map_dx)\n",
    "    \n",
    "    model = FlowlineModel(model_flowline, mb_model=mb_model, y0=0., check_for_boundaries=False)"
   ]
  },
  {
   "cell_type": "code",
   "execution_count": null,
   "metadata": {},
   "outputs": [],
   "source": [
    "def run_the_model(new_model=True):\n",
    "    global model\n",
    "    global run_surface_heights\n",
    "    global run_loop_count\n",
    "    \n",
    "    # set new mass balance curve\n",
    "    set_mb_curve()\n",
    "    \n",
    "    # initialize model with old extend and new mass balance model\n",
    "    model = FlowlineModel(model.fls[-1], mb_model=mb_model, y0=0., check_for_boundaries=False)\n",
    "    \n",
    "    # determine glacier state at starting point\n",
    "    run_surface_heights = np.repeat(np.array(model.fls[-1].surface_h, ndmin=2), 2, axis=0)\n",
    "    \n",
    "    # years after which the current state of the glacier should be shown\n",
    "    dyears = 10\n",
    "    \n",
    "    # if function is called with no given Argument or 'new_model=True' the glacier do not change \n",
    "    # otherwise the model runs until equilibrium (showing evolution every 'dyears')\n",
    "    if new_model:\n",
    "        set_glacier_height_curve()\n",
    "    else:\n",
    "        # same function as from OGGM FlowlineModel.run_until_equilibrium\n",
    "        ite = 0\n",
    "        was_close_zero = 0\n",
    "        t_rate = 1\n",
    "        while (t_rate > 0.001) and (ite <= 200) and (was_close_zero < 5):\n",
    "            ite += 1\n",
    "            v_bef = model.volume_m3\n",
    "            model.run_until(model.yr + dyears)\n",
    "            v_af = model.volume_m3\n",
    "            if np.isclose(v_bef, 0., atol=1):\n",
    "                t_rate = 1\n",
    "                was_close_zero += 1\n",
    "            else:\n",
    "                t_rate = np.abs(v_af - v_bef) / v_bef\n",
    "            \n",
    "            # TODO: show text with current year\n",
    "            # set_info_text()\n",
    "            \n",
    "            # save new surface and show it on plot\n",
    "            run_surface_heights[1] = np.array(model.fls[-1].surface_h, ndmin=2)\n",
    "            set_glacier_height_curve()\n",
    "            main_figure.event(button_name='run_button',\n",
    "                              clicks=run_loop_count)\n",
    "            run_loop_count += 1\n",
    "         \n",
    "        # TODO: Insert message when equilibrium could not be found\n",
    "        #if ite > max_ite:\n",
    "            \n",
    "        # TODO: show text with equilibrium year\n",
    "        # set_info_text(equilibrium=True)\n",
    "               "
   ]
  },
  {
   "cell_type": "markdown",
   "metadata": {},
   "source": [
    "## Main function for dynamic map"
   ]
  },
  {
   "cell_type": "code",
   "execution_count": null,
   "metadata": {},
   "outputs": [],
   "source": [
    "def change_plot(button_name='reset', clicks=0):\n",
    "    # use global curves\n",
    "    global bed_rock_curve\n",
    "    global glacier_height_curve\n",
    "    global mb_curve\n",
    "    global width_curve\n",
    "    \n",
    "    if button_name=='reset':\n",
    "        #TODO: set all widgets to default values\n",
    "        bed_rock_profile.value = 'cliff'\n",
    "        bed_shape = 'rectangular'\n",
    "        \n",
    "        #initialisation of figure\n",
    "        init_flowline_model()\n",
    "        run_the_model()\n",
    "        \n",
    "    elif button_name=='glacier_bed_button':\n",
    "        \n",
    "        init_flowline_model()\n",
    "        run_the_model()\n",
    "             \n",
    "    return ((glacier_height_curve * bed_rock_curve).opts(legend_position='bottom_left',\n",
    "                                                         legend_cols=2,\n",
    "                                                         xaxis='top',\n",
    "                                                         bgcolor='lightblue',\n",
    "                                                         frame_width=580,\n",
    "                                                         frame_height=200) + \n",
    "            (mb_curve).opts(legend_position='right',\n",
    "                            xaxis='top',\n",
    "                            yaxis='right',\n",
    "                            frame_width=200,\n",
    "                            frame_height=200) +\n",
    "            (width_curve).opts(legend_cols=3,\n",
    "                               legend_position='bottom_left',\n",
    "                               frame_height=150,\n",
    "                               frame_width=580,\n",
    "                               yformatter='%8.0f')\n",
    "           ).cols(2)"
   ]
  },
  {
   "cell_type": "markdown",
   "metadata": {},
   "source": [
    "## streamer and dynamic map"
   ]
  },
  {
   "cell_type": "code",
   "execution_count": null,
   "metadata": {},
   "outputs": [],
   "source": [
    "main_stream = Stream.define('main_stream', button_name='reset', clicks=0)\n",
    "\n",
    "main_figure = hv.DynamicMap(change_plot, streams=[main_stream()])"
   ]
  },
  {
   "cell_type": "markdown",
   "metadata": {},
   "source": [
    "## App"
   ]
  },
  {
   "cell_type": "code",
   "execution_count": null,
   "metadata": {
    "scrolled": false
   },
   "outputs": [],
   "source": [
    "pn.Column(tab_menu, main_figure).servable()"
   ]
  },
  {
   "cell_type": "markdown",
   "metadata": {},
   "source": [
    "As long as you are running this notebook \"live\" (in Jupyter, not viewing a website or a static copy), the above notebook cell should contain the fully operational dashboard here in the notebook. You can also launch the dashboard at a separate port that shows up in a new browser tab, either by changing .servable() to .show() above and re-executing that cell, or by leaving the cell as it is and running bokeh serve --show simulator.ipynb."
   ]
  },
  {
   "cell_type": "code",
   "execution_count": null,
   "metadata": {},
   "outputs": [],
   "source": []
  }
 ],
 "metadata": {
  "hide_input": false,
  "kernelspec": {
   "display_name": "Python 3",
   "language": "python",
   "name": "python3"
  },
  "language_info": {
   "codemirror_mode": {
    "name": "ipython",
    "version": 3
   },
   "file_extension": ".py",
   "mimetype": "text/x-python",
   "name": "python",
   "nbconvert_exporter": "python",
   "pygments_lexer": "ipython3",
   "version": "3.6.7"
  },
  "latex_envs": {
   "LaTeX_envs_menu_present": true,
   "autoclose": false,
   "autocomplete": true,
   "bibliofile": "biblio.bib",
   "cite_by": "apalike",
   "current_citInitial": 1,
   "eqLabelWithNumbers": true,
   "eqNumInitial": 1,
   "hotkeys": {
    "equation": "Ctrl-E",
    "itemize": "Ctrl-I"
   },
   "labels_anchors": false,
   "latex_user_defs": false,
   "report_style_numbering": false,
   "user_envs_cfg": false
  },
  "nbTranslate": {
   "displayLangs": [
    "*"
   ],
   "hotkey": "alt-t",
   "langInMainMenu": true,
   "sourceLang": "en",
   "targetLang": "fr",
   "useGoogleTranslate": true
  },
  "toc": {
   "base_numbering": 1,
   "nav_menu": {},
   "number_sections": false,
   "sideBar": true,
   "skip_h1_title": true,
   "title_cell": "Table of Contents",
   "title_sidebar": "Contents",
   "toc_cell": false,
   "toc_position": {},
   "toc_section_display": true,
   "toc_window_display": false
  }
 },
 "nbformat": 4,
 "nbformat_minor": 2
}
