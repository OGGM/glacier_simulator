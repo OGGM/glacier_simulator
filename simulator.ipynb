{
 "cells": [
  {
   "cell_type": "markdown",
   "metadata": {},
   "source": [
    "# OGGM glacier simulator"
   ]
  },
  {
   "cell_type": "markdown",
   "metadata": {},
   "source": [
    "App to initialize a simple glacier and look how it develops under changing mass balance profiles."
   ]
  },
  {
   "cell_type": "markdown",
   "metadata": {},
   "source": [
    "## Import packages"
   ]
  },
  {
   "cell_type": "markdown",
   "metadata": {},
   "source": [
    "import plotting libaries"
   ]
  },
  {
   "cell_type": "code",
   "execution_count": null,
   "metadata": {},
   "outputs": [],
   "source": [
    "import holoviews as hv\n",
    "from holoviews import opts\n",
    "from holoviews.streams import Stream, param\n",
    "import panel as pn\n",
    "\n",
    "hv.extension('bokeh', width=100)\n",
    "pn.extension()"
   ]
  },
  {
   "cell_type": "markdown",
   "metadata": {},
   "source": [
    "import OGGM packages"
   ]
  },
  {
   "cell_type": "code",
   "execution_count": null,
   "metadata": {},
   "outputs": [],
   "source": [
    "# Constants for initialization\n",
    "from functools import partial\n",
    "from oggm.core.flowline import FluxBasedModel, RectangularBedFlowline, TrapezoidalBedFlowline, ParabolicBedFlowline\n",
    "from oggm.core.massbalance import LinearMassBalance\n",
    "from oggm import cfg\n",
    "cfg.initialize()\n",
    "\n",
    "# There are several solvers in OGGM core. We use the default one for this experiment\n",
    "FlowlineModel = partial(FluxBasedModel, min_dt=0, cfl_number=0.01)"
   ]
  },
  {
   "cell_type": "markdown",
   "metadata": {},
   "source": [
    "and some other useful packages"
   ]
  },
  {
   "cell_type": "code",
   "execution_count": null,
   "metadata": {},
   "outputs": [],
   "source": [
    "import numpy as np"
   ]
  },
  {
   "cell_type": "markdown",
   "metadata": {},
   "source": [
    "## Define some variables for model and plotting"
   ]
  },
  {
   "cell_type": "code",
   "execution_count": null,
   "metadata": {},
   "outputs": [],
   "source": [
    "# number of steps from bottem to top of glacier\n",
    "nx = 200\n",
    "\n",
    "# model grid spacing in m\n",
    "map_dx = 100\n",
    "\n",
    "# distance along glacier (x-axis of glacier profil plot) in km\n",
    "distance_along_glacier = np.linspace(0, nx, nx) * map_dx * 1e-3\n",
    "\n",
    "# default tools for plot\n",
    "default_tools = ['save', 'wheel_zoom', 'box_zoom', 'reset']\n",
    "\n",
    "# glacier top height\n",
    "glacier_top_height = 4000\n",
    "\n",
    "# glacier bottom height\n",
    "glacier_bottom_height = 0\n",
    "\n",
    "# glacier range\n",
    "max_glacier_range = np.linspace(glacier_bottom_height,\n",
    "                                glacier_top_height, nx)"
   ]
  },
  {
   "cell_type": "markdown",
   "metadata": {},
   "source": [
    "## Define values for slider:"
   ]
  },
  {
   "cell_type": "code",
   "execution_count": null,
   "metadata": {},
   "outputs": [],
   "source": [
    "# ELA height\n",
    "ELA_height_min = 0\n",
    "ELA_height_max = 4000\n",
    "ELA_height_default = 3000\n",
    "ELA_height_step = 100\n",
    "\n",
    "# mass balance gradient\n",
    "mb_gradient_max = 15\n",
    "mb_gradient_min = 1\n",
    "mb_gradient_default = 4\n",
    "mb_gradient_step = 1\n",
    "\n",
    "# years of calculation\n",
    "years_min = 10\n",
    "years_max = 1000\n",
    "years_default = 150\n",
    "years_step = 10\n",
    "\n",
    "# linear bed rock slope\n",
    "bed_rock_slope_values = ['steepest', 'steeper',\n",
    "                         'steep', 'flat', 'flatter', 'flattest']\n",
    "bed_rock_slope_default = 'flat'\n",
    "\n",
    "# bed rock profile\n",
    "bed_rock_profile_values = [\n",
    "    'linear', 'getting flatter', 'getting steeper', 'cliff']\n",
    "bed_rock_profile_default = 'linear'\n",
    "\n",
    "# bed rock width\n",
    "bed_rock_width_values = ['constant', 'getting narrower', 'getting wider',\n",
    "                         'wide at the top and narrow at the bottom']\n",
    "bed_rock_width_default = 'constant'\n",
    "\n",
    "# Glen's creep parameter\n",
    "glens_creep_parameter_values = ['small', 'default', 'large']\n",
    "glens_creep_parameter_default = 'default'\n",
    "\n",
    "# sliding parameter\n",
    "sliding_parameter_values = ['no sliding', 'sliding']\n",
    "sliding_parameter_default = 'no sliding'"
   ]
  },
  {
   "cell_type": "markdown",
   "metadata": {},
   "source": [
    "## Define global model variables:"
   ]
  },
  {
   "cell_type": "code",
   "execution_count": null,
   "metadata": {},
   "outputs": [],
   "source": [
    "bed_h = []\n",
    "mb_model = []\n",
    "model = []\n",
    "run_surface_heights = []\n",
    "glacier_outlines = []\n",
    "glen_a = cfg.PARAMS['glen_a']\n",
    "fs = 0\n",
    "\n",
    "# define width, so glacier bed could be created when plot is created (after creation model is ready)\n",
    "widths = np.zeros(nx) + 4.\n",
    "\n",
    "run_loop_count = 0"
   ]
  },
  {
   "cell_type": "markdown",
   "metadata": {},
   "source": [
    "## Define global curves:"
   ]
  },
  {
   "cell_type": "code",
   "execution_count": null,
   "metadata": {},
   "outputs": [],
   "source": [
    "bed_rock_curve = []\n",
    "glacier_height_curve = []\n",
    "mb_curve = []\n",
    "width_curve = []\n",
    "info_text = []"
   ]
  },
  {
   "cell_type": "markdown",
   "metadata": {},
   "source": [
    "## Define Panels"
   ]
  },
  {
   "cell_type": "markdown",
   "metadata": {},
   "source": [
    "### Panel for beginner mode"
   ]
  },
  {
   "cell_type": "markdown",
   "metadata": {},
   "source": [
    "#### beginner button function"
   ]
  },
  {
   "cell_type": "code",
   "execution_count": null,
   "metadata": {},
   "outputs": [],
   "source": [
    "def beginner_button_click(arg=None):\n",
    "    # set Variables not changeable in beginner mode to there default values\n",
    "    mb_gradient.value = mb_gradient_default\n",
    "    bed_rock_profile.value = bed_rock_profile_default\n",
    "    glens_creep_parameter.value = glens_creep_parameter_default\n",
    "    sliding_parameter.value = sliding_parameter_default\n",
    "\n",
    "    # for consitency set values of the advanced mode\n",
    "    ELA_height_advanced.value = ELA_height.value\n",
    "    bed_rock_width_advanced.value = bed_rock_width.value\n",
    "    bed_rock_slope_advanced.value = bed_rock_slope.value\n",
    "\n",
    "    # set numeric values out of selection\n",
    "    set_glen_a()\n",
    "    set_fs()\n",
    "\n",
    "    run_the_model(stage='beginner mode')"
   ]
  },
  {
   "cell_type": "markdown",
   "metadata": {},
   "source": [
    "#### actual beginner Panel"
   ]
  },
  {
   "cell_type": "code",
   "execution_count": null,
   "metadata": {
    "scrolled": true
   },
   "outputs": [],
   "source": [
    "bed_rock_slope = pn.widgets.Select(name='slope of bedrock profile',\n",
    "                                   options=bed_rock_slope_values,\n",
    "                                   value=bed_rock_slope_default,\n",
    "                                   sizing_mode='stretch_width')\n",
    "\n",
    "bed_rock_width = pn.widgets.Select(name='width along glacier',\n",
    "                                   options=bed_rock_width_values,\n",
    "                                   value=bed_rock_width_default,\n",
    "                                   sizing_mode='stretch_width')\n",
    "\n",
    "ELA_height = pn.widgets.IntSlider(name='equilibrium line height',\n",
    "                                  start=ELA_height_min,\n",
    "                                  end=ELA_height_max,\n",
    "                                  step=ELA_height_step,\n",
    "                                  value=ELA_height_default,\n",
    "                                  sizing_mode='stretch_width')\n",
    "\n",
    "beginner_button = pn.widgets.Button(name='run the model',\n",
    "                                    button_type='primary')\n",
    "beginner_button.param.watch(beginner_button_click, 'clicks')\n",
    "\n",
    "beginner_panel = pn.Column(pn.Row(bed_rock_slope, bed_rock_width, ELA_height),\n",
    "                           beginner_button,\n",
    "                           background='#fafafa',\n",
    "                           sizing_mode='stretch_width')"
   ]
  },
  {
   "cell_type": "markdown",
   "metadata": {},
   "source": [
    "### Panel for advanced mode"
   ]
  },
  {
   "cell_type": "markdown",
   "metadata": {},
   "source": [
    "#### advanced button help functions"
   ]
  },
  {
   "cell_type": "code",
   "execution_count": null,
   "metadata": {},
   "outputs": [],
   "source": [
    "def advance_model_click():\n",
    "    # for consitency set values of the advanced mode\n",
    "    ELA_height.value = ELA_height_advanced.value\n",
    "    bed_rock_width.value = bed_rock_width_advanced.value\n",
    "    bed_rock_slope.value = bed_rock_slope_advanced.value\n",
    "\n",
    "    # set numeric values out of selection\n",
    "    set_glen_a()\n",
    "    set_fs()"
   ]
  },
  {
   "cell_type": "markdown",
   "metadata": {},
   "source": [
    "#### advanced button functions"
   ]
  },
  {
   "cell_type": "code",
   "execution_count": null,
   "metadata": {},
   "outputs": [],
   "source": [
    "def run_model_equilibrium_button_click(arg=None):\n",
    "    advance_model_click()\n",
    "    run_the_model(stage='advance equilibrium')\n",
    "\n",
    "\n",
    "def run_model_years_button_click(arg=None):\n",
    "    advance_model_click()\n",
    "    run_the_model(stage='advance years')\n",
    "\n",
    "\n",
    "def create_new_model_button_click(arg=None):\n",
    "    bed_rock_width.value = bed_rock_width_advanced.value\n",
    "    bed_rock_slope.value = bed_rock_slope_advanced.value\n",
    "\n",
    "    main_figure.event(button_name='new model',\n",
    "                      clicks=create_new_model_button.clicks)"
   ]
  },
  {
   "cell_type": "markdown",
   "metadata": {},
   "source": [
    "#### actual advanced Panel"
   ]
  },
  {
   "cell_type": "code",
   "execution_count": null,
   "metadata": {},
   "outputs": [],
   "source": [
    "mb_gradient = pn.widgets.IntSlider(name='mass balance gradient',\n",
    "                                   start=mb_gradient_min,\n",
    "                                   end=mb_gradient_max,\n",
    "                                   step=mb_gradient_step,\n",
    "                                   value=mb_gradient_default,\n",
    "                                   sizing_mode='stretch_width')\n",
    "\n",
    "bed_rock_profile = pn.widgets.Select(name='bedrock profile',\n",
    "                                     options=bed_rock_profile_values,\n",
    "                                     value=bed_rock_profile_default,\n",
    "                                     sizing_mode='stretch_width')\n",
    "\n",
    "ELA_height_advanced = pn.widgets.IntSlider(name='equilibrium line height',\n",
    "                                           start=ELA_height_min,\n",
    "                                           end=ELA_height_max,\n",
    "                                           step=ELA_height_step,\n",
    "                                           value=ELA_height_default,\n",
    "                                           sizing_mode='stretch_width')\n",
    "\n",
    "bed_rock_slope_advanced = pn.widgets.Select(name='slope of linear bedrock profile',\n",
    "                                            options=bed_rock_slope_values,\n",
    "                                            value=bed_rock_slope_default,\n",
    "                                            sizing_mode='stretch_width')\n",
    "\n",
    "bed_rock_width_advanced = pn.widgets.Select(name='width along glacier',\n",
    "                                            options=bed_rock_width_values,\n",
    "                                            value=bed_rock_width_default,\n",
    "                                            sizing_mode='stretch_width')\n",
    "\n",
    "glens_creep_parameter = pn.widgets.Select(name=\"Glen's creep parameter\",\n",
    "                                          options=glens_creep_parameter_values,\n",
    "                                          value=glens_creep_parameter_default,\n",
    "                                          sizing_mode='stretch_width')\n",
    "\n",
    "sliding_parameter = pn.widgets.RadioBoxGroup(name='Sliding parameter',\n",
    "                                             options=sliding_parameter_values,\n",
    "                                             value=sliding_parameter_default,\n",
    "                                             inline=True,\n",
    "                                             sizing_mode='stretch_width')\n",
    "\n",
    "run_model_years = pn.widgets.IntSlider(name='years to advance model',\n",
    "                                       start=years_min,\n",
    "                                       end=years_max,\n",
    "                                       step=years_step,\n",
    "                                       value=years_default,\n",
    "                                       sizing_mode='stretch_width')\n",
    "\n",
    "run_model_equilibrium_button = pn.widgets.Button(name='run to equilibrium',\n",
    "                                                 button_type='primary',\n",
    "                                                 sizing_mode='stretch_width')\n",
    "run_model_equilibrium_button.param.watch(\n",
    "    run_model_equilibrium_button_click, 'clicks')\n",
    "\n",
    "run_model_years_button = pn.widgets.Button(name='advance model',\n",
    "                                           button_type='primary',\n",
    "                                           sizing_mode='stretch_width')\n",
    "run_model_years_button.param.watch(run_model_years_button_click, 'clicks')\n",
    "\n",
    "create_new_model_button = pn.widgets.Button(name='start new model',\n",
    "                                            button_type='primary',\n",
    "                                            sizing_mode='stretch_width')\n",
    "create_new_model_button.param.watch(create_new_model_button_click, 'clicks')\n",
    "\n",
    "advanced_panel = pn.Tabs(('run the model',\n",
    "                          pn.Row(pn.Column(ELA_height_advanced,\n",
    "                                           mb_gradient,\n",
    "                                           sizing_mode='stretch_width'),\n",
    "                                 pn.Column(glens_creep_parameter,\n",
    "                                           sliding_parameter,\n",
    "                                           sizing_mode='stretch_width'),\n",
    "                                 pn.Column(run_model_years,\n",
    "                                           sizing_mode='stretch_width'),\n",
    "                                 pn.Column(run_model_years_button,\n",
    "                                           run_model_equilibrium_button,\n",
    "                                           sizing_mode='stretch_width'),\n",
    "                                 sizing_mode='stretch_width')),\n",
    "                         ('create new model',\n",
    "                          pn.Column(pn.Row(bed_rock_profile,\n",
    "                                           bed_rock_slope_advanced,\n",
    "                                           bed_rock_width_advanced),\n",
    "                                    create_new_model_button,\n",
    "                                    sizing_mode='stretch_width')),\n",
    "                         background='#fafafa')"
   ]
  },
  {
   "cell_type": "markdown",
   "metadata": {},
   "source": [
    "### Panel for help"
   ]
  },
  {
   "cell_type": "markdown",
   "metadata": {},
   "source": [
    "#### help functions for buttons"
   ]
  },
  {
   "cell_type": "code",
   "execution_count": null,
   "metadata": {},
   "outputs": [],
   "source": [
    "def beginner_introduction_button_click(arg=None):\n",
    "    pass\n",
    "\n",
    "\n",
    "def advanced_introduction_button_click(arg=None):\n",
    "    pass\n",
    "\n",
    "\n",
    "def show_subfigure_explenation_button_click(arg=None):\n",
    "    pass\n",
    "\n",
    "\n",
    "def show_parameter_explenation_button_click(arg=None):\n",
    "    pass"
   ]
  },
  {
   "cell_type": "markdown",
   "metadata": {},
   "source": [
    "#### actual help Panel"
   ]
  },
  {
   "cell_type": "code",
   "execution_count": null,
   "metadata": {},
   "outputs": [],
   "source": [
    "help_intro_text = pn.pane.Markdown('Here you can find help for the different modes and explenations what the figures ' +\n",
    "                                   'are showing and what each changeable parameter stands for. Click the button you ' +\n",
    "                                   'would like to know more ;)',\n",
    "                                   sizing_mode='stretch_both')\n",
    "\n",
    "beginner_introduction_button = pn.widgets.Button(disabled=True,\n",
    "                                                 name='beginner mode introduction',\n",
    "                                                 button_type='primary',\n",
    "                                                 sizing_mode='stretch_width')\n",
    "beginner_introduction_button.param.watch(\n",
    "    beginner_introduction_button_click, 'clicks')\n",
    "\n",
    "advanced_introduction_button = pn.widgets.Button(disabled=True,\n",
    "                                                 name='advanced mode introduction',\n",
    "                                                 button_type='primary',\n",
    "                                                 sizing_mode='stretch_width')\n",
    "advanced_introduction_button.param.watch(\n",
    "    advanced_introduction_button_click, 'clicks')\n",
    "\n",
    "show_subfigure_explenation_button = pn.widgets.Button(disabled=True,\n",
    "                                                      name='show explenation of each subfigure',\n",
    "                                                      button_type='primary',\n",
    "                                                      sizing_mode='stretch_width')\n",
    "show_subfigure_explenation_button.param.watch(\n",
    "    show_subfigure_explenation_button_click, 'clicks')\n",
    "\n",
    "show_parameter_explenation_button = pn.widgets.Button(disabled=True,\n",
    "                                                      name='show explenation of parameters',\n",
    "                                                      button_type='primary',\n",
    "                                                      sizing_mode='stretch_width')\n",
    "show_parameter_explenation_button.param.watch(\n",
    "    show_parameter_explenation_button_click, 'clicks')\n",
    "\n",
    "help_panel = pn.Row(help_intro_text,\n",
    "                    pn.Column(beginner_introduction_button,\n",
    "                              advanced_introduction_button),\n",
    "                    pn.Column(show_subfigure_explenation_button,\n",
    "                              show_parameter_explenation_button),\n",
    "                    background='#fafafa',\n",
    "                    sizing_mode='stretch_width')"
   ]
  },
  {
   "cell_type": "markdown",
   "metadata": {},
   "source": [
    "### add all panels together as tabs"
   ]
  },
  {
   "cell_type": "code",
   "execution_count": null,
   "metadata": {},
   "outputs": [],
   "source": [
    "tab_menu = pn.Tabs(('beginner mode', beginner_panel),\n",
    "                   ('advanced mode', advanced_panel),\n",
    "                   ('find help here (under construction)', help_panel))"
   ]
  },
  {
   "cell_type": "markdown",
   "metadata": {},
   "source": [
    "## Define functions to set numeric values of parameters"
   ]
  },
  {
   "cell_type": "code",
   "execution_count": null,
   "metadata": {},
   "outputs": [],
   "source": [
    "def set_glen_a():\n",
    "    global glen_a\n",
    "\n",
    "    if glens_creep_parameter.value == 'default':\n",
    "        glen_a = cfg.PARAMS['glen_a']\n",
    "    elif glens_creep_parameter.value == 'small':\n",
    "        glen_a = cfg.PARAMS['glen_a'] / 10\n",
    "    elif glens_creep_parameter.value == 'large':\n",
    "        glen_a = cfg.PARAMS['glen_a'] * 10"
   ]
  },
  {
   "cell_type": "code",
   "execution_count": null,
   "metadata": {},
   "outputs": [],
   "source": [
    "def set_fs():\n",
    "    global fs\n",
    "\n",
    "    if sliding_parameter.value == 'no sliding':\n",
    "        fs = 0\n",
    "    elif sliding_parameter.value == 'sliding':\n",
    "        fs = 5.7e-20"
   ]
  },
  {
   "cell_type": "markdown",
   "metadata": {},
   "source": [
    "## Define function for creating curves"
   ]
  },
  {
   "cell_type": "code",
   "execution_count": null,
   "metadata": {},
   "outputs": [],
   "source": [
    "def set_bed_rock_curve():\n",
    "    global bed_h\n",
    "    global bed_rock_curve\n",
    "\n",
    "    # look which bed rock profile was chosen\n",
    "    if bed_rock_profile.value == 'linear':\n",
    "        # look which slope was choosen and set the heigth at each point along the glacier\n",
    "        if bed_rock_slope.value == 'steepest':\n",
    "            bed_h = np.append(np.linspace(glacier_top_height, 0, np.round(nx / 4)),\n",
    "                              np.zeros(nx - np.int(np.round(nx / 4))))\n",
    "        elif bed_rock_slope.value == 'steeper':\n",
    "            bed_h = np.append(np.linspace(glacier_top_height, 0, np.round(nx / 4) * 2),\n",
    "                              np.zeros(nx - np.int(np.round(nx / 4) * 2)))\n",
    "        elif bed_rock_slope.value == 'steep':\n",
    "            bed_h = np.append(np.linspace(glacier_top_height, 0, np.round(nx / 4) * 3),\n",
    "                              np.zeros(nx - np.int(np.round(nx / 4) * 3)))\n",
    "        elif bed_rock_slope.value == 'flat':\n",
    "            bed_h = np.linspace(glacier_top_height, 0, nx)\n",
    "        elif bed_rock_slope.value == 'flatter':\n",
    "            bed_h = np.linspace(glacier_top_height, 1500, nx)\n",
    "        elif bed_rock_slope.value == 'flattest':\n",
    "            bed_h = np.linspace(glacier_top_height, 3000, nx)\n",
    "\n",
    "    elif bed_rock_profile.value == 'getting flatter':\n",
    "        bed_h = np.array([(np.log(x / nx + 0.03) / np.log(0.5) * 0.2 + 0.03) *\n",
    "                          glacier_top_height for x in np.arange(nx)])\n",
    "\n",
    "    elif bed_rock_profile.value == 'getting steeper':\n",
    "        bed_h = np.array([(np.log(-x / nx / 4 + 0.26) * 0.2 / np.log(2) + 1.3) *\n",
    "                          glacier_top_height for x in np.arange(nx)])\n",
    "\n",
    "    elif bed_rock_profile.value == 'cliff':\n",
    "        # define extend of cliff\n",
    "        cliff_top = 2500\n",
    "        cliff_bottom = 2400\n",
    "\n",
    "        bed_h = np.concatenate((np.linspace(glacier_top_height, cliff_top, nx/2),\n",
    "                                np.linspace(cliff_bottom, glacier_bottom_height, nx/2)))\n",
    "\n",
    "    # create curve of bed rock\n",
    "    bed_rock_curve = hv.Area((distance_along_glacier, bed_h),\n",
    "                             'distance along glacier (km)', 'altitude (m)',\n",
    "                             ).opts(default_tools=default_tools,\n",
    "                                    color='lightgray',\n",
    "                                    line_alpha=0)"
   ]
  },
  {
   "cell_type": "code",
   "execution_count": null,
   "metadata": {},
   "outputs": [],
   "source": [
    "def set_glacier_height_curve():\n",
    "    global model\n",
    "    global run_surface_heights\n",
    "    global glacier_height_curve\n",
    "\n",
    "    ELA = int(ELA_height.value)\n",
    "\n",
    "    glacier_height_curve = (hv.Area((distance_along_glacier, run_surface_heights[0]),\n",
    "                                    'distance along glacier (km)', 'altitude (m)',\n",
    "                                    label='old').opts(default_tools=default_tools,\n",
    "                                                      line_dash='dashed',\n",
    "                                                      line_color='darkgray',\n",
    "                                                      color='white',\n",
    "                                                      alpha=0.6,\n",
    "                                                      line_alpha=1,\n",
    "                                                      line_width=3) *\n",
    "                            hv.Area((distance_along_glacier, run_surface_heights[1]),\n",
    "                                    'distance along glacier (km)', 'altitude (m)',\n",
    "                                    label='new').opts(default_tools=default_tools,\n",
    "                                                      color='white',\n",
    "                                                      line_color='blue',\n",
    "                                                      alpha=0.6,\n",
    "                                                      line_alpha=1,\n",
    "                                                      line_width=3) *\n",
    "                            hv.Curve((distance_along_glacier, np.repeat(ELA, np.size(distance_along_glacier))),\n",
    "                                     'distance along glacier (km)',\n",
    "                                     'altitude (m)'\n",
    "                                     ).opts(default_tools=default_tools,\n",
    "                                            line_dash='dashed',\n",
    "                                            line_width=3,\n",
    "                                            color='black')\n",
    "                            )"
   ]
  },
  {
   "cell_type": "code",
   "execution_count": null,
   "metadata": {},
   "outputs": [],
   "source": [
    "def set_mb_curve():\n",
    "    global mb_model\n",
    "    global mb_curve\n",
    "\n",
    "    ELA = int(ELA_height.value)\n",
    "    gradient = int(mb_gradient.value)\n",
    "\n",
    "    mb_model = LinearMassBalance(ELA, grad=gradient)\n",
    "\n",
    "    # define the range of the mass balance curve wich should be shown\n",
    "    y_range_of_mb_curve = np.array([-20, 20])\n",
    "    x_range_of_mb_curve = np.array([0, 4500])\n",
    "\n",
    "    # get the annual mass balance for the given range of the x axis\n",
    "    annual_mb = mb_model.get_annual_mb(x_range_of_mb_curve) * cfg.SEC_IN_YEAR\n",
    "\n",
    "    mb_curve = (hv.Area((y_range_of_mb_curve, np.repeat(np.max(x_range_of_mb_curve), 2)),\n",
    "                        'annual mass balance (m/yr)',\n",
    "                        'altitude (m)',\n",
    "                        label='mass gain'\n",
    "                        ).opts(default_tools=default_tools,\n",
    "                               color='lightgreen',\n",
    "                               line_alpha=0) *\n",
    "                hv.Area((y_range_of_mb_curve, np.repeat(ELA, 2)),\n",
    "                        'annual mass balance (m/yr)',\n",
    "                        'altitude (m)',\n",
    "                        label='mass loss'\n",
    "                        ).opts(default_tools=default_tools,\n",
    "                               color='lightcoral',\n",
    "                               line_alpha=0) *\n",
    "                hv.Curve((annual_mb, x_range_of_mb_curve),\n",
    "                         'annual mass balance (m/yr)',\n",
    "                         'altitude (m)',\n",
    "                         label='mass balance'\n",
    "                         ).opts(default_tools=default_tools,\n",
    "                                color='black') *\n",
    "                hv.Curve((y_range_of_mb_curve, np.repeat(ELA, 2)),\n",
    "                         'annual mass balance (m/yr)',\n",
    "                         'altitude (m)',\n",
    "                         label='ELA'\n",
    "                         ).opts(default_tools=default_tools,\n",
    "                                line_dash='dashed',\n",
    "                                line_width=3,\n",
    "                                color='black')\n",
    "                )"
   ]
  },
  {
   "cell_type": "code",
   "execution_count": null,
   "metadata": {},
   "outputs": [],
   "source": [
    "def set_width_curve():\n",
    "    global widths\n",
    "    global width_curve\n",
    "    global model\n",
    "    global glacier_outlines\n",
    "\n",
    "    # look which glacier width was selected\n",
    "    if bed_rock_width.value == 'constant':\n",
    "        widths = np.zeros(nx) + 4.\n",
    "\n",
    "    elif bed_rock_width.value == 'getting wider':\n",
    "        widths = np.array([(2 / nx * x + 0.5) * 2 for x in np.arange(nx)])\n",
    "\n",
    "    elif bed_rock_width.value == 'getting narrower':\n",
    "        widths = np.array([(-2 / nx * x + 2.5) * 2 for x in np.arange(nx)])\n",
    "\n",
    "    elif bed_rock_width.value == 'wide at the top and narrow at the bottom':\n",
    "        widths = np.append(np.ones(np.int(np.round(nx/2))) * 4,\n",
    "                           np.ones(np.int(nx - np.round(nx/2))) * 2)\n",
    "\n",
    "    # define lower and upper y limit which is shown\n",
    "    y_min = -5  # in m\n",
    "    y_max = 3\n",
    "\n",
    "    # actual glacier width plot\n",
    "    width_curve = (hv.Area((distance_along_glacier, y_min),\n",
    "                           'distance along glacier (km)',\n",
    "                           'width (m)',\n",
    "                           # label='boarder of glacier rock bed'\n",
    "                           ).opts(default_tools=default_tools,\n",
    "                                  color='darkgray',\n",
    "                                  line_alpha=0) *\n",
    "                   hv.Area((distance_along_glacier, y_max),\n",
    "                           'distance along glacier (km)',\n",
    "                           'width (m)',\n",
    "                           # label='boarder of glacier rock bed'\n",
    "                           ).opts(default_tools=default_tools,\n",
    "                                  color='darkgray',\n",
    "                                  line_alpha=0) *\n",
    "                   hv.Area((distance_along_glacier, -widths/2),\n",
    "                           'distance along glacier (km)',\n",
    "                           'width (m)',\n",
    "                           # label='glacier rock bed'\n",
    "                           ).opts(default_tools=default_tools,\n",
    "                                  color='lightgray',\n",
    "                                  line_alpha=0) *\n",
    "                   hv.Area((distance_along_glacier, widths/2),\n",
    "                           'distance along glacier (km)',\n",
    "                           'width (m)',\n",
    "                           # label='glacier rock bed'\n",
    "                           ).opts(default_tools=default_tools,\n",
    "                                  color='lightgray',\n",
    "                                  line_alpha=0) *\n",
    "                   hv.Area((distance_along_glacier, -glacier_outlines[0]/2),\n",
    "                           'distance along glacier (km)',\n",
    "                           'width (m)',\n",
    "                           label='old'\n",
    "                           ).opts(default_tools=default_tools,\n",
    "                                  line_dash='dashed',\n",
    "                                  color='white',\n",
    "                                  line_color='darkgray',\n",
    "                                  alpha=0.6,\n",
    "                                  line_alpha=1,\n",
    "                                  line_width=3) *\n",
    "                   hv.Area((distance_along_glacier, glacier_outlines[0]/2),\n",
    "                           'distance along glacier (km)',\n",
    "                           'width (m)',\n",
    "                           label='old'\n",
    "                           ).opts(default_tools=default_tools,\n",
    "                                  line_dash='dashed',\n",
    "                                  color='white',\n",
    "                                  line_color='darkgray',\n",
    "                                  alpha=0.6,\n",
    "                                  line_alpha=1,\n",
    "                                  line_width=3) *\n",
    "                   hv.Area((distance_along_glacier, -glacier_outlines[1]/2),\n",
    "                           'distance along glacier (km)',\n",
    "                           'width (m)',\n",
    "                           label='new'\n",
    "                           ).opts(default_tools=default_tools,\n",
    "                                  color='white',\n",
    "                                  line_color='blue',\n",
    "                                  alpha=0.6,\n",
    "                                  line_alpha=1,\n",
    "                                  line_width=3) *\n",
    "                   hv.Area((distance_along_glacier, glacier_outlines[1]/2),\n",
    "                           'distance along glacier (km)',\n",
    "                           'width (m)',\n",
    "                           label='new'\n",
    "                           ).opts(default_tools=default_tools,\n",
    "                                  color='white',\n",
    "                                  line_color='blue',\n",
    "                                  alpha=0.6,\n",
    "                                  line_alpha=1,\n",
    "                                  line_width=3) *\n",
    "                   hv.Curve((distance_along_glacier, np.repeat(0, np.size(distance_along_glacier))),\n",
    "                            'distance along glacier (km)',\n",
    "                            'width (m)',\n",
    "                            label='center Flowline'\n",
    "                            ).opts(default_tools=default_tools,\n",
    "                                   color='black')\n",
    "                   ).opts(ylim=(y_min, y_max))"
   ]
  },
  {
   "cell_type": "code",
   "execution_count": null,
   "metadata": {},
   "outputs": [],
   "source": [
    "def set_info_text(stage='new model'):\n",
    "    global info_text\n",
    "    global model\n",
    "\n",
    "    if stage == 'new model':\n",
    "        text = 'New Model geometry\\ninitialised'\n",
    "    elif stage == 'running model':\n",
    "        if model.volume_km3 > 1:\n",
    "            text = 'Model is running\\n{:.0f} years\\n with a Volume of\\n{:.2f} km³'.format(\n",
    "                model.yr, model.volume_km3)\n",
    "        else:\n",
    "            text = 'Model is running\\n{:.0f} years\\n with a Volume of\\n{:.0f} m³'.format(\n",
    "                model.yr, model.volume_m3)\n",
    "    elif stage == 'equilibrium':\n",
    "        if model.volume_km3 > 1:\n",
    "            text = 'Model reached equilibrium\\n{:.0f} years\\n with a Volume of\\n{:.2f} km³'.format(\n",
    "                model.yr, model.volume_km3)\n",
    "        else:\n",
    "            text = 'Model reached equilibrium\\n{:.0f} years\\n with a Volume of\\n{:.0f} m³'.format(\n",
    "                model.yr, model.volume_m3)\n",
    "    elif stage == 'stopped model':\n",
    "        if model.volume_km3 > 1:\n",
    "            text = 'Model finished\\n{:.0f} years\\n with a Volume of\\n{:.2f} km³'.format(\n",
    "                model.yr, model.volume_km3)\n",
    "        else:\n",
    "            text = 'Model finished\\n{:.0f} years\\n with a Volume of\\n{:.0f} m³'.format(\n",
    "                model.yr, model.volume_m3)\n",
    "\n",
    "    info_text = hv.Text(0.5, 0.5, text).opts(default_tools=['save', 'reset'],\n",
    "                                             show_frame=False,\n",
    "                                             text_baseline='middle',\n",
    "                                             text_align='center',\n",
    "                                             xaxis=None,\n",
    "                                             yaxis=None)"
   ]
  },
  {
   "cell_type": "markdown",
   "metadata": {},
   "source": [
    "## Define functions for intialize flowline and run model"
   ]
  },
  {
   "cell_type": "code",
   "execution_count": null,
   "metadata": {},
   "outputs": [],
   "source": [
    "def init_flowline_model():\n",
    "    global model\n",
    "    global bed_h\n",
    "    global run_surface_heights\n",
    "    global widths\n",
    "    global glacier_outlines\n",
    "\n",
    "    # set info text\n",
    "    set_info_text(stage='new model')\n",
    "\n",
    "    # initialize the bed rock\n",
    "    set_bed_rock_curve()\n",
    "\n",
    "    # set glacier surface height to bed height because at the beginning there is no glacier\n",
    "    surface_h = bed_h\n",
    "\n",
    "    # initialize flowline with rectangular shape of glacier\n",
    "    model_flowline = RectangularBedFlowline(surface_h=surface_h, bed_h=bed_h,\n",
    "                                            widths=widths, map_dx=map_dx)\n",
    "\n",
    "    model = FlowlineModel(model_flowline, mb_model=mb_model, y0=0., glen_a=glen_a,\n",
    "                          fs=fs, check_for_boundaries=False)\n",
    "\n",
    "    # set surface height for plotting, at beginn old and new one are the same\n",
    "    run_surface_heights = np.repeat(\n",
    "        np.array(model.fls[-1].surface_h, ndmin=2), 2, axis=0)\n",
    "\n",
    "    # set glacier outlines for plottin, at beginn old and new one are the same\n",
    "    glacier_outlines = np.repeat(np.array(\n",
    "        np.where(model.fls[-1].thick > 0, widths, np.zeros(nx)), ndmin=2), 2, axis=0)"
   ]
  },
  {
   "cell_type": "code",
   "execution_count": null,
   "metadata": {},
   "outputs": [],
   "source": [
    "def run_the_model(stage='beginner mode'):\n",
    "    global model\n",
    "    global run_surface_heights\n",
    "    global run_loop_count\n",
    "    global glacier_outlines\n",
    "\n",
    "    # set new mass balance curve\n",
    "    set_mb_curve()\n",
    "\n",
    "    if stage == 'beginner mode':\n",
    "        # initialize a new model\n",
    "        init_flowline_model()\n",
    "\n",
    "        # years after which the current state of the glacier should be shown\n",
    "        dyears = 10\n",
    "\n",
    "    elif stage == 'advance equilibrium' or stage == 'advance years':\n",
    "        # initialize model with old extend and new mass balance model\n",
    "        model = FlowlineModel(model.fls[-1], mb_model=mb_model, y0=0.,\n",
    "                              glen_a=glen_a, fs=fs, check_for_boundaries=False)\n",
    "\n",
    "        # determine glacier state at starting point\n",
    "        run_surface_heights = np.repeat(\n",
    "            np.array(model.fls[-1].surface_h, ndmin=2), 2, axis=0)\n",
    "        glacier_outlines = np.repeat(np.array(\n",
    "            np.where(model.fls[-1].thick > 0, widths, np.zeros(nx)), ndmin=2), 2, axis=0)\n",
    "\n",
    "        # TODO: create slider to change dyears in advanced mode\n",
    "        dyears = 10\n",
    "\n",
    "    if stage == 'beginner mode':\n",
    "        set_glacier_height_curve()\n",
    "        set_width_curve()\n",
    "\n",
    "    if stage == 'beginner mode' or stage == 'advance equilibrium':\n",
    "        # same function as from OGGM FlowlineModel.run_until_equilibrium\n",
    "        ite = 0\n",
    "        was_close_zero = 0\n",
    "        t_rate = 1\n",
    "        while (t_rate > 0.001) and (ite <= 200) and (was_close_zero < 5):\n",
    "            ite += 1\n",
    "            v_bef = model.volume_m3\n",
    "            model.run_until(model.yr + dyears)\n",
    "            v_af = model.volume_m3\n",
    "            if np.isclose(v_bef, 0., atol=1):\n",
    "                t_rate = 1\n",
    "                was_close_zero += 1\n",
    "            else:\n",
    "                t_rate = np.abs(v_af - v_bef) / v_bef\n",
    "\n",
    "            # set text with current year and volume\n",
    "            set_info_text(stage='running model')\n",
    "\n",
    "            # save new surface/outline and show it on plot\n",
    "            run_surface_heights[1] = np.array(model.fls[-1].surface_h, ndmin=2)\n",
    "            glacier_outlines[1] = np.array(\n",
    "                np.where(model.fls[-1].thick > 0, widths, np.zeros(nx)), ndmin=2)\n",
    "            set_glacier_height_curve()\n",
    "            set_width_curve()\n",
    "            main_figure.event(button_name='run_button',\n",
    "                              clicks=run_loop_count)\n",
    "            run_loop_count += 1\n",
    "\n",
    "        # TODO: Insert message when equilibrium could not be found\n",
    "        # if ite > max_ite:\n",
    "\n",
    "        # set text with equilibrium year\n",
    "        set_info_text(stage='equilibrium')\n",
    "        main_figure.event(button_name='run_button',\n",
    "                          clicks=run_loop_count)\n",
    "\n",
    "    elif stage == 'advance years':\n",
    "        while (model.yr < run_model_years.value):\n",
    "            model.run_until(model.yr + dyears)\n",
    "\n",
    "            # set text with current year and volume\n",
    "            set_info_text(stage='running model')\n",
    "\n",
    "            # save new surface/outline and show it on plot\n",
    "            run_surface_heights[1] = np.array(model.fls[-1].surface_h, ndmin=2)\n",
    "            glacier_outlines[1] = np.array(\n",
    "                np.where(model.fls[-1].thick > 0, widths, np.zeros(nx)), ndmin=2)\n",
    "            set_glacier_height_curve()\n",
    "            set_width_curve()\n",
    "            main_figure.event(button_name='run_button',\n",
    "                              clicks=run_loop_count)\n",
    "            run_loop_count += 1\n",
    "\n",
    "        # TODO: Insert message when equilibrium could not be found\n",
    "        # if ite > max_ite:\n",
    "\n",
    "        # set text with equilibrium year\n",
    "        set_info_text(stage='stopped model')\n",
    "        main_figure.event(button_name='run_button',\n",
    "                          clicks=run_loop_count)"
   ]
  },
  {
   "cell_type": "markdown",
   "metadata": {},
   "source": [
    "## Main function for dynamic map"
   ]
  },
  {
   "cell_type": "code",
   "execution_count": null,
   "metadata": {},
   "outputs": [],
   "source": [
    "def change_plot(button_name='reset', clicks=0):\n",
    "    # use global curves\n",
    "    global bed_rock_curve\n",
    "    global glacier_height_curve\n",
    "    global mb_curve\n",
    "    global width_curve\n",
    "\n",
    "    if button_name == 'reset':\n",
    "        # TODO: set all widgets to default values\n",
    "        # bed_rock_profile.value = 'linear'\n",
    "\n",
    "        # initialisation of figure\n",
    "        set_mb_curve()\n",
    "        init_flowline_model()\n",
    "        set_glacier_height_curve()\n",
    "        set_width_curve()\n",
    "\n",
    "    elif button_name == 'new model':\n",
    "        set_mb_curve()\n",
    "        init_flowline_model()\n",
    "        set_glacier_height_curve()\n",
    "        set_width_curve()\n",
    "\n",
    "    return ((glacier_height_curve * bed_rock_curve).opts(legend_position='bottom_left',\n",
    "                                                         legend_cols=2,\n",
    "                                                         xaxis='top',\n",
    "                                                         bgcolor='lightblue',\n",
    "                                                         frame_width=580,\n",
    "                                                         frame_height=200) +\n",
    "            (mb_curve).opts(legend_position='right',\n",
    "                            xaxis='top',\n",
    "                            yaxis='right',\n",
    "                            frame_width=200,\n",
    "                            frame_height=200) +\n",
    "            (width_curve).opts(legend_cols=3,\n",
    "                               legend_position='bottom_left',\n",
    "                               frame_height=150,\n",
    "                               frame_width=580,\n",
    "                               yformatter='%8.0f') +\n",
    "            (info_text).opts(frame_height=150,\n",
    "                             frame_width=300)\n",
    "            ).cols(2)"
   ]
  },
  {
   "cell_type": "markdown",
   "metadata": {},
   "source": [
    "## streamer and dynamic map"
   ]
  },
  {
   "cell_type": "code",
   "execution_count": null,
   "metadata": {},
   "outputs": [],
   "source": [
    "main_stream = Stream.define('main_stream', button_name='reset', clicks=0)\n",
    "\n",
    "main_figure = hv.DynamicMap(change_plot, streams=[main_stream()])"
   ]
  },
  {
   "cell_type": "markdown",
   "metadata": {},
   "source": [
    "## App"
   ]
  },
  {
   "cell_type": "code",
   "execution_count": null,
   "metadata": {
    "scrolled": false
   },
   "outputs": [],
   "source": [
    "pn.Column(tab_menu, main_figure, sizing_mode='stretch_both').servable()"
   ]
  },
  {
   "cell_type": "markdown",
   "metadata": {},
   "source": [
    "As long as you are running this notebook \"live\" (in Jupyter, not viewing a website or a static copy), the above notebook cell should contain the fully operational dashboard here in the notebook. You can also launch the dashboard at a separate port that shows up in a new browser tab, either by changing .servable() to .show() above and re-executing that cell, or by leaving the cell as it is and running bokeh serve --show simulator.ipynb."
   ]
  },
  {
   "cell_type": "code",
   "execution_count": null,
   "metadata": {},
   "outputs": [],
   "source": []
  }
 ],
 "metadata": {
  "hide_input": false,
  "kernelspec": {
   "display_name": "Python 3",
   "language": "python",
   "name": "python3"
  },
  "language_info": {
   "codemirror_mode": {
    "name": "ipython",
    "version": 3
   },
   "file_extension": ".py",
   "mimetype": "text/x-python",
   "name": "python",
   "nbconvert_exporter": "python",
   "pygments_lexer": "ipython3",
   "version": "3.6.7"
  },
  "latex_envs": {
   "LaTeX_envs_menu_present": true,
   "autoclose": false,
   "autocomplete": true,
   "bibliofile": "biblio.bib",
   "cite_by": "apalike",
   "current_citInitial": 1,
   "eqLabelWithNumbers": true,
   "eqNumInitial": 1,
   "hotkeys": {
    "equation": "Ctrl-E",
    "itemize": "Ctrl-I"
   },
   "labels_anchors": false,
   "latex_user_defs": false,
   "report_style_numbering": false,
   "user_envs_cfg": false
  },
  "nbTranslate": {
   "displayLangs": [
    "*"
   ],
   "hotkey": "alt-t",
   "langInMainMenu": true,
   "sourceLang": "en",
   "targetLang": "fr",
   "useGoogleTranslate": true
  },
  "toc": {
   "base_numbering": 1,
   "nav_menu": {},
   "number_sections": false,
   "sideBar": true,
   "skip_h1_title": true,
   "title_cell": "Table of Contents",
   "title_sidebar": "Contents",
   "toc_cell": false,
   "toc_position": {},
   "toc_section_display": true,
   "toc_window_display": false
  }
 },
 "nbformat": 4,
 "nbformat_minor": 2
}
