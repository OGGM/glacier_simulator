{
 "cells": [
  {
   "cell_type": "markdown",
   "metadata": {},
   "source": [
    "# OGGM glacier climate simulator"
   ]
  },
  {
   "cell_type": "markdown",
   "metadata": {},
   "source": [
    "App to initialize a simple glacier and look how it develops under changing climate settings."
   ]
  },
  {
   "cell_type": "markdown",
   "metadata": {},
   "source": [
    "## Import packages"
   ]
  },
  {
   "cell_type": "markdown",
   "metadata": {},
   "source": [
    "import plotting libaries"
   ]
  },
  {
   "cell_type": "code",
   "execution_count": null,
   "metadata": {},
   "outputs": [],
   "source": [
    "import holoviews as hv\n",
    "from holoviews import opts\n",
    "from holoviews.streams import Stream, param\n",
    "import panel as pn\n",
    "\n",
    "hv.extension('bokeh')\n",
    "pn.extension()"
   ]
  },
  {
   "cell_type": "markdown",
   "metadata": {},
   "source": [
    "import OGGM packages"
   ]
  },
  {
   "cell_type": "code",
   "execution_count": null,
   "metadata": {},
   "outputs": [],
   "source": [
    "# Constants for initialization\n",
    "from oggm import cfg\n",
    "cfg.initialize()\n",
    "\n",
    "# OGGM models\n",
    "from oggm.core.massbalance import LinearMassBalance\n",
    "from oggm.core.flowline import FluxBasedModel, RectangularBedFlowline, TrapezoidalBedFlowline, ParabolicBedFlowline\n",
    "\n",
    "# There are several solvers in OGGM core. We use the default one for this experiment\n",
    "from functools import partial\n",
    "FlowlineModel = partial(FluxBasedModel, min_dt=0, cfl_number=0.01)"
   ]
  },
  {
   "cell_type": "markdown",
   "metadata": {},
   "source": [
    "and some other useful packages"
   ]
  },
  {
   "cell_type": "code",
   "execution_count": null,
   "metadata": {},
   "outputs": [],
   "source": [
    "import numpy as np"
   ]
  },
  {
   "cell_type": "markdown",
   "metadata": {},
   "source": [
    "## Define variables for model"
   ]
  },
  {
   "cell_type": "markdown",
   "metadata": {},
   "source": [
    "some constants:"
   ]
  },
  {
   "cell_type": "code",
   "execution_count": null,
   "metadata": {},
   "outputs": [],
   "source": [
    "# number of steps from bottem to top of glacier\n",
    "nx = 200\n",
    "\n",
    "# model grid spacing in m\n",
    "map_dx = 100\n",
    "\n",
    "# width of glacier (3 gridpoints = 300 m)\n",
    "widths = np.zeros(nx) + 3.\n",
    "\n",
    "# distance along glacier (x-axis of glacier profil plot) in km\n",
    "distance_along_glacier = np.linspace(0, nx, nx) * map_dx * 1e-3"
   ]
  },
  {
   "cell_type": "markdown",
   "metadata": {},
   "source": [
    "model variables:"
   ]
  },
  {
   "cell_type": "code",
   "execution_count": null,
   "metadata": {},
   "outputs": [],
   "source": [
    "init_flowline = []\n",
    "bed_rock_curve = []\n",
    "mb_model = []\n",
    "mb_curve = []"
   ]
  },
  {
   "cell_type": "markdown",
   "metadata": {},
   "source": [
    "define ranges for slider:"
   ]
  },
  {
   "cell_type": "code",
   "execution_count": null,
   "metadata": {},
   "outputs": [],
   "source": [
    "# glacier top height\n",
    "glacier_top_height_max = 4000\n",
    "glacier_top_height_min = 3000\n",
    "glacier_top_height_default = 3500\n",
    "glacier_top_height_range = np.arange(glacier_top_height_min,\n",
    "                                     glacier_top_height_max + 1,\n",
    "                                     100)\n",
    "\n",
    "# glacier bottom height\n",
    "glacier_bottom_height_max = 2000\n",
    "glacier_bottom_height_min = 1000\n",
    "glacier_bottom_height_default = 1500\n",
    "glacier_bottom_height_range = np.arange(glacier_bottom_height_min,\n",
    "                                        glacier_bottom_height_max + 1,\n",
    "                                        100)\n",
    "\n",
    "# ELA height\n",
    "ELA_height_min = 2000\n",
    "ELA_height_max = 4500\n",
    "ELA_height_default = 3000\n",
    "ELA_height_range = np.arange(ELA_height_min,\n",
    "                             ELA_height_max + 1,\n",
    "                             100)\n",
    "\n",
    "# mass balance gradient \n",
    "mb_gradient_max = 15\n",
    "mb_gradient_min = 1\n",
    "mb_gradient_default = 4\n",
    "mb_gradient_range = np.arange(mb_gradient_min,\n",
    "                              mb_gradient_max + 1,\n",
    "                              1)"
   ]
  },
  {
   "cell_type": "markdown",
   "metadata": {},
   "source": [
    "## Panel for initializing a simple glacier flowline"
   ]
  },
  {
   "cell_type": "markdown",
   "metadata": {},
   "source": [
    "should contain geometry of the glacier bed, ..."
   ]
  },
  {
   "cell_type": "code",
   "execution_count": null,
   "metadata": {},
   "outputs": [],
   "source": [
    "# function for initializing a simple glacier flowline\n",
    "def initializing_glacier_bed(arg=None): \n",
    "    global init_flowline\n",
    "    global bed_rock_curve\n",
    "    \n",
    "    # define how the profile of the glacier bed should look like\n",
    "    if bed_rock_profile.value == 'linear':\n",
    "        bed_h = np.linspace(glacier_top.value, glacier_bottom.value, nx)\n",
    "    elif bed_rock_profile.value == 'decreasing':\n",
    "        pass\n",
    "    elif bed_rock_profile.value == 'increasing':\n",
    "        pass\n",
    "    elif bed_rock_profile.value == 'jump':\n",
    "        pass\n",
    "\n",
    "    # create bed_rock_curve for glacier profil plot\n",
    "    bed_rock_curve = hv.Curve((distance_along_glacier, bed_h),\n",
    "                          'distance along glacier (km)', 'altitude (m)',\n",
    "                          label='glacier bed').opts(color='black')\n",
    "    \n",
    "    # set glacier surface height to bed height because at the beginning there is no glacier\n",
    "    surface_h = bed_h\n",
    "\n",
    "    # initialize flowline with choosen shape of glacier\n",
    "    if bed_shape.value == 'rectangular':\n",
    "        init_flowline = RectangularBedFlowline(surface_h=surface_h, bed_h=bed_h,\n",
    "                                               widths=widths, map_dx=map_dx)\n",
    "    elif bed_shape.value == 'trapezoidal':\n",
    "        pass\n",
    "    elif bed_shape.value == 'parabolic':\n",
    "        pass"
   ]
  },
  {
   "cell_type": "markdown",
   "metadata": {},
   "source": [
    "defining some widgets"
   ]
  },
  {
   "cell_type": "code",
   "execution_count": null,
   "metadata": {},
   "outputs": [],
   "source": [
    "bed_shape = pn.widgets.Select(name='bed shape',\n",
    "                              options=['rectangular', 'trapezoidal', 'parabolic'])\n",
    "\n",
    "bed_rock_profile = pn.widgets.Select(name='bedrock profile',\n",
    "                                     options=['linear', 'decreasing', 'increasing', 'jump'])\n",
    "\n",
    "glacier_top = pn.widgets.DiscreteSlider(name='glacier top height',\n",
    "                                        options=list(glacier_top_height_range),\n",
    "                                        value=glacier_top_height_default)\n",
    "\n",
    "glacier_bottom = pn.widgets.DiscreteSlider(name='glacier bottom height',\n",
    "                                           options=list(glacier_bottom_height_range),\n",
    "                                           value=glacier_bottom_height_default)\n",
    "\n",
    "init_glacier_bed_button = pn.widgets.Button(name='initializing glacier bed',\n",
    "                                            button_type='primary')\n",
    "init_glacier_bed_button.param.watch(initializing_glacier_bed, 'clicks');"
   ]
  },
  {
   "cell_type": "markdown",
   "metadata": {},
   "source": [
    "put panel together and show it"
   ]
  },
  {
   "cell_type": "code",
   "execution_count": null,
   "metadata": {},
   "outputs": [],
   "source": [
    "bed_rock_panel = pn.Column(glacier_top, glacier_bottom, bed_shape, bed_rock_profile,\n",
    "                          init_glacier_bed_button)\n",
    "\n",
    "bed_rock_panel"
   ]
  },
  {
   "cell_type": "code",
   "execution_count": null,
   "metadata": {},
   "outputs": [],
   "source": [
    "bed_rock_curve"
   ]
  },
  {
   "cell_type": "markdown",
   "metadata": {},
   "source": [
    "### Panel for modifying mass balance profile and plot of mass balance profile"
   ]
  },
  {
   "cell_type": "markdown",
   "metadata": {},
   "source": [
    "change ELA and gradient, as a climate parameter, later maybe change temperature and precipitation and convert this changes into a mass balance profile"
   ]
  },
  {
   "cell_type": "code",
   "execution_count": null,
   "metadata": {},
   "outputs": [],
   "source": [
    "# function to define and change massbalance model\n",
    "def change_mb_model(arg=None):\n",
    "    global mb_model\n",
    "    global mb_curve\n",
    "    \n",
    "    mb_model = LinearMassBalance(ELA_height.value, grad=mb_gradient.value)\n",
    "    \n",
    "    max_glacier_range = np.linspace(glacier_bottom_height_min,\n",
    "                                    glacier_top_height_max, nx)\n",
    "    annual_mb = mb_model.get_annual_mb(max_glacier_range) * cfg.SEC_IN_YEAR\n",
    "    mb_curve = hv.Curve((annual_mb, max_glacier_range),\n",
    "                        'annual mass balance (m/yr)',\n",
    "                        'altitude (m)') * hv.HLine(ELA_height.value).opts(line_dash='dashed')"
   ]
  },
  {
   "cell_type": "markdown",
   "metadata": {},
   "source": [
    "create some widgets to change mass balance"
   ]
  },
  {
   "cell_type": "code",
   "execution_count": null,
   "metadata": {},
   "outputs": [],
   "source": [
    "ELA_height = pn.widgets.DiscreteSlider(name='equilibrium line height',\n",
    "                                       options=list(ELA_height_range),\n",
    "                                       value=ELA_height_default)\n",
    "\n",
    "mb_gradient = pn.widgets.DiscreteSlider(name='mass balance gradient',\n",
    "                                        options=list(mb_gradient_range),\n",
    "                                        value=mb_gradient_default)\n",
    "\n",
    "change_mb_model_button = pn.widgets.Button(name='change mass balance profil',\n",
    "                                            button_type='primary')\n",
    "change_mb_model_button.param.watch(change_mb_model, 'clicks');"
   ]
  },
  {
   "cell_type": "markdown",
   "metadata": {},
   "source": [
    "put panel together and show it"
   ]
  },
  {
   "cell_type": "code",
   "execution_count": null,
   "metadata": {},
   "outputs": [],
   "source": [
    "mb_panel = pn.Column(ELA_height, mb_gradient, change_mb_model_button)\n",
    "mb_panel"
   ]
  },
  {
   "cell_type": "markdown",
   "metadata": {},
   "source": [
    "### Create plot for glacier height (dynamic plot)"
   ]
  },
  {
   "cell_type": "markdown",
   "metadata": {},
   "source": [
    "showing surface glacier height, maybe also from the previous step,..."
   ]
  },
  {
   "cell_type": "code",
   "execution_count": null,
   "metadata": {},
   "outputs": [],
   "source": []
  },
  {
   "cell_type": "markdown",
   "metadata": {},
   "source": [
    "### Put Panels and plots together"
   ]
  },
  {
   "cell_type": "code",
   "execution_count": null,
   "metadata": {},
   "outputs": [],
   "source": []
  }
 ],
 "metadata": {
  "kernelspec": {
   "display_name": "Python 3",
   "language": "python",
   "name": "python3"
  },
  "language_info": {
   "codemirror_mode": {
    "name": "ipython",
    "version": 3
   },
   "file_extension": ".py",
   "mimetype": "text/x-python",
   "name": "python",
   "nbconvert_exporter": "python",
   "pygments_lexer": "ipython3",
   "version": "3.7.3"
  }
 },
 "nbformat": 4,
 "nbformat_minor": 2
}
