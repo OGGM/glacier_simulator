{
 "cells": [
  {
   "cell_type": "markdown",
   "metadata": {},
   "source": [
    "# OGGM glacier climate simulator"
   ]
  },
  {
   "cell_type": "markdown",
   "metadata": {},
   "source": [
    "App to initialize a simple glacier and look how it develops under changing climate settings (mass balance profile)."
   ]
  },
  {
   "cell_type": "markdown",
   "metadata": {},
   "source": [
    "## Import packages"
   ]
  },
  {
   "cell_type": "markdown",
   "metadata": {},
   "source": [
    "import plotting libaries"
   ]
  },
  {
   "cell_type": "code",
   "execution_count": null,
   "metadata": {},
   "outputs": [],
   "source": [
    "import holoviews as hv\n",
    "from holoviews import opts\n",
    "from holoviews.streams import Stream, param\n",
    "import panel as pn\n",
    "\n",
    "hv.extension('bokeh', width=100)\n",
    "pn.extension()"
   ]
  },
  {
   "cell_type": "markdown",
   "metadata": {},
   "source": [
    "import OGGM packages"
   ]
  },
  {
   "cell_type": "code",
   "execution_count": null,
   "metadata": {},
   "outputs": [],
   "source": [
    "# Constants for initialization\n",
    "from oggm import cfg\n",
    "cfg.initialize()\n",
    "\n",
    "# OGGM models\n",
    "from oggm.core.massbalance import LinearMassBalance\n",
    "from oggm.core.flowline import FluxBasedModel, RectangularBedFlowline, TrapezoidalBedFlowline, ParabolicBedFlowline\n",
    "\n",
    "# There are several solvers in OGGM core. We use the default one for this experiment\n",
    "from functools import partial\n",
    "FlowlineModel = partial(FluxBasedModel, min_dt=0, cfl_number=0.01)"
   ]
  },
  {
   "cell_type": "markdown",
   "metadata": {},
   "source": [
    "and some other useful packages"
   ]
  },
  {
   "cell_type": "code",
   "execution_count": null,
   "metadata": {},
   "outputs": [],
   "source": [
    "import numpy as np"
   ]
  },
  {
   "cell_type": "markdown",
   "metadata": {},
   "source": [
    "## Define some variables for model and plotting"
   ]
  },
  {
   "cell_type": "markdown",
   "metadata": {},
   "source": [
    "some constants:"
   ]
  },
  {
   "cell_type": "code",
   "execution_count": null,
   "metadata": {},
   "outputs": [],
   "source": [
    "# number of steps from bottem to top of glacier\n",
    "nx = 200\n",
    "\n",
    "# model grid spacing in m\n",
    "map_dx = 100\n",
    "\n",
    "# width of glacier (3 gridpoints = 300 m)\n",
    "widths = np.zeros(nx) + 3.\n",
    "\n",
    "# distance along glacier (x-axis of glacier profil plot) in km\n",
    "distance_along_glacier = np.linspace(0, nx, nx) * map_dx * 1e-3\n",
    "\n",
    "# default tools for plot\n",
    "default_tools = ['save', 'wheel_zoom', 'box_zoom', 'reset']"
   ]
  },
  {
   "cell_type": "markdown",
   "metadata": {},
   "source": [
    "define ranges for slider:"
   ]
  },
  {
   "cell_type": "code",
   "execution_count": null,
   "metadata": {},
   "outputs": [],
   "source": [
    "# glacier top height\n",
    "glacier_top_height_max = 4000\n",
    "glacier_top_height_min = 3000\n",
    "glacier_top_height_default = 3500\n",
    "glacier_top_height_range = np.arange(glacier_top_height_min,\n",
    "                                     glacier_top_height_max + 1,\n",
    "                                     100)\n",
    "\n",
    "# glacier bottom height\n",
    "glacier_bottom_height_max = 2000\n",
    "glacier_bottom_height_min = 1000\n",
    "glacier_bottom_height_default = 1500\n",
    "glacier_bottom_height_range = np.arange(glacier_bottom_height_min,\n",
    "                                        glacier_bottom_height_max + 1,\n",
    "                                        100)\n",
    "\n",
    "# ELA height\n",
    "ELA_height_min = 2000\n",
    "ELA_height_max = 4500\n",
    "ELA_height_default = 3000\n",
    "ELA_height_range = np.arange(ELA_height_min,\n",
    "                             ELA_height_max + 1,\n",
    "                             100)\n",
    "\n",
    "# mass balance gradient \n",
    "mb_gradient_max = 15\n",
    "mb_gradient_min = 1\n",
    "mb_gradient_default = 4\n",
    "mb_gradient_range = np.arange(mb_gradient_min,\n",
    "                              mb_gradient_max + 1,\n",
    "                              1)\n",
    "\n",
    "# years of calculation\n",
    "years_min = 10\n",
    "years_max = 500\n",
    "years_default = 150\n",
    "years_range = np.arange(years_min, years_max + 1, 10)"
   ]
  },
  {
   "cell_type": "markdown",
   "metadata": {},
   "source": [
    "model variables:"
   ]
  },
  {
   "cell_type": "code",
   "execution_count": null,
   "metadata": {},
   "outputs": [],
   "source": [
    "# define default glacier bed\n",
    "#default_bed_h = np.linspace(glacier_top_height_default,\n",
    "#                            glacier_bottom_height_default, nx)\n",
    "bed_h = []\n",
    "mb_model = []\n",
    "model = []\n",
    "\n",
    "# define default flowline, surface_h = default_bed_h because at start glacier has no volume\n",
    "#init_flowline = RectangularBedFlowline(surface_h=default_bed_h, bed_h=default_bed_h,\n",
    "#                                               widths=widths, map_dx=map_dx)\n",
    "\n",
    "#bed_rock_curve = hv.Curve((distance_along_glacier, default_bed_h),\n",
    "#                          'distance along glacier (km)', 'altitude (m)',\n",
    "#                          label='glacier bed').opts(color='black')\n",
    "\n",
    "# mb_model = LinearMassBalance(ELA_height_default, grad=mb_gradient_default)\n",
    "\n",
    "# define maximum of possible glacier range\n",
    "max_glacier_range = np.linspace(glacier_bottom_height_min,\n",
    "                                glacier_top_height_max, nx)\n",
    "\n",
    "# default_annual_mb = mb_model.get_annual_mb(max_glacier_range) * cfg.SEC_IN_YEAR\n",
    "\n",
    "# model = FlowlineModel(init_flowline, mb_model=mb_model, y0=0.)"
   ]
  },
  {
   "cell_type": "markdown",
   "metadata": {},
   "source": [
    "define global curves:"
   ]
  },
  {
   "cell_type": "code",
   "execution_count": null,
   "metadata": {},
   "outputs": [],
   "source": [
    "bed_rock_curve = []\n",
    "glacier_height_curve = []\n",
    "mb_subfigure = []\n",
    "mb_curve = []\n",
    "width_curve = []"
   ]
  },
  {
   "cell_type": "markdown",
   "metadata": {},
   "source": [
    "some plotting options"
   ]
  },
  {
   "cell_type": "markdown",
   "metadata": {},
   "source": [
    "## Panel for initializing a simple glacier flowline"
   ]
  },
  {
   "cell_type": "markdown",
   "metadata": {},
   "source": [
    "should contain geometry of the glacier bed, ..."
   ]
  },
  {
   "cell_type": "code",
   "execution_count": null,
   "metadata": {},
   "outputs": [],
   "source": [
    "# function for initializing a simple glacier flowline\n",
    "def initializing_glacier_bed(arg=None): \n",
    "    global init_flowline\n",
    "    global bed_rock_curve\n",
    "    global model\n",
    "    \n",
    "    # define how the profile of the glacier bed should look like\n",
    "    if bed_rock_profile.value == 'linear':\n",
    "        bed_h = np.linspace(glacier_top.value, glacier_bottom.value, nx)\n",
    "    elif bed_rock_profile.value == 'decreasing':\n",
    "        pass\n",
    "    elif bed_rock_profile.value == 'increasing':\n",
    "        pass\n",
    "    elif bed_rock_profile.value == 'jump':\n",
    "        pass\n",
    "\n",
    "    # create bed_rock_curve for glacier profil plot\n",
    "    bed_rock_curve = hv.Curve((distance_along_glacier, bed_h),\n",
    "                          'distance along glacier (km)', 'altitude (m)',\n",
    "                          label='glacier bed').opts(color='black')\n",
    "    \n",
    "    # set glacier surface height to bed height because at the beginning there is no glacier\n",
    "    surface_h = bed_h\n",
    "\n",
    "    # initialize flowline with choosen shape of glacier\n",
    "    if bed_shape.value == 'rectangular':\n",
    "        init_flowline = RectangularBedFlowline(surface_h=surface_h, bed_h=bed_h,\n",
    "                                               widths=widths, map_dx=map_dx)\n",
    "    elif bed_shape.value == 'trapezoidal':\n",
    "        pass\n",
    "    elif bed_shape.value == 'parabolic':\n",
    "        pass\n",
    "    \n",
    "    # initialize model with flowline\n",
    "    model = FlowlineModel(init_flowline, mb_model=mb_model, y0=0.)"
   ]
  },
  {
   "cell_type": "markdown",
   "metadata": {},
   "source": [
    "defining some widgets"
   ]
  },
  {
   "cell_type": "code",
   "execution_count": null,
   "metadata": {},
   "outputs": [],
   "source": [
    "bed_shape = pn.widgets.Select(name='bed shape',\n",
    "                              options=['rectangular', 'trapezoidal', 'parabolic'])\n",
    "\n",
    "bed_rock_profile = pn.widgets.Select(name='bedrock profile',\n",
    "                                     options=['linear', 'decreasing', 'increasing', 'jump'])\n",
    "\n",
    "glacier_top = pn.widgets.DiscreteSlider(name='glacier top height',\n",
    "                                        options=list(glacier_top_height_range),\n",
    "                                        value=glacier_top_height_default)\n",
    "\n",
    "glacier_bottom = pn.widgets.DiscreteSlider(name='glacier bottom height',\n",
    "                                           options=list(glacier_bottom_height_range),\n",
    "                                           value=glacier_bottom_height_default)\n",
    "\n",
    "init_glacier_bed_button = pn.widgets.Button(name='initializing glacier bed',\n",
    "                                            button_type='primary')\n",
    "#init_glacier_bed_button.param.watch(initializing_glacier_bed, 'clicks');"
   ]
  },
  {
   "cell_type": "markdown",
   "metadata": {},
   "source": [
    "put panel together and show it"
   ]
  },
  {
   "cell_type": "code",
   "execution_count": null,
   "metadata": {},
   "outputs": [],
   "source": [
    "bed_rock_panel = pn.Column(glacier_top, glacier_bottom, bed_shape, bed_rock_profile)#,\n",
    "                          #init_glacier_bed_button)\n",
    "\n",
    "bed_rock_panel"
   ]
  },
  {
   "cell_type": "markdown",
   "metadata": {},
   "source": [
    "### Panel for modifying mass balance profile and plot of mass balance profile"
   ]
  },
  {
   "cell_type": "markdown",
   "metadata": {},
   "source": [
    "change ELA and gradient, as a climate parameter, later maybe change temperature and precipitation and convert this changes into a mass balance profile"
   ]
  },
  {
   "cell_type": "code",
   "execution_count": null,
   "metadata": {},
   "outputs": [],
   "source": [
    "# function to trigger plot change when button is clicked\n",
    "def mb_model_button_click(arg=None):\n",
    "    mb_curve.event(ELA=int(ELA_height.value),\n",
    "                   gradient=int(mb_gradient.value))\n",
    "\n",
    "\n",
    "# function to define and change massbalance model\n",
    "def change_mb_model(ELA=ELA_height_default, gradient=mb_gradient_default):\n",
    "    global mb_model\n",
    "\n",
    "    mb_model = LinearMassBalance(ELA, grad=gradient)\n",
    "    \n",
    "    annual_mb = mb_model.get_annual_mb(max_glacier_range) * cfg.SEC_IN_YEAR\n",
    "    return hv.Curve((annual_mb, max_glacier_range),\n",
    "                    'annual mass balance (m/yr)',\n",
    "                    'altitude (m)') * hv.HLine(ELA).opts(line_dash='dashed')"
   ]
  },
  {
   "cell_type": "markdown",
   "metadata": {},
   "source": [
    "create dynamic plot for mass balance profile"
   ]
  },
  {
   "cell_type": "code",
   "execution_count": null,
   "metadata": {},
   "outputs": [],
   "source": [
    "mb_stream = Stream.define('mb_stream', ELA=ELA_height_default,\n",
    "                            gradient=mb_gradient_default)\n",
    "\n",
    "mb_curve = hv.DynamicMap(change_mb_model, streams=[mb_stream()])"
   ]
  },
  {
   "cell_type": "markdown",
   "metadata": {},
   "source": [
    "create some widgets to change mass balance"
   ]
  },
  {
   "cell_type": "code",
   "execution_count": null,
   "metadata": {},
   "outputs": [],
   "source": [
    "ELA_height = pn.widgets.DiscreteSlider(name='equilibrium line height',\n",
    "                                       options=list(ELA_height_range),\n",
    "                                       value=ELA_height_default)\n",
    "\n",
    "mb_gradient = pn.widgets.DiscreteSlider(name='mass balance gradient',\n",
    "                                        options=list(mb_gradient_range),\n",
    "                                        value=mb_gradient_default)\n",
    "\n",
    "change_mb_model_button = pn.widgets.Button(name='change mass balance profil',\n",
    "                                            button_type='primary')\n",
    "#change_mb_model_button.param.watch(mb_model_button_click, 'clicks');"
   ]
  },
  {
   "cell_type": "markdown",
   "metadata": {},
   "source": [
    "put panel together"
   ]
  },
  {
   "cell_type": "code",
   "execution_count": null,
   "metadata": {},
   "outputs": [],
   "source": [
    "mb_panel = pn.Column(ELA_height, mb_gradient)#, change_mb_model_button)"
   ]
  },
  {
   "cell_type": "markdown",
   "metadata": {},
   "source": [
    "show panel and dynamic plot"
   ]
  },
  {
   "cell_type": "code",
   "execution_count": null,
   "metadata": {},
   "outputs": [],
   "source": [
    "pn.Row(mb_curve.opts(opts.Curve(width=400)), mb_panel)"
   ]
  },
  {
   "cell_type": "markdown",
   "metadata": {},
   "source": [
    "### panel for glacier heigth calculation and dynamic plot for glacier height"
   ]
  },
  {
   "cell_type": "markdown",
   "metadata": {},
   "source": [
    "showing surface glacier height, maybe also from the previous step,..."
   ]
  },
  {
   "cell_type": "code",
   "execution_count": null,
   "metadata": {},
   "outputs": [],
   "source": [
    "def calculate_model_years(years=0, clicks=0):\n",
    "    global model\n",
    "    \n",
    "    # switch button off and change text\n",
    "    calculate_model_years_button.name = 'calculating'\n",
    "    calculate_model_years_button.disabled = True\n",
    "    \n",
    "    # plot for previous glacier state\n",
    "    last_glacier_state = hv.Curve((distance_along_glacier, model.fls[-1].surface_h),\n",
    "                                  'distance along glacier (km)', 'altitude (m)',\n",
    "                                  label='last glacier state').opts(color='blue',\n",
    "                                                                   line_dash='dashed')\n",
    "    \n",
    "    # initialize model with previous flowline\n",
    "    model = FlowlineModel(model.fls[-1], mb_model=mb_model, y0=0.)\n",
    "    \n",
    "    # run model to equilibrium or the given years\n",
    "    if years == 999:\n",
    "        model.run_until_equilibrium(rate=0.006)\n",
    "    else:\n",
    "        model.run_until(years)\n",
    "    \n",
    "    # plot for new glacier state\n",
    "    new_glacier_state = hv.Curve((distance_along_glacier, model.fls[-1].surface_h),\n",
    "                                 'distance along glacier (km)', 'altitude (m)',\n",
    "                                 label='new glacier state').opts(color='blue')\n",
    "    \n",
    "    # switch button on and change text\n",
    "    calculate_model_years_button.name = 'run model for choosen years'\n",
    "    calculate_model_years_button.disabled = False\n",
    "    \n",
    "    return bed_rock_curve * last_glacier_state * new_glacier_state"
   ]
  },
  {
   "cell_type": "markdown",
   "metadata": {},
   "source": [
    "Panel for calculate glacier in the future"
   ]
  },
  {
   "cell_type": "code",
   "execution_count": null,
   "metadata": {},
   "outputs": [],
   "source": [
    "# function to trigger plot change when button is clicked, 'clicks' are needed to always force a change\n",
    "def model_years_button_click(arg=None):\n",
    "    glacier_height_curve.event(years=int(years_slider.value),\n",
    "                               clicks=calculate_model_years_button.clicks)\n",
    "\n",
    "\n",
    "def model_equi_button_click(arg=None):\n",
    "    glacier_height_curve.event(years=999,\n",
    "                               clicks=calculate_model_years_button.clicks)"
   ]
  },
  {
   "cell_type": "code",
   "execution_count": null,
   "metadata": {},
   "outputs": [],
   "source": [
    "years_slider = pn.widgets.DiscreteSlider(name='years to calculate in the future',\n",
    "                                  options=list(years_range), value=years_default)\n",
    "\n",
    "calculate_model_years_button = pn.widgets.Button(name='run model for choosen years',\n",
    "                                            button_type='primary')\n",
    "calculate_model_years_button.param.watch(model_years_button_click, 'clicks');\n",
    "\n",
    "calculate_model_equi_button = pn.widgets.Button(name='run model until equilibrium',\n",
    "                                            button_type='primary')\n",
    "calculate_model_equi_button.param.watch(model_equi_button_click, 'clicks');"
   ]
  },
  {
   "cell_type": "markdown",
   "metadata": {},
   "source": [
    "create dynamic plot for glacier height"
   ]
  },
  {
   "cell_type": "code",
   "execution_count": null,
   "metadata": {},
   "outputs": [],
   "source": [
    "glacier_stream = Stream.define('glacier_stream', years=0, clicks=0)\n",
    "\n",
    "glacier_height_curve = hv.DynamicMap(calculate_model_years, streams=[glacier_stream()])"
   ]
  },
  {
   "cell_type": "markdown",
   "metadata": {},
   "source": [
    "put panel together and show"
   ]
  },
  {
   "cell_type": "code",
   "execution_count": null,
   "metadata": {},
   "outputs": [],
   "source": [
    "run_model_panel = pn.Column(years_slider, calculate_model_years_button, calculate_model_equi_button)"
   ]
  },
  {
   "cell_type": "code",
   "execution_count": null,
   "metadata": {},
   "outputs": [],
   "source": [
    "pn.Row(glacier_height_curve, run_model_panel)"
   ]
  },
  {
   "cell_type": "markdown",
   "metadata": {},
   "source": [
    "### Put Panels and plots together"
   ]
  },
  {
   "cell_type": "code",
   "execution_count": null,
   "metadata": {},
   "outputs": [],
   "source": [
    "pn.Column(pn.Row(bed_rock_panel, run_model_panel, mb_panel),\n",
    "       pn.Row(glacier_height_curve.opts(opts.Curve(width=600)), mb_curve.opts(opts.Curve(width=200))))"
   ]
  },
  {
   "cell_type": "markdown",
   "metadata": {},
   "source": [
    "# make one dynamic map for plot"
   ]
  },
  {
   "cell_type": "markdown",
   "metadata": {},
   "source": [
    "some panesls (to do)"
   ]
  },
  {
   "cell_type": "code",
   "execution_count": null,
   "metadata": {},
   "outputs": [],
   "source": [
    "bed_shape = pn.widgets.Select(name='bed shape',\n",
    "                              options=['rectangular', 'trapezoidal', 'parabolic'])\n",
    "\n",
    "bed_rock_profile = pn.widgets.Select(name='bedrock profile',\n",
    "                                     options=['linear', 'decreasing', 'increasing', 'jump'])\n",
    "\n",
    "glacier_top = pn.widgets.DiscreteSlider(name='glacier top height',\n",
    "                                        options=list(glacier_top_height_range),\n",
    "                                        value=glacier_top_height_default)\n",
    "\n",
    "glacier_bottom = pn.widgets.DiscreteSlider(name='glacier bottom height',\n",
    "                                           options=list(glacier_bottom_height_range),\n",
    "                                           value=glacier_bottom_height_default)\n",
    "\n",
    "init_glacier_bed_button = pn.widgets.Button(name='initializing glacier bed',\n",
    "                                            button_type='primary')\n",
    "#init_glacier_bed_button.param.watch(initializing_glacier_bed, 'clicks');\n",
    "\n",
    "bed_rock_panel = pn.Column(glacier_top, glacier_bottom, bed_shape, bed_rock_profile)#,\n",
    "                          #init_glacier_bed_button)"
   ]
  },
  {
   "cell_type": "code",
   "execution_count": null,
   "metadata": {},
   "outputs": [],
   "source": [
    "ELA_height = pn.widgets.DiscreteSlider(name='equilibrium line height',\n",
    "                                       options=list(ELA_height_range),\n",
    "                                       value=ELA_height_default)\n",
    "\n",
    "mb_gradient = pn.widgets.DiscreteSlider(name='mass balance gradient',\n",
    "                                        options=list(mb_gradient_range),\n",
    "                                        value=mb_gradient_default)\n",
    "\n",
    "change_mb_model_button = pn.widgets.Button(name='change mass balance profil',\n",
    "                                            button_type='primary')\n",
    "#change_mb_model_button.param.watch(mb_model_button_click, 'clicks');\n",
    "mb_panel = pn.Column(ELA_height, mb_gradient)#, change_mb_model_button)"
   ]
  },
  {
   "cell_type": "markdown",
   "metadata": {},
   "source": [
    "define function for creating curves"
   ]
  },
  {
   "cell_type": "code",
   "execution_count": null,
   "metadata": {},
   "outputs": [],
   "source": [
    "def init_bed_rock():\n",
    "    global bed_h\n",
    "    global model\n",
    "    \n",
    "    if bed_rock_profile.value == 'linear':\n",
    "        # change to fixed values top and bottom height\n",
    "        bed_h = np.linspace(glacier_top_height_default, glacier_bottom_height_default, nx)\n",
    "    elif bed_rock_profile.value == 'decreasing':\n",
    "        pass\n",
    "    elif bed_rock_profile.value == 'increasing':\n",
    "        pass\n",
    "    elif bed_rock_profile.value == 'jump':\n",
    "        pass\n",
    "    \n",
    "    bed_rock_curve = hv.Area((distance_along_glacier, bed_h),\n",
    "                          'distance along glacier (km)', 'altitude (m)',\n",
    "                          label='glacier bed').opts(default_tools=default_tools,\n",
    "                                                    color='lightgray',\n",
    "                                                    line_alpha=0)\n",
    "    \n",
    "    # set glacier surface height to bed height because at the beginning there is no glacier\n",
    "    surface_h = bed_h\n",
    "\n",
    "    # initialize flowline with choosen shape of glacier\n",
    "    if bed_shape.value == 'rectangular':\n",
    "        model_flowline = RectangularBedFlowline(surface_h=surface_h, bed_h=bed_h,\n",
    "                                               widths=widths, map_dx=map_dx)\n",
    "    elif bed_shape.value == 'trapezoidal':\n",
    "        pass\n",
    "    elif bed_shape.value == 'parabolic':\n",
    "        pass\n",
    "    \n",
    "    model = FlowlineModel(model_flowline, mb_model=mb_model, y0=0.)\n",
    "    \n",
    "    return bed_rock_curve"
   ]
  },
  {
   "cell_type": "code",
   "execution_count": null,
   "metadata": {},
   "outputs": [],
   "source": [
    "def get_glacier_height_curve():\n",
    "    global model\n",
    "    \n",
    "    return (hv.Curve((distance_along_glacier, model.fls[-1].surface_h),\n",
    "                     'distance along glacier (km)', 'altitude (m)',\n",
    "                     label='new glacier state').opts(default_tools=default_tools,\n",
    "                                                     color='blue') * \n",
    "            hv.HLine(ELA_height.value, label='ELA').opts(default_tools=default_tools,\n",
    "                                                         line_dash='dashed',\n",
    "                                                         color='black'))"
   ]
  },
  {
   "cell_type": "code",
   "execution_count": null,
   "metadata": {},
   "outputs": [],
   "source": [
    "def get_mb_curve():\n",
    "    global mb_model\n",
    "    \n",
    "    ELA = int(ELA_height.value)\n",
    "    gradient = int(mb_gradient.value)\n",
    "    \n",
    "    mb_model = LinearMassBalance(ELA, grad=gradient)\n",
    "    \n",
    "    annual_mb = mb_model.get_annual_mb(max_glacier_range) * cfg.SEC_IN_YEAR\n",
    "    \n",
    "    return (hv.Area((annual_mb, np.repeat(glacier_top_height_max, np.size(annual_mb))),\n",
    "                    'annual mass balance (m/yr)',\n",
    "                    'altitude (m)',\n",
    "                    label='mass gain'\n",
    "                   ).opts(default_tools=default_tools,\n",
    "                          color='lightgreen',\n",
    "                          line_alpha=0) *\n",
    "            hv.Area((annual_mb, np.repeat(ELA, np.size(annual_mb))),\n",
    "                    'annual mass balance (m/yr)',\n",
    "                    'altitude (m)',\n",
    "                    label='mass loss'\n",
    "                   ).opts(default_tools=default_tools,\n",
    "                          color='lightcoral',\n",
    "                          line_alpha=0) *\n",
    "            hv.Curve((annual_mb, max_glacier_range),\n",
    "                    'annual mass balance (m/yr)',\n",
    "                    'altitude (m)',\n",
    "                     label='mass balance'\n",
    "                    ).opts(default_tools=default_tools,\n",
    "                           color='black') * \n",
    "            hv.HLine(ELA,\n",
    "                     label='ELA'\n",
    "                    ).opts(default_tools=default_tools,\n",
    "                           line_dash='dashed',\n",
    "                           color='black'))"
   ]
  },
  {
   "cell_type": "code",
   "execution_count": null,
   "metadata": {},
   "outputs": [],
   "source": [
    "def get_width_curve():\n",
    "    # define how thick the 'wall' of the glacier bed is shown\n",
    "    wall = 1 # in m\n",
    "    \n",
    "    return (hv.Area((distance_along_glacier,-np.max(widths) / 2 - wall),\n",
    "                    'distance along glacier (km)',\n",
    "                    'width (m)',\n",
    "                    label='boarder of glacier rock bed'\n",
    "                   ).opts(default_tools=default_tools,\n",
    "                          color='darkgray',\n",
    "                          line_alpha=0) * \n",
    "            hv.Area((distance_along_glacier,np.max(widths) / 2 + wall),\n",
    "                    'distance along glacier (km)',\n",
    "                    'width (m)',\n",
    "                    label='boarder of glacier rock bed'\n",
    "                   ).opts(default_tools=default_tools,\n",
    "                          color='darkgray',\n",
    "                          line_alpha=0) * \n",
    "            hv.Area((distance_along_glacier, -widths/2),\n",
    "                    'distance along glacier (km)',\n",
    "                    'width (m)',\n",
    "                    label='glacier rock bed'\n",
    "                   ).opts(default_tools=default_tools,\n",
    "                          color='lightgray',\n",
    "                          line_alpha=0) * \n",
    "            hv.Area((distance_along_glacier, widths/2),\n",
    "                    'distance along glacier (km)',\n",
    "                    'width (m)',\n",
    "                    label='glacier rock bed'\n",
    "                   ).opts(default_tools=default_tools,\n",
    "                          color='lightgray',\n",
    "                          line_alpha=0) * \n",
    "            hv.Curve((distance_along_glacier, np.repeat(0, np.size(distance_along_glacier))),\n",
    "                     'distance along glacier (km)',\n",
    "                    'width (m)',\n",
    "                     label='center Flowline'\n",
    "                    ).opts(default_tools=default_tools,\n",
    "                           color='black')\n",
    "           ).opts(ylim=(-np.max(widths) / 2 - wall, np.max(widths) / 2 + wall))"
   ]
  },
  {
   "cell_type": "markdown",
   "metadata": {},
   "source": [
    "main function for dynamic map"
   ]
  },
  {
   "cell_type": "code",
   "execution_count": null,
   "metadata": {},
   "outputs": [],
   "source": [
    "def change_plot(button_name='no', clicks=0):\n",
    "    # use global curves\n",
    "    global bed_rock_curve\n",
    "    global glacier_height_curve\n",
    "    global mb_curve\n",
    "    global width_curve\n",
    "    \n",
    "    if button_name=='no':\n",
    "        #initialisation of figure\n",
    "        bed_rock_curve = init_bed_rock()\n",
    "        mb_curve = get_mb_curve()\n",
    "        glacier_height_curve = get_glacier_height_curve()\n",
    "        width_curve = get_width_curve()\n",
    "        \n",
    "    \n",
    "    return ((glacier_height_curve * bed_rock_curve).opts(legend_position='bottom_left',\n",
    "                                                         xaxis='top',\n",
    "                                                         bgcolor='lightblue',\n",
    "                                                         frame_width=580) + \n",
    "            (mb_curve).opts(legend_position='bottom_right',\n",
    "                            xaxis='top',\n",
    "                            yaxis='right',\n",
    "                            frame_width=200) +\n",
    "            (width_curve).opts(frame_height=100,\n",
    "                               frame_width=580)\n",
    "           ).cols(2)"
   ]
  },
  {
   "cell_type": "markdown",
   "metadata": {},
   "source": [
    "streamer and dynamic map"
   ]
  },
  {
   "cell_type": "code",
   "execution_count": null,
   "metadata": {},
   "outputs": [],
   "source": [
    "main_stream = Stream.define('main_stream', button_name='no', clicks=0)\n",
    "\n",
    "main_figure = hv.DynamicMap(change_plot, streams=[main_stream()])"
   ]
  },
  {
   "cell_type": "markdown",
   "metadata": {},
   "source": [
    "new plot"
   ]
  },
  {
   "cell_type": "code",
   "execution_count": null,
   "metadata": {},
   "outputs": [],
   "source": [
    "pn.Column(pn.Row(bed_rock_panel, mb_panel),main_figure)"
   ]
  },
  {
   "cell_type": "code",
   "execution_count": null,
   "metadata": {},
   "outputs": [],
   "source": []
  }
 ],
 "metadata": {
  "kernelspec": {
   "display_name": "Python 3",
   "language": "python",
   "name": "python3"
  },
  "language_info": {
   "codemirror_mode": {
    "name": "ipython",
    "version": 3
   },
   "file_extension": ".py",
   "mimetype": "text/x-python",
   "name": "python",
   "nbconvert_exporter": "python",
   "pygments_lexer": "ipython3",
   "version": "3.6.7"
  }
 },
 "nbformat": 4,
 "nbformat_minor": 2
}
