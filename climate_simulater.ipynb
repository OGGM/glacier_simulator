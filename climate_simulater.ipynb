{
 "cells": [
  {
   "cell_type": "markdown",
   "metadata": {},
   "source": [
    "# OGGM glacier climate simulator"
   ]
  },
  {
   "cell_type": "markdown",
   "metadata": {},
   "source": [
    "App to initialize a simple glacier and look how it develops under changing climate settings."
   ]
  },
  {
   "cell_type": "markdown",
   "metadata": {},
   "source": [
    "## Import packages"
   ]
  },
  {
   "cell_type": "markdown",
   "metadata": {},
   "source": [
    "import plotting libaries"
   ]
  },
  {
   "cell_type": "code",
   "execution_count": null,
   "metadata": {},
   "outputs": [],
   "source": [
    "import holoviews as hv\n",
    "from holoviews import opts\n",
    "from holoviews.streams import Stream, param\n",
    "import panel as pn\n",
    "\n",
    "hv.extension('bokeh')\n",
    "pn.extension()"
   ]
  },
  {
   "cell_type": "markdown",
   "metadata": {},
   "source": [
    "import OGGM packages"
   ]
  },
  {
   "cell_type": "code",
   "execution_count": null,
   "metadata": {},
   "outputs": [],
   "source": [
    "# Constants for initialization\n",
    "from oggm import cfg\n",
    "cfg.initialize()\n",
    "\n",
    "# OGGM models\n",
    "from oggm.core.massbalance import LinearMassBalance\n",
    "from oggm.core.flowline import FluxBasedModel, RectangularBedFlowline, TrapezoidalBedFlowline, ParabolicBedFlowline\n",
    "\n",
    "# There are several solvers in OGGM core. We use the default one for this experiment\n",
    "from functools import partial\n",
    "FlowlineModel = partial(FluxBasedModel, min_dt=0, cfl_number=0.01)"
   ]
  },
  {
   "cell_type": "markdown",
   "metadata": {},
   "source": [
    "and some other useful packages"
   ]
  },
  {
   "cell_type": "code",
   "execution_count": null,
   "metadata": {},
   "outputs": [],
   "source": [
    "import numpy as np"
   ]
  },
  {
   "cell_type": "markdown",
   "metadata": {},
   "source": [
    "## Panel for initializing a simple glacier"
   ]
  },
  {
   "cell_type": "markdown",
   "metadata": {},
   "source": [
    "should contain geometry of the glacier bed, ..."
   ]
  },
  {
   "cell_type": "code",
   "execution_count": null,
   "metadata": {},
   "outputs": [],
   "source": [
    "# function for initializing a simple glacier\n",
    "def initializing_glacier_bed(arg=None):\n",
    "    #to do\n",
    "    return None"
   ]
  },
  {
   "cell_type": "markdown",
   "metadata": {},
   "source": [
    "defining some widgets"
   ]
  },
  {
   "cell_type": "code",
   "execution_count": null,
   "metadata": {},
   "outputs": [],
   "source": [
    "bed_shape = pn.widgets.Select(name='bed shape',\n",
    "                              options=['rectangular', 'trapezoidal', 'parabolic'])\n",
    "\n",
    "bed_rock_profile = pn.widgets.Select(name='bedrock profile',\n",
    "                                     options=['linear', 'decreasing', 'increasing', 'jump'])\n",
    "\n",
    "glacier_top = pn.widgets.DiscreteSlider(name='glacier top height',\n",
    "                                        options=list(np.arange(3000,4001,100)),\n",
    "                                        value=3500)\n",
    "\n",
    "glacier_bottom = pn.widgets.DiscreteSlider(name='glacier bottom height',\n",
    "                                           options=list(np.arange(1000,2001,100)),\n",
    "                                           value=1500)\n",
    "\n",
    "init_glacier_bed_button = pn.widgets.Button(name='initializing glacier bed',\n",
    "                                            button_type='primary')\n",
    "init_glacier_bed_button.param.watch(initializing_glacier_bed, 'clicks');"
   ]
  },
  {
   "cell_type": "markdown",
   "metadata": {},
   "source": [
    "put panel together and show it"
   ]
  },
  {
   "cell_type": "code",
   "execution_count": null,
   "metadata": {},
   "outputs": [],
   "source": [
    "bed_rock_panel = pn.Column(glacier_top, glacier_bottom, bed_shape, bed_rock_profile,\n",
    "                          init_glacier_bed_button)\n",
    "\n",
    "bed_rock_panel"
   ]
  },
  {
   "cell_type": "markdown",
   "metadata": {},
   "source": [
    "### Panel for modifying mass balance profile"
   ]
  },
  {
   "cell_type": "markdown",
   "metadata": {},
   "source": [
    "change ELA and gradient, as a climate parameter, later maybe change temperature and precipitation and convert this changes into a mass balance profile"
   ]
  },
  {
   "cell_type": "code",
   "execution_count": null,
   "metadata": {},
   "outputs": [],
   "source": []
  },
  {
   "cell_type": "markdown",
   "metadata": {},
   "source": [
    "### Create plot for mass balance profile (dynamic plot)"
   ]
  },
  {
   "cell_type": "markdown",
   "metadata": {},
   "source": [
    "showing current mass balance profile"
   ]
  },
  {
   "cell_type": "code",
   "execution_count": null,
   "metadata": {},
   "outputs": [],
   "source": []
  },
  {
   "cell_type": "markdown",
   "metadata": {},
   "source": [
    "### Create plot for glacier height (dynamic plot)"
   ]
  },
  {
   "cell_type": "markdown",
   "metadata": {},
   "source": [
    "showing surface glacier height, maybe also from the previous step,..."
   ]
  },
  {
   "cell_type": "code",
   "execution_count": null,
   "metadata": {},
   "outputs": [],
   "source": []
  },
  {
   "cell_type": "markdown",
   "metadata": {},
   "source": [
    "### Put Panels and plots together"
   ]
  },
  {
   "cell_type": "code",
   "execution_count": null,
   "metadata": {},
   "outputs": [],
   "source": []
  }
 ],
 "metadata": {
  "kernelspec": {
   "display_name": "Python 3",
   "language": "python",
   "name": "python3"
  },
  "language_info": {
   "codemirror_mode": {
    "name": "ipython",
    "version": 3
   },
   "file_extension": ".py",
   "mimetype": "text/x-python",
   "name": "python",
   "nbconvert_exporter": "python",
   "pygments_lexer": "ipython3",
   "version": "3.7.3"
  }
 },
 "nbformat": 4,
 "nbformat_minor": 2
}
